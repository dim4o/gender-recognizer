{
 "cells": [
  {
   "cell_type": "markdown",
   "metadata": {},
   "source": [
    "# Gender Classification"
   ]
  },
  {
   "cell_type": "markdown",
   "metadata": {},
   "source": [
    "## Introduction\n",
    "The aim of the article is to choose the best gender classification model between Logistic Regresson, Decision Tree Claifier, SVM and kNH algorithms. The particular thing about this is that we have relatively small data about famous public figures. We will also see how well the chosen model works for normal people like us. I suspect that the best model will be SVM, but let's see what happens."
   ]
  },
  {
   "cell_type": "markdown",
   "metadata": {},
   "source": [
    "## Table of content\n",
    "- [Introduction](#Introduction)\n",
    "- [Data processing](#Data-processing)\n",
    "    - [How to get the image dataset?](#How-to-get-the-image-dataset?)\n",
    "    - [Image data description](#Image-data-description)\n",
    "    - [Reducing the examples and balancing the data](#Reducing-the-examples-and-balancing-the-data)\n",
    "    - [Separating the data](#Separating-the-data)\n",
    "- [Dimensionality reduction](#Dimensionality-reduction)\n",
    "    - [Feature extraction](#Feature-extraction)\n",
    "    - [Feature selection](#Feature-selection)\n",
    "        - [Data normalization](#Data-normalization)\n",
    "        - [Chose the best features](#Chose-the-best-features)\n",
    "- [Model selection](#Model-selection)\n",
    "    - [Logistic Regression model](#Logistic-Regression-model)\n",
    "        - [Basic Logistic Regression](#Basic-Logistic-Regression)\n",
    "        - [Tune the Logistic Regression params](#Tune-the-Logistic-Regression-params)\n",
    "        - [Analyse the results](#Analyse-the-results)\n",
    "    - [Trees](#Trees)\n",
    "        - [Decision Tree classifier](#Decision-Tree-classifier)\n",
    "            - [Basic Decision Tree](#Basic-Decision-Tree)\n",
    "            - [Tune the Desicion Tree params](#Tune the Desicion Tree params)\n",
    "        - [Random Forest clasifier](#Random-Forest-Clasifier)\n",
    "            - [Basic Random Forest](#Basic-Random-Forest)\n",
    "            - [Tune Random Forest params](#Tune-Random-Forest-params)\n",
    "        - [Adaptive Boost](#Adaptive-Boost)\n",
    "            - [Basic Adaptive Boost](#Basic-Adaptive-Boost)\n",
    "            - [Tune the Adaptive Boost params](#Tune-the-Adaptive-Boost-params)\n",
    "        - [Chose the best tree model](#Chose the best tree model)\n",
    "    - [Train SVM model](#Train-SVM-model)\n",
    "        - [Basic Linear SVM model](#Basic-Linear-SVM-model)\n",
    "        - [Tune the Linear SVM model](#Tune-the-Linear-SVM-model)\n",
    "        - [Gaussian SVM model](#Gaussian-SVM-model)\n",
    "        - [Select the best SVM Model](Select-the-best-SVM Model)\n",
    "    - [Select the best model](#Select-the-best-model)\n",
    "- [Conclusion](#Conclusion)\n",
    "- [Demo](#Demo)"
   ]
  },
  {
   "cell_type": "markdown",
   "metadata": {},
   "source": [
    "I recommend you to install the `opencv` through `pip` because there is well known issues with the `conda` distribution - especially for Linux. The `opencv` library is used for the demo because of easy work with camera and haar faces."
   ]
  },
  {
   "cell_type": "code",
   "execution_count": 77,
   "metadata": {},
   "outputs": [
    {
     "name": "stdout",
     "output_type": "stream",
     "text": [
      "Requirement already satisfied: opencv-python in /home/dimcho/anaconda3/lib/python3.6/site-packages\r\n",
      "Requirement already satisfied: numpy>=1.11.3 in /home/dimcho/anaconda3/lib/python3.6/site-packages (from opencv-python)\r\n"
     ]
    }
   ],
   "source": [
    "#!conda remove --yes opencv\n",
    "!pip install opencv-python"
   ]
  },
  {
   "cell_type": "code",
   "execution_count": 1,
   "metadata": {},
   "outputs": [],
   "source": [
    "%matplotlib inline"
   ]
  },
  {
   "cell_type": "code",
   "execution_count": 2,
   "metadata": {},
   "outputs": [],
   "source": [
    "import os\n",
    "import urllib\n",
    "import tarfile\n",
    "import re\n",
    "from shutil import copyfile\n",
    "import random\n",
    "import time\n",
    "import itertools\n",
    "import pickle\n",
    "\n",
    "import matplotlib.pyplot as plt\n",
    "import pandas as pd\n",
    "import numpy as np\n",
    "import cv2\n",
    "import urllib\n",
    "\n",
    "from sklearn.pipeline import Pipeline\n",
    "from sklearn.preprocessing import MinMaxScaler, StandardScaler\n",
    "from sklearn.decomposition import PCA\n",
    "from sklearn.feature_selection import RFECV, SelectKBest, SelectPercentile\n",
    "from sklearn.model_selection import train_test_split, GridSearchCV, StratifiedKFold, learning_curve, ShuffleSplit\n",
    "from sklearn.linear_model import LogisticRegression\n",
    "from sklearn.svm import LinearSVC, SVC\n",
    "from sklearn.ensemble import RandomForestClassifier, AdaBoostClassifier\n",
    "from sklearn.tree import DecisionTreeClassifier, ExtraTreeClassifier\n",
    "from sklearn.metrics import f1_score, accuracy_score, classification_report\n",
    "from sklearn.metrics import confusion_matrix, roc_curve, roc_auc_score\n",
    "from sklearn.neighbors import KNeighborsClassifier"
   ]
  },
  {
   "cell_type": "code",
   "execution_count": 17,
   "metadata": {},
   "outputs": [],
   "source": [
    "np.random.seed(42)\n",
    "random.seed(42)"
   ]
  },
  {
   "cell_type": "markdown",
   "metadata": {},
   "source": [
    "## Data processing\n",
    "### How to get the image dataset?\n",
    "If you want to download end extract the image dataset you can run the cell bellow. It will automate the downloading and extracting the image data. Note that this is not very fact process. Alternatively you can download the image data from [here](http://vis-www.cs.umass.edu/lfw/lfw-funneled.tgz) and extract the `lfw-funneled.tar` file to `./faces_data/original_data/lfw-funneled` folder. On Windows for example you can use `7zip` extractor. Otherwise you can skip this part and downalod the generated `.csv` directly on the next section."
   ]
  },
  {
   "cell_type": "code",
   "execution_count": 80,
   "metadata": {
    "collapsed": true
   },
   "outputs": [
    {
     "name": "stdout",
     "output_type": "stream",
     "text": [
      "Downloading image data...\n"
     ]
    },
    {
     "ename": "AttributeError",
     "evalue": "module 'urllib' has no attribute 'urlretrieve'",
     "output_type": "error",
     "traceback": [
      "\u001b[0;31m---------------------------------------------------------------------------\u001b[0m",
      "\u001b[0;31mAttributeError\u001b[0m                            Traceback (most recent call last)",
      "\u001b[0;32m<ipython-input-80-9541a50984f2>\u001b[0m in \u001b[0;36m<module>\u001b[0;34m()\u001b[0m\n\u001b[1;32m      1\u001b[0m \u001b[0;31m# Downloads the  data\u001b[0m\u001b[0;34m\u001b[0m\u001b[0;34m\u001b[0m\u001b[0m\n\u001b[1;32m      2\u001b[0m \u001b[0mprint\u001b[0m\u001b[0;34m(\u001b[0m\u001b[0;34m\"Downloading image data...\"\u001b[0m\u001b[0;34m)\u001b[0m\u001b[0;34m\u001b[0m\u001b[0m\n\u001b[0;32m----> 3\u001b[0;31m \u001b[0mresponse\u001b[0m \u001b[0;34m=\u001b[0m \u001b[0murllib\u001b[0m\u001b[0;34m.\u001b[0m\u001b[0murlretrieve\u001b[0m\u001b[0;34m(\u001b[0m\u001b[0;34m\"http://vis-www.cs.umass.edu/lfw/lfw-funneled.tgz\"\u001b[0m\u001b[0;34m)\u001b[0m\u001b[0;34m\u001b[0m\u001b[0m\n\u001b[0m\u001b[1;32m      4\u001b[0m \u001b[0mtar_url\u001b[0m \u001b[0;34m=\u001b[0m \u001b[0mresponse\u001b[0m\u001b[0;34m[\u001b[0m\u001b[0;36m0\u001b[0m\u001b[0;34m]\u001b[0m\u001b[0;34m\u001b[0m\u001b[0m\n\u001b[1;32m      5\u001b[0m \u001b[0mprint\u001b[0m\u001b[0;34m(\u001b[0m\u001b[0;34m\"Image data downalod location: '{}'\"\u001b[0m\u001b[0;34m.\u001b[0m\u001b[0mformat\u001b[0m\u001b[0;34m(\u001b[0m\u001b[0mresponse\u001b[0m\u001b[0;34m)\u001b[0m\u001b[0;34m)\u001b[0m\u001b[0;34m\u001b[0m\u001b[0m\n",
      "\u001b[0;31mAttributeError\u001b[0m: module 'urllib' has no attribute 'urlretrieve'"
     ]
    }
   ],
   "source": [
    "# Downloads the  data\n",
    "print(\"Downloading image data...\")\n",
    "response = urllib.urlretrieve(\"http://vis-www.cs.umass.edu/lfw/lfw-funneled.tgz\")\n",
    "tar_url = response[0]\n",
    "print(\"Image data downalod location: '{}'\".format(response))"
   ]
  },
  {
   "cell_type": "code",
   "execution_count": null,
   "metadata": {},
   "outputs": [],
   "source": [
    "# Extracts the downloaded data to './faces_data/original_data/lfw-funneled' directory\n",
    "def extract(tar_url, extract_path=\".\"):\n",
    "    print(\"Source directory: '{}'\".format(tar_url))\n",
    "    print(\"Extracting to: '{}'\".format(extract_path))\n",
    "    tar = tarfile.open(tar_url, 'r')\n",
    "    for item in tar:\n",
    "        tar.extract(item, extract_path)\n",
    "        if item.name.find(\".tgz\") != -1 or item.name.find(\".tar\") != -1:\n",
    "            extract(item.name, \"./\" + item.name[:item.name.rfind('/')])         \n",
    "            \n",
    "extract(tar_url, \"./faces_data/original_data\")\n",
    "print 'Done.'"
   ]
  },
  {
   "cell_type": "code",
   "execution_count": null,
   "metadata": {},
   "outputs": [],
   "source": [
    "# Removes the downlaoded *.tar file\n",
    "try:\n",
    "    print(\"Removing '{}' ...\".format(tar_url))\n",
    "    os.remove(tar_url)\n",
    "except Exception as ex:\n",
    "    print(ex)"
   ]
  },
  {
   "cell_type": "markdown",
   "metadata": {},
   "source": [
    "## Image data description\n",
    "We have datacet with `~5700` persons. Each person is assosiated with a folders with several pictires. The all pictures are `~13200`. The folders are not labeled but we have files with the female names and male names, so we can label each image easy. Each picture has dimensions `250x250px`. \n",
    "`./faces_data/original_data/female_names.txt`  \n",
    "`./faces_data/original_data/male_names.txt`"
   ]
  },
  {
   "cell_type": "markdown",
   "metadata": {},
   "source": [
    "Here we will defice some constant. We will use `2900` samples for the females and the same amount for the males. The base image size is `40x40` the lables are: `female -> 0` and `male -> 1`."
   ]
  },
  {
   "cell_type": "code",
   "execution_count": 3,
   "metadata": {},
   "outputs": [],
   "source": [
    "NUMBER_OF_SAMPLES = 2900\n",
    "RESIZE_SHAPE = (40, 40) # (64, 64)\n",
    "FEMALE_CLASS = 0\n",
    "MALE_CLASS = 1"
   ]
  },
  {
   "cell_type": "markdown",
   "metadata": {},
   "source": [
    "Let's make some calculations and data visualization by labels and plot them:"
   ]
  },
  {
   "cell_type": "code",
   "execution_count": 4,
   "metadata": {},
   "outputs": [
    {
     "data": {
      "image/png": "[encoded data removed]",
      "text/plain": [
       "<matplotlib.figure.Figure at 0x7f9bd9802fd0>"
      ]
     },
     "metadata": {},
     "output_type": "display_data"
    },
    {
     "name": "stdout",
     "output_type": "stream",
     "text": [
      "Females: 2966\n",
      "Males: 10268\n"
     ]
    }
   ],
   "source": [
    "female_names_data = pd.read_csv('./faces_data/original_data/female_names.txt', header=None, sep='\\n')\n",
    "male_names_data = pd.read_csv('./faces_data/original_data/male_names.txt', header=None, sep='\\n')\n",
    "\n",
    "female_count = len(female_names_data)\n",
    "male_count = len(male_names_data)\n",
    "\n",
    "# plot diagram\n",
    "fig, ax = plt.subplots()\n",
    "colors = ['pink', 'blue']\n",
    "rectangles = ax.bar((1, 2), (female_count, male_count), color=colors, width=0.8)\n",
    "ax.xaxis.set_visible(False)\n",
    "ax.legend((rectangles[0], rectangles[1]), ('Females', 'Males'))\n",
    "plt.show()\n",
    "\n",
    "print(\"Females: {}\".format(female_count))\n",
    "print(\"Males: {}\".format(male_count))"
   ]
  },
  {
   "cell_type": "markdown",
   "metadata": {},
   "source": [
    "From the graph we can see that we have high unbalanced data. Furthermore we have we have a relatively large number of exmples and a huge number number of features `250*250=62500` and each feature has 3 component because the picture is colorful. With the components the features are `187500`! For this reason, I will make some suggestions and simplifications so that I can train my machine learning model on my processor for some tolerable period of time:\n",
    "- I can get rid of the unbalanced data and the large number of examples by making the women/men ratio ~50/50\n",
    "- I can reduce the huge number of features by making grayscale image and apply some image transformations. \n",
    "- In addition later I can use a feature selection algorithm to reduce the number of features.\n",
    "- I can perform data normalization because some algorihms works better with normalized data\n",
    "\n",
    "So there is something to be done. Let's get to work!"
   ]
  },
  {
   "cell_type": "markdown",
   "metadata": {},
   "source": [
    "TODO:\n",
    "In owr case we have a small set of traning examples $N \\sim 1000$ and relatively large large set of features $M \\sim 3000$ i.e. $N < M$. In this case it is assumed that а logistic regression or SVM without a kernel(linear SVM) will perform well."
   ]
  },
  {
   "cell_type": "markdown",
   "metadata": {},
   "source": [
    "### Reducing the examples and balancing the data\n",
    "We have more men than women, so we can take all women and we can randomly get the same number of men:"
   ]
  },
  {
   "cell_type": "code",
   "execution_count": 6,
   "metadata": {},
   "outputs": [
    {
     "name": "stdout",
     "output_type": "stream",
     "text": [
      "Females: 2900\n",
      "Males: 2900\n"
     ]
    }
   ],
   "source": [
    "female_names = female_names_data.get_values()[0:, 0]\n",
    "male_names = male_names_data.get_values()[0:, 0]\n",
    "\n",
    "female_names = random.sample(set(female_names), NUMBER_OF_SAMPLES)\n",
    "male_names = random.sample(set(male_names), NUMBER_OF_SAMPLES)\n",
    "\n",
    "print(\"Females: {}\".format(len(female_names)))\n",
    "print(\"Males: {}\".format(len(male_names)))"
   ]
  },
  {
   "cell_type": "code",
   "execution_count": 16,
   "metadata": {},
   "outputs": [
    {
     "name": "stdout",
     "output_type": "stream",
     "text": [
      "True\n"
     ]
    }
   ],
   "source": [
    "# test randomization\n",
    "female_names1 = random.sample(set(female_names), NUMBER_OF_SAMPLES)\n",
    "female_names2 = random.sample(set(female_names), NUMBER_OF_SAMPLES)\n",
    "\n",
    "print(len(set(female_names1) & set(female_names2)) == 2900)"
   ]
  },
  {
   "cell_type": "markdown",
   "metadata": {},
   "source": [
    "### Separating the data\n",
    "Let's create two folders where we will hold the representatives of the relevant classes:"
   ]
  },
  {
   "cell_type": "code",
   "execution_count": 84,
   "metadata": {},
   "outputs": [],
   "source": [
    "source_image_dir = \"./faces_data/original_data/lfw_funneled/\"\n",
    "directory_female = \"./faces_data/new_data/female/\"\n",
    "directory_male = \"./faces_data/new_data/male/\"\n",
    "if not os.path.exists(directory_female):\n",
    "    os.makedirs(directory_female)\n",
    "if not os.path.exists(directory_male):\n",
    "    os.makedirs(directory_male)"
   ]
  },
  {
   "cell_type": "code",
   "execution_count": 85,
   "metadata": {},
   "outputs": [],
   "source": [
    "def separate_data(face_names_data, source, destination):\n",
    "    for image_name in face_names_data:\n",
    "        name = re.match(\"([A-Za-z_-]+)_(\\d+.jpg)\", image_name)\n",
    "        if name is None:\n",
    "            print(\"Name: {}\".format(image_name))\n",
    "        name = name.group(1)    \n",
    "        path = source_image_dir + name + \"/\" + image_name\n",
    "#         if os.path.exists:\n",
    "#             print(path)\n",
    "        #print(path)\n",
    "        copyfile(path, destination + image_name)"
   ]
  },
  {
   "cell_type": "code",
   "execution_count": 86,
   "metadata": {},
   "outputs": [],
   "source": [
    "# separates the data\n",
    "separate_data(female_names, source_image_dir, directory_female)\n",
    "separate_data(male_names, source_image_dir, directory_male)"
   ]
  },
  {
   "cell_type": "code",
   "execution_count": 87,
   "metadata": {},
   "outputs": [
    {
     "name": "stdout",
     "output_type": "stream",
     "text": [
      "2900\n",
      "2900\n"
     ]
    }
   ],
   "source": [
    "# test print for the selected names\n",
    "female_image_names = os.listdir(\"./faces_data/new_data/female\")\n",
    "male_image_names = os.listdir(\"./faces_data/new_data/male\")\n",
    "print(len(female_image_names))\n",
    "print(len(male_image_names))"
   ]
  },
  {
   "cell_type": "markdown",
   "metadata": {},
   "source": [
    "## Dimensionality reduction"
   ]
  },
  {
   "cell_type": "markdown",
   "metadata": {},
   "source": [
    "### Feature selection"
   ]
  },
  {
   "cell_type": "markdown",
   "metadata": {},
   "source": [
    "Now I'll extract the features from the image following this actions:\n",
    "1. Get the original image\n",
    "2. Convet the image to garyscale\n",
    "3. Define the region of interests. Use haar faces to detect a face (if exist) on the image. If there is more than one faces, I'll get the square with the larger area.\n",
    "4. Crop the square from the gray image\n",
    "5. Apply gaussian kernel over the cripped image to reduce the noise.\n",
    "6. Resize the image to 40x40px  \n",
    "\n",
    "| | | |\n",
    "|: - :|: - :|: - :|\n",
    "|![original image](./markdown_res/Amelia_Vega_0001.jpg) | ![gray image](./markdown_res/Amelia_Vega_0001_gray.bmp) | ![face](./markdown_res/Amelia_Vega_0001_face.bmp) |\n",
    "| ![cropped face](./markdown_res/Amelia_Vega_0001_cropped.bmp) | ![resized face](./markdown_res/Amelia_Vega_0001_kernel.bmp) | ![resized face](./markdown_res/Amelia_Vega_0001_resized.bmp) |"
   ]
  },
  {
   "cell_type": "code",
   "execution_count": 88,
   "metadata": {},
   "outputs": [],
   "source": [
    "gender_faces_data = None\n",
    "gender_faces_data = np.empty(shape=(0,RESIZE_SHAPE[0]*RESIZE_SHAPE[1]+1)) #64*64+1\n",
    "face_cascade = cv2.CascadeClassifier('./faces_data/face.xml')\n",
    "\n",
    "def extract_features(image_path, label):\n",
    "    \"\"\" Extracts features from a image\n",
    "    :param image_path: the path to the image\n",
    "    :param label: the label of the image\n",
    "    :return: extracted features from the image with the corresponding label as a row matrix\n",
    "    \"\"\"\n",
    "    image = cv2.imread(image_path)\n",
    "    gray = cv2.cvtColor(image, cv2.COLOR_BGR2GRAY)\n",
    "    \n",
    "    row = None\n",
    "    faces = face_cascade.detectMultiScale(gray, 1.3, 5)\n",
    "    if faces is not ():\n",
    "        face = sorted(faces, key=lambda x: (x[2] * x[3]), reverse=True)[0]\n",
    "        x, y, width, height = face\n",
    "        face_gray = gray[y: y + height, x: x + width]\n",
    "        \n",
    "        # apply Gaussian kernel\n",
    "        kernel = np.ones((3,3),np.float32)/9\n",
    "        face_gray = cv2.filter2D(face_gray,-1,kernel)\n",
    "        \n",
    "        resized = cv2.resize(face_gray, dsize=RESIZE_SHAPE, interpolation=cv2.INTER_CUBIC)\n",
    "        row = np.append(resized.ravel(), label)\n",
    "\n",
    "    return row\n",
    "\n",
    "def append_data(prefix_path, label, gender_faces_data):\n",
    "    image_names = os.listdir(prefix_path)\n",
    "    for image_path in image_names:\n",
    "        # print(image_path)\n",
    "        curr_row = extract_features(prefix_path + image_path, label)\n",
    "        if curr_row is not None:\n",
    "            gender_faces_data = np.append(gender_faces_data, [curr_row], axis=0)\n",
    "        \n",
    "    return gender_faces_data  "
   ]
  },
  {
   "cell_type": "code",
   "execution_count": 89,
   "metadata": {},
   "outputs": [
    {
     "name": "stdout",
     "output_type": "stream",
     "text": [
      "(2737, 1601)\n",
      "(5487, 1601)\n"
     ]
    }
   ],
   "source": [
    "# Append the female faces\n",
    "gender_faces_data = append_data('./faces_data/new_data/female/', FEMALE_CLASS, gender_faces_data)\n",
    "female_data_shape = gender_faces_data.shape\n",
    "\n",
    "# Append the male faces\n",
    "gender_faces_data = append_data('./faces_data/new_data/male/', MALE_CLASS, gender_faces_data)\n",
    "male_data_shape = gender_faces_data.shape\n",
    "\n",
    "print(\"Female data shape: {}\".format(female_data_shape))\n",
    "print(\"Male data shape: {}\".format(male_data_shape))"
   ]
  },
  {
   "cell_type": "code",
   "execution_count": 90,
   "metadata": {
    "scrolled": true
   },
   "outputs": [
    {
     "data": {
      "text/plain": [
       "array([[ 40.,  32.,  26., ...,  87.,  86.,   1.],\n",
       "       [ 59.,  56.,  49., ...,  72.,  84.,   0.],\n",
       "       [ 29.,   6.,  13., ..., 105., 200.,   0.],\n",
       "       ...,\n",
       "       [ 38.,  56.,  68., ...,  29.,  34.,   1.],\n",
       "       [ 12.,  15.,  17., ...,  12.,  11.,   1.],\n",
       "       [188., 188., 188., ..., 108., 173.,   1.]])"
      ]
     },
     "execution_count": 90,
     "metadata": {},
     "output_type": "execute_result"
    }
   ],
   "source": [
    "# Suffle the data\n",
    "np.random.shuffle(gender_faces_data)\n",
    "gender_faces_data"
   ]
  },
  {
   "cell_type": "markdown",
   "metadata": {},
   "source": [
    "Now the data for the model is generated. The only thing left is to keep it in a file:"
   ]
  },
  {
   "cell_type": "code",
   "execution_count": 91,
   "metadata": {},
   "outputs": [],
   "source": [
    "np.savetxt(\"./faces_data/genders_data_40x40_large_2.csv\", gender_faces_data.astype(np.int), delimiter=\",\")"
   ]
  },
  {
   "cell_type": "markdown",
   "metadata": {},
   "source": [
    "### Feature extraction"
   ]
  },
  {
   "cell_type": "code",
   "execution_count": 5,
   "metadata": {},
   "outputs": [
    {
     "name": "stdout",
     "output_type": "stream",
     "text": [
      "Downloading a dataset...\n",
      "Dataset downalod location: './faces_data/genders_data_40x40_large_2.csv'\n"
     ]
    },
    {
     "data": {
      "text/html": [
       "<div>\n",
       "<style scoped>\n",
       "    .dataframe tbody tr th:only-of-type {\n",
       "        vertical-align: middle;\n",
       "    }\n",
       "\n",
       "    .dataframe tbody tr th {\n",
       "        vertical-align: top;\n",
       "    }\n",
       "\n",
       "    .dataframe thead th {\n",
       "        text-align: right;\n",
       "    }\n",
       "</style>\n",
       "<table border=\"1\" class=\"dataframe\">\n",
       "  <thead>\n",
       "    <tr style=\"text-align: right;\">\n",
       "      <th></th>\n",
       "      <th>0</th>\n",
       "      <th>1</th>\n",
       "      <th>2</th>\n",
       "      <th>3</th>\n",
       "      <th>4</th>\n",
       "      <th>5</th>\n",
       "      <th>6</th>\n",
       "      <th>7</th>\n",
       "      <th>8</th>\n",
       "      <th>9</th>\n",
       "      <th>...</th>\n",
       "      <th>1591</th>\n",
       "      <th>1592</th>\n",
       "      <th>1593</th>\n",
       "      <th>1594</th>\n",
       "      <th>1595</th>\n",
       "      <th>1596</th>\n",
       "      <th>1597</th>\n",
       "      <th>1598</th>\n",
       "      <th>1599</th>\n",
       "      <th>1600</th>\n",
       "    </tr>\n",
       "  </thead>\n",
       "  <tbody>\n",
       "    <tr>\n",
       "      <th>0</th>\n",
       "      <td>40.0</td>\n",
       "      <td>32.0</td>\n",
       "      <td>26.0</td>\n",
       "      <td>23.0</td>\n",
       "      <td>21.0</td>\n",
       "      <td>22.0</td>\n",
       "      <td>29.0</td>\n",
       "      <td>67.0</td>\n",
       "      <td>84.0</td>\n",
       "      <td>67.0</td>\n",
       "      <td>...</td>\n",
       "      <td>106.0</td>\n",
       "      <td>93.0</td>\n",
       "      <td>93.0</td>\n",
       "      <td>94.0</td>\n",
       "      <td>92.0</td>\n",
       "      <td>92.0</td>\n",
       "      <td>90.0</td>\n",
       "      <td>87.0</td>\n",
       "      <td>86.0</td>\n",
       "      <td>1.0</td>\n",
       "    </tr>\n",
       "    <tr>\n",
       "      <th>1</th>\n",
       "      <td>59.0</td>\n",
       "      <td>56.0</td>\n",
       "      <td>49.0</td>\n",
       "      <td>40.0</td>\n",
       "      <td>40.0</td>\n",
       "      <td>46.0</td>\n",
       "      <td>61.0</td>\n",
       "      <td>80.0</td>\n",
       "      <td>109.0</td>\n",
       "      <td>119.0</td>\n",
       "      <td>...</td>\n",
       "      <td>196.0</td>\n",
       "      <td>173.0</td>\n",
       "      <td>178.0</td>\n",
       "      <td>200.0</td>\n",
       "      <td>192.0</td>\n",
       "      <td>162.0</td>\n",
       "      <td>60.0</td>\n",
       "      <td>72.0</td>\n",
       "      <td>84.0</td>\n",
       "      <td>0.0</td>\n",
       "    </tr>\n",
       "    <tr>\n",
       "      <th>2</th>\n",
       "      <td>29.0</td>\n",
       "      <td>6.0</td>\n",
       "      <td>13.0</td>\n",
       "      <td>26.0</td>\n",
       "      <td>9.0</td>\n",
       "      <td>4.0</td>\n",
       "      <td>5.0</td>\n",
       "      <td>30.0</td>\n",
       "      <td>62.0</td>\n",
       "      <td>106.0</td>\n",
       "      <td>...</td>\n",
       "      <td>87.0</td>\n",
       "      <td>17.0</td>\n",
       "      <td>22.0</td>\n",
       "      <td>57.0</td>\n",
       "      <td>68.0</td>\n",
       "      <td>65.0</td>\n",
       "      <td>55.0</td>\n",
       "      <td>105.0</td>\n",
       "      <td>200.0</td>\n",
       "      <td>0.0</td>\n",
       "    </tr>\n",
       "    <tr>\n",
       "      <th>3</th>\n",
       "      <td>79.0</td>\n",
       "      <td>83.0</td>\n",
       "      <td>86.0</td>\n",
       "      <td>86.0</td>\n",
       "      <td>87.0</td>\n",
       "      <td>86.0</td>\n",
       "      <td>81.0</td>\n",
       "      <td>64.0</td>\n",
       "      <td>29.0</td>\n",
       "      <td>70.0</td>\n",
       "      <td>...</td>\n",
       "      <td>67.0</td>\n",
       "      <td>93.0</td>\n",
       "      <td>100.0</td>\n",
       "      <td>108.0</td>\n",
       "      <td>119.0</td>\n",
       "      <td>133.0</td>\n",
       "      <td>134.0</td>\n",
       "      <td>131.0</td>\n",
       "      <td>161.0</td>\n",
       "      <td>1.0</td>\n",
       "    </tr>\n",
       "    <tr>\n",
       "      <th>4</th>\n",
       "      <td>29.0</td>\n",
       "      <td>28.0</td>\n",
       "      <td>32.0</td>\n",
       "      <td>53.0</td>\n",
       "      <td>75.0</td>\n",
       "      <td>66.0</td>\n",
       "      <td>60.0</td>\n",
       "      <td>70.0</td>\n",
       "      <td>71.0</td>\n",
       "      <td>70.0</td>\n",
       "      <td>...</td>\n",
       "      <td>143.0</td>\n",
       "      <td>82.0</td>\n",
       "      <td>12.0</td>\n",
       "      <td>24.0</td>\n",
       "      <td>34.0</td>\n",
       "      <td>43.0</td>\n",
       "      <td>45.0</td>\n",
       "      <td>40.0</td>\n",
       "      <td>34.0</td>\n",
       "      <td>1.0</td>\n",
       "    </tr>\n",
       "  </tbody>\n",
       "</table>\n",
       "<p>5 rows × 1601 columns</p>\n",
       "</div>"
      ],
      "text/plain": [
       "   0     1     2     3     4     5     6     7      8      9     ...    1591  \\\n",
       "0  40.0  32.0  26.0  23.0  21.0  22.0  29.0  67.0   84.0   67.0  ...   106.0   \n",
       "1  59.0  56.0  49.0  40.0  40.0  46.0  61.0  80.0  109.0  119.0  ...   196.0   \n",
       "2  29.0   6.0  13.0  26.0   9.0   4.0   5.0  30.0   62.0  106.0  ...    87.0   \n",
       "3  79.0  83.0  86.0  86.0  87.0  86.0  81.0  64.0   29.0   70.0  ...    67.0   \n",
       "4  29.0  28.0  32.0  53.0  75.0  66.0  60.0  70.0   71.0   70.0  ...   143.0   \n",
       "\n",
       "    1592   1593   1594   1595   1596   1597   1598   1599  1600  \n",
       "0   93.0   93.0   94.0   92.0   92.0   90.0   87.0   86.0   1.0  \n",
       "1  173.0  178.0  200.0  192.0  162.0   60.0   72.0   84.0   0.0  \n",
       "2   17.0   22.0   57.0   68.0   65.0   55.0  105.0  200.0   0.0  \n",
       "3   93.0  100.0  108.0  119.0  133.0  134.0  131.0  161.0   1.0  \n",
       "4   82.0   12.0   24.0   34.0   43.0   45.0   40.0   34.0   1.0  \n",
       "\n",
       "[5 rows x 1601 columns]"
      ]
     },
     "execution_count": 5,
     "metadata": {},
     "output_type": "execute_result"
    }
   ],
   "source": [
    "dataset_file = \"./faces_data/genders_data_40x40_large_2.csv\"\n",
    "if not os.path.exists(dataset_file):\n",
    "    # Downloads the  data\n",
    "    print(\"Downloading a dataset...\")\n",
    "    response = urllib.request.urlretrieve(\n",
    "        \"https://www.dropbox.com/s/5rp97ixw8a85v1t/genders_data_40x40_large_2.csv?dl=1\", dataset_file)\n",
    "    print(\"Dataset downalod location: '{}'\".format(response[0]))\n",
    "\n",
    "gender_faces_data = pd.read_csv(dataset_file, sep=',', header=None)\n",
    "gender_faces_data.head()"
   ]
  },
  {
   "cell_type": "markdown",
   "metadata": {},
   "source": [
    "#### Data normalization\n",
    "It is better to normalize the data before trying diffrent feature selection algorihms"
   ]
  },
  {
   "cell_type": "code",
   "execution_count": 6,
   "metadata": {},
   "outputs": [
    {
     "name": "stdout",
     "output_type": "stream",
     "text": [
      "(5487, 1600)\n",
      "(5487,)\n",
      "[1. 0. 0. ... 1. 1. 1.]\n"
     ]
    }
   ],
   "source": [
    "# get features\n",
    "features = gender_faces_data.as_matrix()[:, :RESIZE_SHAPE[0]*RESIZE_SHAPE[1]]\n",
    "print(features.shape)\n",
    "\n",
    "# get labels\n",
    "labels = gender_faces_data.as_matrix()[:, RESIZE_SHAPE[0]*RESIZE_SHAPE[1]:].ravel() # labels = gender_faces_data.as_matrix()[:, 50*50:].ravel()\n",
    "print(labels.shape)\n",
    "print(labels)"
   ]
  },
  {
   "cell_type": "code",
   "execution_count": 95,
   "metadata": {},
   "outputs": [
    {
     "name": "stdout",
     "output_type": "stream",
     "text": [
      "Females count: 2737\n",
      "Males count: 2750\n",
      "{0.0: 2737, 1.0: 2750}\n"
     ]
    }
   ],
   "source": [
    "# scale the data with the StandardScaler algorithm\n",
    "\n",
    "# scaler = StandardScaler()\n",
    "# scaler.fit(features)\n",
    "# features = scaler.transform(features)\n",
    "# features\n",
    "\n",
    "# calculates the final counts\n",
    "unique, count = np.unique(labels, return_counts=True)\n",
    "print(\"Females count: {}\".format(count[0]))\n",
    "print(\"Males count: {}\".format(count[1]))\n",
    "# out = np.histogram(labels, bins=labels)\n",
    "print(dict(zip(unique, count)))\n",
    "\n",
    "# TRAIN TEST SPLIT\n",
    "# features_train, features_test, labels_train, labels_test = train_test_split(\n",
    "#     features, labels, train_size=0.7, test_size=0.3, random_state=42)\n"
   ]
  },
  {
   "cell_type": "markdown",
   "metadata": {},
   "source": [
    "#### Chose the best features\n",
    "It is dificult to find the best `PCA` parameters but I can make very rough approximations with something like grid search."
   ]
  },
  {
   "cell_type": "code",
   "execution_count": 96,
   "metadata": {},
   "outputs": [],
   "source": [
    "# pca = PCA(n_components=200)\n",
    "# pca.fit(features)\n",
    "# reduced_features = pca.transform(features)\n",
    "# reduced_features.shape\n",
    "\n",
    "# features_train, features_test, labels_train, labels_test = train_test_split(\n",
    "#         reduced_features, labels, train_size=0.7, test_size=0.3, random_state=0)\n",
    "\n",
    "# logistic_regression = LogisticRegression() # C=0.001\n",
    "# logistic_regression.fit(features_train, labels_train)\n",
    "\n",
    "# print(logistic_regression.score(features_test, labels_test))\n",
    "# print(logistic_regression.score(features_train, labels_train))"
   ]
  },
  {
   "cell_type": "code",
   "execution_count": 97,
   "metadata": {},
   "outputs": [
    {
     "name": "stdout",
     "output_type": "stream",
     "text": [
      "Features shape: (5487, 1600)\n",
      "Reducing features to 80 ...\n",
      "    train_score: 0.8390625\n",
      "    test_score: 0.8318154219793564\n",
      "Reducing features to 140 ...\n",
      "    train_score: 0.8572916666666667\n",
      "    test_score: 0.840922890103218\n",
      "Reducing features to 200 ...\n",
      "    train_score: 0.8559895833333333\n",
      "    test_score: 0.8421372191863995\n",
      "Reducing features to 260 ...\n",
      "    train_score: 0.8580729166666666\n",
      "    test_score: 0.8397085610200364\n",
      "Reducing features to 320 ...\n",
      "    train_score: 0.8598958333333333\n",
      "    test_score: 0.8397085610200364\n",
      "Reducing features to 380 ...\n",
      "    train_score: 0.8598958333333333\n",
      "    test_score: 0.8427443837279903\n",
      "Reducing features to 440 ...\n",
      "    train_score: 0.8614583333333333\n",
      "    test_score: 0.8421372191863995\n",
      "Reducing features to 1000 ...\n",
      "    train_score: 0.8630208333333333\n",
      "    test_score: 0.8421372191863995\n",
      "Finished.\n"
     ]
    }
   ],
   "source": [
    "print(\"Features shape: {}\".format(features.shape))\n",
    "features_counts = [80, 140, 200, 260, 320, 380, 440, 1000]\n",
    "test_scores = []\n",
    "train_scores = []\n",
    "for f_count in features_counts:\n",
    "    print(\"Reducing features to {} ...\".format(f_count))\n",
    "    pca = PCA(n_components=f_count)\n",
    "\n",
    "    pca.fit(features)\n",
    "    reduced_features = pca.transform(features)\n",
    "    \n",
    "    features_train, features_test, labels_train, labels_test = train_test_split(\n",
    "        reduced_features, labels, train_size=0.7, test_size=0.3, random_state=0)\n",
    "    #print(reduced_features.shape)\n",
    "    \n",
    "    #labels = labels.reshape((len(labels), 1)) # \n",
    "    #print(labels.shape)\n",
    "    \n",
    "    logistic_regression = LogisticRegression(C=0.001) # C=0.001\n",
    "    logistic_regression.fit(features_train, labels_train)\n",
    "    \n",
    "    test_score = logistic_regression.score(features_test, labels_test)\n",
    "    train_score = logistic_regression.score(features_train, labels_train)\n",
    "    \n",
    "    print(\"    train_score: {}\".format(train_score))\n",
    "    print(\"    test_score: {}\".format(test_score))\n",
    "    \n",
    "    test_scores.append(test_score)\n",
    "    train_scores.append(train_score)\n",
    "    \n",
    "print(\"Finished.\")\n",
    "    \n",
    "# features_train, features_test, labels_train, labels_test = train_test_split(\n",
    "#     features, labels, train_size=0.7, test_size=0.3, random_state=0)\n",
    "\n",
    "# logistic_regression = LogisticRegression() # C=0.001\n",
    "# logistic_regression.fit(features_train, labels_train)\n",
    "\n",
    "# features_counts.append(1600)\n",
    "# test_scores.append(logistic_regression.score(features_test, labels_test))\n",
    "# train_scores.append(logistic_regression.score(features_train, labels_train))\n",
    "    \n",
    "# pca = PCA(n_components=100)\n",
    "# pca.fit(features)\n",
    "# rediced_features = pca.transform(features)\n",
    "# rediced_features.shape"
   ]
  },
  {
   "cell_type": "code",
   "execution_count": 98,
   "metadata": {},
   "outputs": [
    {
     "data": {
      "image/png": "[encoded data removed]",
      "text/plain": [
       "<matplotlib.figure.Figure at 0x7f4e65982898>"
      ]
     },
     "metadata": {},
     "output_type": "display_data"
    }
   ],
   "source": [
    "plt.plot(features_counts, test_scores)\n",
    "plt.plot(features_counts, train_scores)\n",
    "plt.legend([\"test_score\", \"train score\"])\n",
    "plt.xlabel(\"number of components\")\n",
    "plt.ylabel(\"accuracy score\")\n",
    "plt.show()"
   ]
  },
  {
   "cell_type": "markdown",
   "metadata": {},
   "source": [
    "I know that this type of calculation can be misleading because I have not applied cross validation and grid rearch for the best parameters. However, they may be a very general reference and correspond to what I have identified with many attempts. So `n_components=200` is a good choice."
   ]
  },
  {
   "cell_type": "markdown",
   "metadata": {},
   "source": [
    "#### Eigenfaces\n",
    "Let's see what the computer actually sees:"
   ]
  },
  {
   "cell_type": "code",
   "execution_count": 655,
   "metadata": {},
   "outputs": [
    {
     "data": {
      "image/png": "[encoded data removed]",
      "text/plain": [
       "<matplotlib.figure.Figure at 0x7f4e2eabb470>"
      ]
     },
     "metadata": {},
     "output_type": "display_data"
    }
   ],
   "source": [
    "eigenface_scaler = StandardScaler()\n",
    "eigenface_features = scaler.fit_transform(features)\n",
    "\n",
    "fig = plt.figure(figsize=(16, 6))\n",
    "pca_eigenface = PCA(n_components=200, whiten=True)\n",
    "pca_eigenface.fit(eigenface_features)\n",
    "\n",
    "for i in range(30):\n",
    "    ax = fig.add_subplot(3, 10, i + 1, xticks=[], yticks=[])\n",
    "    plt.imshow(pca_eigenface.components_[i].reshape((40,40)), cmap=plt.cm.bone)"
   ]
  },
  {
   "cell_type": "markdown",
   "metadata": {},
   "source": [
    "## Train Logistic Regression model\n",
    "Try Lasso Regression with panalty $L1$ to reduce the number of the features. My intuition suggests that you can reduce the number of dimensions to get a simple model. For example, the features that are at the edges of the images should definitely not have any weight for recognizing the gender. But let's see if intuition lied to me."
   ]
  },
  {
   "cell_type": "code",
   "execution_count": 272,
   "metadata": {},
   "outputs": [
    {
     "name": "stdout",
     "output_type": "stream",
     "text": [
      "(5487, 1601)\n"
     ]
    },
    {
     "data": {
      "text/html": [
       "<div>\n",
       "<style scoped>\n",
       "    .dataframe tbody tr th:only-of-type {\n",
       "        vertical-align: middle;\n",
       "    }\n",
       "\n",
       "    .dataframe tbody tr th {\n",
       "        vertical-align: top;\n",
       "    }\n",
       "\n",
       "    .dataframe thead th {\n",
       "        text-align: right;\n",
       "    }\n",
       "</style>\n",
       "<table border=\"1\" class=\"dataframe\">\n",
       "  <thead>\n",
       "    <tr style=\"text-align: right;\">\n",
       "      <th></th>\n",
       "      <th>0</th>\n",
       "      <th>1</th>\n",
       "      <th>2</th>\n",
       "      <th>3</th>\n",
       "      <th>4</th>\n",
       "      <th>5</th>\n",
       "      <th>6</th>\n",
       "      <th>7</th>\n",
       "      <th>8</th>\n",
       "      <th>9</th>\n",
       "      <th>...</th>\n",
       "      <th>1591</th>\n",
       "      <th>1592</th>\n",
       "      <th>1593</th>\n",
       "      <th>1594</th>\n",
       "      <th>1595</th>\n",
       "      <th>1596</th>\n",
       "      <th>1597</th>\n",
       "      <th>1598</th>\n",
       "      <th>1599</th>\n",
       "      <th>1600</th>\n",
       "    </tr>\n",
       "  </thead>\n",
       "  <tbody>\n",
       "    <tr>\n",
       "      <th>0</th>\n",
       "      <td>40.0</td>\n",
       "      <td>32.0</td>\n",
       "      <td>26.0</td>\n",
       "      <td>23.0</td>\n",
       "      <td>21.0</td>\n",
       "      <td>22.0</td>\n",
       "      <td>29.0</td>\n",
       "      <td>67.0</td>\n",
       "      <td>84.0</td>\n",
       "      <td>67.0</td>\n",
       "      <td>...</td>\n",
       "      <td>106.0</td>\n",
       "      <td>93.0</td>\n",
       "      <td>93.0</td>\n",
       "      <td>94.0</td>\n",
       "      <td>92.0</td>\n",
       "      <td>92.0</td>\n",
       "      <td>90.0</td>\n",
       "      <td>87.0</td>\n",
       "      <td>86.0</td>\n",
       "      <td>1.0</td>\n",
       "    </tr>\n",
       "    <tr>\n",
       "      <th>1</th>\n",
       "      <td>59.0</td>\n",
       "      <td>56.0</td>\n",
       "      <td>49.0</td>\n",
       "      <td>40.0</td>\n",
       "      <td>40.0</td>\n",
       "      <td>46.0</td>\n",
       "      <td>61.0</td>\n",
       "      <td>80.0</td>\n",
       "      <td>109.0</td>\n",
       "      <td>119.0</td>\n",
       "      <td>...</td>\n",
       "      <td>196.0</td>\n",
       "      <td>173.0</td>\n",
       "      <td>178.0</td>\n",
       "      <td>200.0</td>\n",
       "      <td>192.0</td>\n",
       "      <td>162.0</td>\n",
       "      <td>60.0</td>\n",
       "      <td>72.0</td>\n",
       "      <td>84.0</td>\n",
       "      <td>0.0</td>\n",
       "    </tr>\n",
       "    <tr>\n",
       "      <th>2</th>\n",
       "      <td>29.0</td>\n",
       "      <td>6.0</td>\n",
       "      <td>13.0</td>\n",
       "      <td>26.0</td>\n",
       "      <td>9.0</td>\n",
       "      <td>4.0</td>\n",
       "      <td>5.0</td>\n",
       "      <td>30.0</td>\n",
       "      <td>62.0</td>\n",
       "      <td>106.0</td>\n",
       "      <td>...</td>\n",
       "      <td>87.0</td>\n",
       "      <td>17.0</td>\n",
       "      <td>22.0</td>\n",
       "      <td>57.0</td>\n",
       "      <td>68.0</td>\n",
       "      <td>65.0</td>\n",
       "      <td>55.0</td>\n",
       "      <td>105.0</td>\n",
       "      <td>200.0</td>\n",
       "      <td>0.0</td>\n",
       "    </tr>\n",
       "    <tr>\n",
       "      <th>3</th>\n",
       "      <td>79.0</td>\n",
       "      <td>83.0</td>\n",
       "      <td>86.0</td>\n",
       "      <td>86.0</td>\n",
       "      <td>87.0</td>\n",
       "      <td>86.0</td>\n",
       "      <td>81.0</td>\n",
       "      <td>64.0</td>\n",
       "      <td>29.0</td>\n",
       "      <td>70.0</td>\n",
       "      <td>...</td>\n",
       "      <td>67.0</td>\n",
       "      <td>93.0</td>\n",
       "      <td>100.0</td>\n",
       "      <td>108.0</td>\n",
       "      <td>119.0</td>\n",
       "      <td>133.0</td>\n",
       "      <td>134.0</td>\n",
       "      <td>131.0</td>\n",
       "      <td>161.0</td>\n",
       "      <td>1.0</td>\n",
       "    </tr>\n",
       "    <tr>\n",
       "      <th>4</th>\n",
       "      <td>29.0</td>\n",
       "      <td>28.0</td>\n",
       "      <td>32.0</td>\n",
       "      <td>53.0</td>\n",
       "      <td>75.0</td>\n",
       "      <td>66.0</td>\n",
       "      <td>60.0</td>\n",
       "      <td>70.0</td>\n",
       "      <td>71.0</td>\n",
       "      <td>70.0</td>\n",
       "      <td>...</td>\n",
       "      <td>143.0</td>\n",
       "      <td>82.0</td>\n",
       "      <td>12.0</td>\n",
       "      <td>24.0</td>\n",
       "      <td>34.0</td>\n",
       "      <td>43.0</td>\n",
       "      <td>45.0</td>\n",
       "      <td>40.0</td>\n",
       "      <td>34.0</td>\n",
       "      <td>1.0</td>\n",
       "    </tr>\n",
       "  </tbody>\n",
       "</table>\n",
       "<p>5 rows × 1601 columns</p>\n",
       "</div>"
      ],
      "text/plain": [
       "   0     1     2     3     4     5     6     7      8      9     ...    1591  \\\n",
       "0  40.0  32.0  26.0  23.0  21.0  22.0  29.0  67.0   84.0   67.0  ...   106.0   \n",
       "1  59.0  56.0  49.0  40.0  40.0  46.0  61.0  80.0  109.0  119.0  ...   196.0   \n",
       "2  29.0   6.0  13.0  26.0   9.0   4.0   5.0  30.0   62.0  106.0  ...    87.0   \n",
       "3  79.0  83.0  86.0  86.0  87.0  86.0  81.0  64.0   29.0   70.0  ...    67.0   \n",
       "4  29.0  28.0  32.0  53.0  75.0  66.0  60.0  70.0   71.0   70.0  ...   143.0   \n",
       "\n",
       "    1592   1593   1594   1595   1596   1597   1598   1599  1600  \n",
       "0   93.0   93.0   94.0   92.0   92.0   90.0   87.0   86.0   1.0  \n",
       "1  173.0  178.0  200.0  192.0  162.0   60.0   72.0   84.0   0.0  \n",
       "2   17.0   22.0   57.0   68.0   65.0   55.0  105.0  200.0   0.0  \n",
       "3   93.0  100.0  108.0  119.0  133.0  134.0  131.0  161.0   1.0  \n",
       "4   82.0   12.0   24.0   34.0   43.0   45.0   40.0   34.0   1.0  \n",
       "\n",
       "[5 rows x 1601 columns]"
      ]
     },
     "execution_count": 272,
     "metadata": {},
     "output_type": "execute_result"
    }
   ],
   "source": [
    "gender_faces_data = pd.read_csv('./faces_data/genders_data_40x40_large_2.csv', sep=',', header=None)\n",
    "\n",
    "print(gender_faces_data.shape)\n",
    "gender_faces_data.head()"
   ]
  },
  {
   "cell_type": "code",
   "execution_count": 273,
   "metadata": {},
   "outputs": [
    {
     "name": "stdout",
     "output_type": "stream",
     "text": [
      "(5487, 1600)\n"
     ]
    }
   ],
   "source": [
    "features = gender_faces_data.as_matrix()[:, :RESIZE_SHAPE[0]*RESIZE_SHAPE[1]] #features = gender_faces_data[:, :50*50] # features = gender_faces_data.as_matrix()[:, :50*50]\n",
    "print(features.shape)"
   ]
  },
  {
   "cell_type": "code",
   "execution_count": 274,
   "metadata": {},
   "outputs": [
    {
     "name": "stdout",
     "output_type": "stream",
     "text": [
      "(5487,)\n",
      "[1. 0. 0. ... 1. 1. 1.]\n"
     ]
    }
   ],
   "source": [
    "labels = gender_faces_data.as_matrix()[:, RESIZE_SHAPE[0]*RESIZE_SHAPE[1]:].ravel() # labels = gender_faces_data.as_matrix()[:, 50*50:].ravel()\n",
    "print(labels.shape)\n",
    "print(labels)"
   ]
  },
  {
   "cell_type": "markdown",
   "metadata": {},
   "source": [
    "## Model selection"
   ]
  },
  {
   "cell_type": "markdown",
   "metadata": {},
   "source": [
    "### Define an util functions"
   ]
  },
  {
   "cell_type": "code",
   "execution_count": 10,
   "metadata": {},
   "outputs": [],
   "source": [
    "def plot_roc_curve(estimator, features_test, labels_test, title):\n",
    "    \"\"\" Plots ROC curve\"\"\"\n",
    "    logit_roc_auc = roc_auc_score(labels_test, estimator.predict(features_test))\n",
    "    false_positive_rate, true_positive_rate, thresholds = roc_curve(\n",
    "        labels_test, estimator.predict_proba(features_test)[:,1])\n",
    "    plt.figure()\n",
    "    plt.plot(false_positive_rate, true_positive_rate, label='{} (area = {:0.2f})'.format(title, logit_roc_auc))\n",
    "    plt.plot([0, 1], [0, 1],'r--')\n",
    "    plt.xlim([0.0, 1.0])\n",
    "    plt.ylim([0.0, 1.05])\n",
    "    plt.xlabel('False Positive Rate')\n",
    "    plt.ylabel('True Positive Rate')\n",
    "    plt.title('Receiver operating characteristic')\n",
    "    plt.legend(loc=\"lower right\")\n",
    "    plt.savefig('Log_ROC')\n",
    "    return plt"
   ]
  },
  {
   "cell_type": "code",
   "execution_count": 11,
   "metadata": {},
   "outputs": [],
   "source": [
    "def print_grid_search_results(grid_search_pipeline, splits):\n",
    "    \"\"\" Prints reformated version of the cv_results_\n",
    "    :param grid_search_pipeline: grid_search estimator\n",
    "    :param splits: the number of the kFold splits\n",
    "    :return: table with parameters\n",
    "    \"\"\"\n",
    "    results = pd.DataFrame(grid_search_pipeline.cv_results_)\n",
    "    results = results.drop(['mean_fit_time', 'mean_score_time', 'std_fit_time', 'std_score_time', 'params'], axis=1)\n",
    "    columns = columns={\"param_pca__n_components\": \"param_pca\", \"param_classifier__C\": \"param_C\", \n",
    "                       \"mean_test_score\": \"mean_test\",\"mean_train_score\": \"mean_train\", \"rank_test_score\": \n",
    "                       \"rank_test\", \"param_clf__n_estimators\": \"n_estimators\"}\n",
    "    for i in range(0, splits):\n",
    "        columns[\"split\" + str(i) + \"_train_score\"]=\"split\" + str(i) + \"_train\"\n",
    "        columns[\"split\" + str(i) + \"_test_score\"]=\"split\" + str(i) + \"_test\"\n",
    "    results = results.rename(columns=columns)\n",
    "    results.sort_values(by='rank_test')\n",
    "    return results.head(len(grid_search_pipeline.cv_results_['params']))"
   ]
  },
  {
   "cell_type": "code",
   "execution_count": 12,
   "metadata": {},
   "outputs": [],
   "source": [
    "def plot_learning_curve(estimator, title, X, y, ylim=None, cv=None,\n",
    "                        n_jobs=1, train_sizes=np.linspace(.1, 1.0, 5)):\n",
    "    \"\"\"\n",
    "    Generate a simple plot of the test and training learning curve.\n",
    "    For more info see the origanl documtation here: \n",
    "    http://scikit-learn.org/stable/auto_examples/model_selection/plot_learning_curve.html\n",
    "    \"\"\"\n",
    "    plt.figure()\n",
    "    plt.title(title)\n",
    "    if ylim is not None:\n",
    "        plt.ylim(*ylim)\n",
    "    plt.xlabel(\"Training examples\")\n",
    "    plt.ylabel(\"Score\")\n",
    "    train_sizes, train_scores, test_scores = learning_curve(\n",
    "        estimator, X, y, cv=cv, n_jobs=n_jobs, train_sizes=train_sizes)\n",
    "    train_scores_mean = np.mean(train_scores, axis=1)\n",
    "    train_scores_std = np.std(train_scores, axis=1)\n",
    "    test_scores_mean = np.mean(test_scores, axis=1)\n",
    "    test_scores_std = np.std(test_scores, axis=1)\n",
    "    plt.grid()\n",
    "\n",
    "    plt.fill_between(train_sizes, train_scores_mean - train_scores_std,\n",
    "                     train_scores_mean + train_scores_std, alpha=0.1,\n",
    "                     color=\"r\")\n",
    "    plt.fill_between(train_sizes, test_scores_mean - test_scores_std,\n",
    "                     test_scores_mean + test_scores_std, alpha=0.1, color=\"g\")\n",
    "    plt.plot(train_sizes, train_scores_mean, 'o-', color=\"r\",\n",
    "             label=\"Training score\")\n",
    "    plt.plot(train_sizes, test_scores_mean, 'o-', color=\"g\",\n",
    "             label=\"Cross-validation score\")\n",
    "\n",
    "    plt.legend(loc=\"best\")\n",
    "    return plt"
   ]
  },
  {
   "cell_type": "code",
   "execution_count": 13,
   "metadata": {},
   "outputs": [],
   "source": [
    "def plot_confusion_matrix(cm, classes,\n",
    "                          normalize=False,\n",
    "                          title='Confusion matrix',\n",
    "                          cmap=plt.cm.Blues):\n",
    "    \"\"\"\n",
    "    This function prints and plots the confusion matrix.\n",
    "    Normalization can be applied by setting `normalize=True`.\n",
    "    \"\"\"\n",
    "#     if normalize:\n",
    "#         cm = cm.astype('float') / cm.sum(axis=1)[:, np.newaxis]\n",
    "#         print(\"Normalized confusion matrix\")\n",
    "#     else:\n",
    "#         print('Confusion matrix, without normalization')\n",
    "\n",
    "#     print(cm)\n",
    "\n",
    "    plt.imshow(cm, interpolation='nearest', cmap=cmap)\n",
    "    plt.title(title)\n",
    "    plt.colorbar()\n",
    "    tick_marks = np.arange(len(classes))\n",
    "    plt.xticks(tick_marks, classes, rotation=45)\n",
    "    plt.yticks(tick_marks, classes)\n",
    "\n",
    "    fmt = '.2f' if normalize else 'd'\n",
    "    thresh = cm.max() / 2.\n",
    "    for i, j in itertools.product(range(cm.shape[0]), range(cm.shape[1])):\n",
    "        plt.text(j, i, format(cm[i, j], fmt),\n",
    "                 horizontalalignment=\"center\",\n",
    "                 color=\"white\" if cm[i, j] > thresh else \"black\")\n",
    "\n",
    "    plt.tight_layout()\n",
    "    plt.ylabel('True label')\n",
    "    plt.xlabel('Predicted label')"
   ]
  },
  {
   "cell_type": "markdown",
   "metadata": {},
   "source": [
    "### Logistic Regression model"
   ]
  },
  {
   "cell_type": "markdown",
   "metadata": {},
   "source": [
    "#### Basic Logistic Regression\n",
    "I will create a `pipeline` for the models because it is convenient to use not only during training but also during the use of the model. I can simply call `pipeline_model.predict(...)` and it will handle the `PCA` and `Scaler` transformations for the input data. It is therefore a prerequisite for fewer mistakes. On the other hand, invoking `PCA` and `Scaler` every time when creating each model will reduce performance. But for the purposes of this study, this is not so important."
   ]
  },
  {
   "cell_type": "code",
   "execution_count": 14,
   "metadata": {},
   "outputs": [],
   "source": [
    "# split the data to train and test set\n",
    "features_train, features_test, labels_train, labels_test = train_test_split(\n",
    "    features, labels, train_size=0.7, test_size=0.3, random_state=42)"
   ]
  },
  {
   "cell_type": "code",
   "execution_count": 15,
   "metadata": {},
   "outputs": [],
   "source": [
    "# creates a pipeline for Logistic Regression\n",
    "logistic_regression_pipe = None\n",
    "logistic_regression = LogisticRegression(random_state=42)\n",
    "logistic_regression_pipe = Pipeline(steps=[('scaler_before', StandardScaler()), \n",
    "                          ('pca', PCA(n_components=150)),\n",
    "                          ('scaler_after', StandardScaler()),\n",
    "                          ('classifier', logistic_regression)])"
   ]
  },
  {
   "cell_type": "code",
   "execution_count": 16,
   "metadata": {
    "scrolled": true
   },
   "outputs": [
    {
     "data": {
      "text/plain": [
       "Pipeline(memory=None,\n",
       "     steps=[('scaler_before', StandardScaler(copy=True, with_mean=True, with_std=True)), ('pca', PCA(copy=True, iterated_power='auto', n_components=150, random_state=None,\n",
       "  svd_solver='auto', tol=0.0, whiten=False)), ('scaler_after', StandardScaler(copy=True, with_mean=True, with_std=True)), ('classifie...alty='l2', random_state=42, solver='liblinear', tol=0.0001,\n",
       "          verbose=0, warm_start=False))])"
      ]
     },
     "execution_count": 16,
     "metadata": {},
     "output_type": "execute_result"
    }
   ],
   "source": [
    "# fit the basic Logistic Regression model\n",
    "logistic_regression_pipe.fit(features_train, labels_train)"
   ]
  },
  {
   "cell_type": "code",
   "execution_count": 17,
   "metadata": {
    "scrolled": true
   },
   "outputs": [
    {
     "name": "stdout",
     "output_type": "stream",
     "text": [
      "Basic logistic regression test accuracy score: 0.83970856102\n",
      "Basic logistic regression train accuracy score: 0.863541666667\n",
      "Basic logistic regression F1 score: 0.841726618705\n"
     ]
    }
   ],
   "source": [
    "print(\"Basic logistic regression test accuracy score: {}\".format(\n",
    "    logistic_regression_pipe.score(features_test, labels_test)))\n",
    "print(\"Basic logistic regression train accuracy score: {}\".format(\n",
    "    logistic_regression_pipe.score(features_train, labels_train)))\n",
    "print(\"Basic logistic regression F1 score: {}\".format(\n",
    "    f1_score(labels_test, logistic_regression_pipe.predict(features_test))))\n",
    "# Basic logistic regression test accuracy score: 0.8439587128111719\n",
    "# Basic logistic regression train accuracy score: 0.8669270833333333\n",
    "# Basic logistic regression F1 score: 0.8458308338332333"
   ]
  },
  {
   "cell_type": "markdown",
   "metadata": {},
   "source": [
    "The result seems fairly good but we need to check whether this is due to the separation of data (see the difference between the train score and the test score). Moreover we also need to look for better parameters. So we have to make `kFold cross validation` and `grid search`."
   ]
  },
  {
   "cell_type": "markdown",
   "metadata": {},
   "source": [
    "#### Tune the Logistic Regression params"
   ]
  },
  {
   "cell_type": "code",
   "execution_count": 18,
   "metadata": {},
   "outputs": [
    {
     "data": {
      "text/plain": [
       "GridSearchCV(cv=StratifiedKFold(n_splits=8, random_state=None, shuffle=False),\n",
       "       error_score='raise',\n",
       "       estimator=Pipeline(memory=None,\n",
       "     steps=[('scaler_before', StandardScaler(copy=True, with_mean=True, with_std=True)), ('pca', PCA(copy=True, iterated_power='auto', n_components=150, random_state=None,\n",
       "  svd_solver='auto', tol=0.0, whiten=False)), ('scaler_after', StandardScaler(copy=True, with_mean=True, with_std=True)), ('classifie...alty='l2', random_state=42, solver='liblinear', tol=0.0001,\n",
       "          verbose=0, warm_start=False))]),\n",
       "       fit_params=None, iid=True, n_jobs=1,\n",
       "       param_grid={'pca__n_components': [150, 200], 'classifier__C': [0.0001, 0.001, 0.01, 1]},\n",
       "       pre_dispatch='2*n_jobs', refit=True, return_train_score=True,\n",
       "       scoring=None, verbose=0)"
      ]
     },
     "execution_count": 18,
     "metadata": {},
     "output_type": "execute_result"
    }
   ],
   "source": [
    "# split the data to train and test set\n",
    "features_train, features_test, labels_train, labels_test = train_test_split(\n",
    "    features, labels, train_size=0.7, test_size=0.3, random_state=12345)\n",
    "\n",
    "params = dict(classifier__C=[0.0001, 0.001, 0.01, 1], # [0.0001, 0.001, 0.01, 1]\n",
    "              #classifier__penalty=['l1', 'l2'],\n",
    "              pca__n_components=[150, 200])\n",
    "\n",
    "# init kFold validation\n",
    "kfold = StratifiedKFold(n_splits=8)\n",
    "\n",
    "# Grid search for the best Logistic Regression parameters\n",
    "grid_search_logistic_regresion = GridSearchCV(\n",
    "    logistic_regression_pipe, param_grid=params, cv=kfold, return_train_score=True)\n",
    "\n",
    "grid_search_logistic_regresion.fit(features_train, labels_train)"
   ]
  },
  {
   "cell_type": "code",
   "execution_count": 19,
   "metadata": {},
   "outputs": [
    {
     "data": {
      "text/plain": [
       "{'classifier__C': 0.01, 'pca__n_components': 150}"
      ]
     },
     "execution_count": 19,
     "metadata": {},
     "output_type": "execute_result"
    }
   ],
   "source": [
    "grid_search_logistic_regresion.best_params_\n",
    "# {'classifier__C': 0.01, 'pca__n_components': 150}"
   ]
  },
  {
   "cell_type": "code",
   "execution_count": 20,
   "metadata": {},
   "outputs": [
    {
     "name": "stdout",
     "output_type": "stream",
     "text": [
      "Logistic Regression Grid Search best score: 0.84921875\n"
     ]
    }
   ],
   "source": [
    "print(\"Logistic Regression Grid Search best score: {}\".format(grid_search_logistic_regresion.best_score_))\n",
    "# Logistic Regression Grid Search best score: 0.8486979166666667"
   ]
  },
  {
   "cell_type": "code",
   "execution_count": 21,
   "metadata": {
    "scrolled": false
   },
   "outputs": [
    {
     "data": {
      "text/html": [
       "<div>\n",
       "<style scoped>\n",
       "    .dataframe tbody tr th:only-of-type {\n",
       "        vertical-align: middle;\n",
       "    }\n",
       "\n",
       "    .dataframe tbody tr th {\n",
       "        vertical-align: top;\n",
       "    }\n",
       "\n",
       "    .dataframe thead th {\n",
       "        text-align: right;\n",
       "    }\n",
       "</style>\n",
       "<table border=\"1\" class=\"dataframe\">\n",
       "  <thead>\n",
       "    <tr style=\"text-align: right;\">\n",
       "      <th></th>\n",
       "      <th>mean_test</th>\n",
       "      <th>mean_train</th>\n",
       "      <th>param_C</th>\n",
       "      <th>param_pca</th>\n",
       "      <th>rank_test</th>\n",
       "      <th>split0_test</th>\n",
       "      <th>split0_train</th>\n",
       "      <th>split1_test</th>\n",
       "      <th>split1_train</th>\n",
       "      <th>split2_test</th>\n",
       "      <th>...</th>\n",
       "      <th>split4_test</th>\n",
       "      <th>split4_train</th>\n",
       "      <th>split5_test</th>\n",
       "      <th>split5_train</th>\n",
       "      <th>split6_test</th>\n",
       "      <th>split6_train</th>\n",
       "      <th>split7_test</th>\n",
       "      <th>split7_train</th>\n",
       "      <th>std_test_score</th>\n",
       "      <th>std_train_score</th>\n",
       "    </tr>\n",
       "  </thead>\n",
       "  <tbody>\n",
       "    <tr>\n",
       "      <th>0</th>\n",
       "      <td>0.843229</td>\n",
       "      <td>0.866332</td>\n",
       "      <td>0.0001</td>\n",
       "      <td>150</td>\n",
       "      <td>5</td>\n",
       "      <td>0.848233</td>\n",
       "      <td>0.866032</td>\n",
       "      <td>0.833333</td>\n",
       "      <td>0.861607</td>\n",
       "      <td>0.820833</td>\n",
       "      <td>...</td>\n",
       "      <td>0.860417</td>\n",
       "      <td>0.867262</td>\n",
       "      <td>0.829167</td>\n",
       "      <td>0.868750</td>\n",
       "      <td>0.854167</td>\n",
       "      <td>0.866071</td>\n",
       "      <td>0.843424</td>\n",
       "      <td>0.867004</td>\n",
       "      <td>0.013262</td>\n",
       "      <td>0.002211</td>\n",
       "    </tr>\n",
       "    <tr>\n",
       "      <th>1</th>\n",
       "      <td>0.843229</td>\n",
       "      <td>0.871019</td>\n",
       "      <td>0.0001</td>\n",
       "      <td>200</td>\n",
       "      <td>5</td>\n",
       "      <td>0.837838</td>\n",
       "      <td>0.868711</td>\n",
       "      <td>0.847917</td>\n",
       "      <td>0.873214</td>\n",
       "      <td>0.816667</td>\n",
       "      <td>...</td>\n",
       "      <td>0.850000</td>\n",
       "      <td>0.874702</td>\n",
       "      <td>0.831250</td>\n",
       "      <td>0.874107</td>\n",
       "      <td>0.856250</td>\n",
       "      <td>0.869345</td>\n",
       "      <td>0.845511</td>\n",
       "      <td>0.869384</td>\n",
       "      <td>0.013305</td>\n",
       "      <td>0.002867</td>\n",
       "    </tr>\n",
       "    <tr>\n",
       "      <th>2</th>\n",
       "      <td>0.846615</td>\n",
       "      <td>0.866629</td>\n",
       "      <td>0.001</td>\n",
       "      <td>150</td>\n",
       "      <td>3</td>\n",
       "      <td>0.841996</td>\n",
       "      <td>0.867222</td>\n",
       "      <td>0.835417</td>\n",
       "      <td>0.861310</td>\n",
       "      <td>0.833333</td>\n",
       "      <td>...</td>\n",
       "      <td>0.864583</td>\n",
       "      <td>0.865179</td>\n",
       "      <td>0.831250</td>\n",
       "      <td>0.869345</td>\n",
       "      <td>0.858333</td>\n",
       "      <td>0.865179</td>\n",
       "      <td>0.847599</td>\n",
       "      <td>0.866706</td>\n",
       "      <td>0.012303</td>\n",
       "      <td>0.002812</td>\n",
       "    </tr>\n",
       "    <tr>\n",
       "      <th>3</th>\n",
       "      <td>0.842969</td>\n",
       "      <td>0.871056</td>\n",
       "      <td>0.001</td>\n",
       "      <td>200</td>\n",
       "      <td>8</td>\n",
       "      <td>0.846154</td>\n",
       "      <td>0.867818</td>\n",
       "      <td>0.845833</td>\n",
       "      <td>0.871726</td>\n",
       "      <td>0.827083</td>\n",
       "      <td>...</td>\n",
       "      <td>0.850000</td>\n",
       "      <td>0.874107</td>\n",
       "      <td>0.829167</td>\n",
       "      <td>0.872619</td>\n",
       "      <td>0.843750</td>\n",
       "      <td>0.872321</td>\n",
       "      <td>0.849687</td>\n",
       "      <td>0.871169</td>\n",
       "      <td>0.008940</td>\n",
       "      <td>0.003072</td>\n",
       "    </tr>\n",
       "    <tr>\n",
       "      <th>4</th>\n",
       "      <td>0.849219</td>\n",
       "      <td>0.867336</td>\n",
       "      <td>0.01</td>\n",
       "      <td>150</td>\n",
       "      <td>1</td>\n",
       "      <td>0.852391</td>\n",
       "      <td>0.868413</td>\n",
       "      <td>0.837500</td>\n",
       "      <td>0.864286</td>\n",
       "      <td>0.837500</td>\n",
       "      <td>...</td>\n",
       "      <td>0.856250</td>\n",
       "      <td>0.866964</td>\n",
       "      <td>0.831250</td>\n",
       "      <td>0.870833</td>\n",
       "      <td>0.858333</td>\n",
       "      <td>0.866071</td>\n",
       "      <td>0.860125</td>\n",
       "      <td>0.867599</td>\n",
       "      <td>0.011092</td>\n",
       "      <td>0.002204</td>\n",
       "    </tr>\n",
       "    <tr>\n",
       "      <th>5</th>\n",
       "      <td>0.846094</td>\n",
       "      <td>0.872061</td>\n",
       "      <td>0.01</td>\n",
       "      <td>200</td>\n",
       "      <td>4</td>\n",
       "      <td>0.858628</td>\n",
       "      <td>0.870497</td>\n",
       "      <td>0.850000</td>\n",
       "      <td>0.871429</td>\n",
       "      <td>0.827083</td>\n",
       "      <td>...</td>\n",
       "      <td>0.845833</td>\n",
       "      <td>0.876786</td>\n",
       "      <td>0.831250</td>\n",
       "      <td>0.872619</td>\n",
       "      <td>0.854167</td>\n",
       "      <td>0.871429</td>\n",
       "      <td>0.845511</td>\n",
       "      <td>0.871467</td>\n",
       "      <td>0.010742</td>\n",
       "      <td>0.002912</td>\n",
       "    </tr>\n",
       "    <tr>\n",
       "      <th>6</th>\n",
       "      <td>0.847396</td>\n",
       "      <td>0.867522</td>\n",
       "      <td>1</td>\n",
       "      <td>150</td>\n",
       "      <td>2</td>\n",
       "      <td>0.850312</td>\n",
       "      <td>0.866627</td>\n",
       "      <td>0.833333</td>\n",
       "      <td>0.863095</td>\n",
       "      <td>0.831250</td>\n",
       "      <td>...</td>\n",
       "      <td>0.856250</td>\n",
       "      <td>0.869048</td>\n",
       "      <td>0.839583</td>\n",
       "      <td>0.870536</td>\n",
       "      <td>0.862500</td>\n",
       "      <td>0.867262</td>\n",
       "      <td>0.851775</td>\n",
       "      <td>0.865814</td>\n",
       "      <td>0.010604</td>\n",
       "      <td>0.002207</td>\n",
       "    </tr>\n",
       "    <tr>\n",
       "      <th>7</th>\n",
       "      <td>0.843229</td>\n",
       "      <td>0.871317</td>\n",
       "      <td>1</td>\n",
       "      <td>200</td>\n",
       "      <td>5</td>\n",
       "      <td>0.856549</td>\n",
       "      <td>0.868413</td>\n",
       "      <td>0.845833</td>\n",
       "      <td>0.872024</td>\n",
       "      <td>0.831250</td>\n",
       "      <td>...</td>\n",
       "      <td>0.843750</td>\n",
       "      <td>0.870833</td>\n",
       "      <td>0.829167</td>\n",
       "      <td>0.872321</td>\n",
       "      <td>0.852083</td>\n",
       "      <td>0.871429</td>\n",
       "      <td>0.843424</td>\n",
       "      <td>0.871467</td>\n",
       "      <td>0.008695</td>\n",
       "      <td>0.002268</td>\n",
       "    </tr>\n",
       "  </tbody>\n",
       "</table>\n",
       "<p>8 rows × 23 columns</p>\n",
       "</div>"
      ],
      "text/plain": [
       "   mean_test  mean_train param_C param_pca  rank_test  split0_test  \\\n",
       "0   0.843229    0.866332  0.0001       150          5     0.848233   \n",
       "1   0.843229    0.871019  0.0001       200          5     0.837838   \n",
       "2   0.846615    0.866629   0.001       150          3     0.841996   \n",
       "3   0.842969    0.871056   0.001       200          8     0.846154   \n",
       "4   0.849219    0.867336    0.01       150          1     0.852391   \n",
       "5   0.846094    0.872061    0.01       200          4     0.858628   \n",
       "6   0.847396    0.867522       1       150          2     0.850312   \n",
       "7   0.843229    0.871317       1       200          5     0.856549   \n",
       "\n",
       "   split0_train  split1_test  split1_train  split2_test       ...         \\\n",
       "0      0.866032     0.833333      0.861607     0.820833       ...          \n",
       "1      0.868711     0.847917      0.873214     0.816667       ...          \n",
       "2      0.867222     0.835417      0.861310     0.833333       ...          \n",
       "3      0.867818     0.845833      0.871726     0.827083       ...          \n",
       "4      0.868413     0.837500      0.864286     0.837500       ...          \n",
       "5      0.870497     0.850000      0.871429     0.827083       ...          \n",
       "6      0.866627     0.833333      0.863095     0.831250       ...          \n",
       "7      0.868413     0.845833      0.872024     0.831250       ...          \n",
       "\n",
       "   split4_test  split4_train  split5_test  split5_train  split6_test  \\\n",
       "0     0.860417      0.867262     0.829167      0.868750     0.854167   \n",
       "1     0.850000      0.874702     0.831250      0.874107     0.856250   \n",
       "2     0.864583      0.865179     0.831250      0.869345     0.858333   \n",
       "3     0.850000      0.874107     0.829167      0.872619     0.843750   \n",
       "4     0.856250      0.866964     0.831250      0.870833     0.858333   \n",
       "5     0.845833      0.876786     0.831250      0.872619     0.854167   \n",
       "6     0.856250      0.869048     0.839583      0.870536     0.862500   \n",
       "7     0.843750      0.870833     0.829167      0.872321     0.852083   \n",
       "\n",
       "   split6_train  split7_test  split7_train  std_test_score  std_train_score  \n",
       "0      0.866071     0.843424      0.867004        0.013262         0.002211  \n",
       "1      0.869345     0.845511      0.869384        0.013305         0.002867  \n",
       "2      0.865179     0.847599      0.866706        0.012303         0.002812  \n",
       "3      0.872321     0.849687      0.871169        0.008940         0.003072  \n",
       "4      0.866071     0.860125      0.867599        0.011092         0.002204  \n",
       "5      0.871429     0.845511      0.871467        0.010742         0.002912  \n",
       "6      0.867262     0.851775      0.865814        0.010604         0.002207  \n",
       "7      0.871429     0.843424      0.871467        0.008695         0.002268  \n",
       "\n",
       "[8 rows x 23 columns]"
      ]
     },
     "execution_count": 21,
     "metadata": {},
     "output_type": "execute_result"
    }
   ],
   "source": [
    "print_grid_search_results(grid_search_logistic_regresion, splits=8)\n",
    "# grid_search_logistic_regresion.param_grid\n",
    "# grid_search_logistic_regresion.cv_results_"
   ]
  },
  {
   "cell_type": "markdown",
   "metadata": {},
   "source": [
    "#### Analyse the Logistic Regression results\n",
    "Let's plot some graphs. This would help us to estimate what our algorithm suffers in a more intuitive way.\n",
    "##### Learning curve\n",
    "The `Learning curve` would help us figure out if our algorithm suffers from a **high bias** or **high variance**"
   ]
  },
  {
   "cell_type": "code",
   "execution_count": 27,
   "metadata": {
    "scrolled": true
   },
   "outputs": [
    {
     "data": {
      "image/png": "[encoded data removed]",
      "text/plain": [
       "<matplotlib.figure.Figure at 0xd41b430>"
      ]
     },
     "metadata": {},
     "output_type": "display_data"
    }
   ],
   "source": [
    "title = \"Learning Curves (Logistic Regression)\"\n",
    "# Cross validation with 100 iterations to get smoother mean test and train\n",
    "# score curves, each time with 20% data randomly selected as a validation set.\n",
    "cv = ShuffleSplit(n_splits=100, test_size=0.9, random_state=0)\n",
    "\n",
    "scaler = StandardScaler()\n",
    "scaled_features = scaler.fit_transform(features)\n",
    "pca = PCA(n_components=150)\n",
    "pca_features = pca.fit_transform(scaled_features)\n",
    "\n",
    "estimator = LogisticRegression(C=0.001)\n",
    "#estimator.fit(features_test, labels_test)\n",
    "plot_learning_curve(estimator, title, pca_features, labels, ylim=(0.4, 2.), cv=cv, n_jobs=4)\n",
    "print(plt.rcParams[\"figure.figsize\"])\n",
    "plt.rcParams[\"figure.figsize\"] = (10, 6)\n",
    "plt.show()"
   ]
  },
  {
   "cell_type": "markdown",
   "metadata": {},
   "source": [
    "It can be seen from the figure above that with appropriate regulation and an increase in the number of samples, we can reduce the **varince** between test data and train data significantly but we can not achieve a score greater than `0.85`. This means that in order to achieve better results we may increase the **bias**."
   ]
  },
  {
   "cell_type": "markdown",
   "metadata": {},
   "source": [
    "##### Confusion matrix"
   ]
  },
  {
   "cell_type": "code",
   "execution_count": 28,
   "metadata": {},
   "outputs": [
    {
     "data": {
      "image/png": "[encoded data removed]",
      "text/plain": [
       "<matplotlib.figure.Figure at 0xd2cb910>"
      ]
     },
     "metadata": {},
     "output_type": "display_data"
    }
   ],
   "source": [
    "cnf_matrix = confusion_matrix(labels_test, grid_search_logistic_regresion.best_estimator_.predict(features_test))\n",
    "np.set_printoptions(precision=2)\n",
    "\n",
    "# Plot non-normalized confusion matrix\n",
    "plt.figure()\n",
    "plot_confusion_matrix(cnf_matrix, classes=np.array([\"Males\", \"Females\"]), \n",
    "                      title='Confusion matrix, without normalization', normalize=True)\n",
    "plt.rcParams[\"figure.figsize\"] = (8, 5)\n",
    "plt.show()"
   ]
  },
  {
   "cell_type": "markdown",
   "metadata": {},
   "source": [
    "The matrix shows that our classifier tends to classify some men as women more than vice versa (Nowadays, there are no real men...). Maybe the content of more images with men on the original set is not accidental. It is possible to deal with this problem if we take more males's samples from the original data."
   ]
  },
  {
   "cell_type": "markdown",
   "metadata": {},
   "source": [
    "##### ROC Curve"
   ]
  },
  {
   "cell_type": "code",
   "execution_count": 29,
   "metadata": {},
   "outputs": [
    {
     "data": {
      "image/png": "[encoded data removed]",
      "text/plain": [
       "<matplotlib.figure.Figure at 0x4cf0dd0>"
      ]
     },
     "metadata": {},
     "output_type": "display_data"
    }
   ],
   "source": [
    "estimator = grid_search_logistic_regresion.best_estimator_\n",
    "roc = plot_roc_curve(estimator, features_test, labels_test, title=\"Logistic Regression\")\n",
    "roc.show()"
   ]
  },
  {
   "cell_type": "markdown",
   "metadata": {},
   "source": [
    "### Train SVM model"
   ]
  },
  {
   "cell_type": "markdown",
   "metadata": {},
   "source": [
    "#### Basic Linear SVM model"
   ]
  },
  {
   "cell_type": "code",
   "execution_count": 30,
   "metadata": {},
   "outputs": [],
   "source": [
    "np.random.rand(12345)\n",
    "features_train, features_test, labels_train, labels_test = train_test_split(\n",
    "    features, labels, train_size=0.7, test_size=0.3, random_state=12345)"
   ]
  },
  {
   "cell_type": "code",
   "execution_count": 31,
   "metadata": {},
   "outputs": [
    {
     "data": {
      "text/plain": [
       "Pipeline(memory=None,\n",
       "     steps=[('scl', StandardScaler(copy=True, with_mean=True, with_std=True)), ('pca', PCA(copy=True, iterated_power='auto', n_components=200, random_state=42,\n",
       "  svd_solver='auto', tol=0.0, whiten=False)), ('scl_2', StandardScaler(copy=True, with_mean=True, with_std=True)), ('clf', LinearSVC(C=1.0, class_weight=None, dual=True, fit_intercept=True,\n",
       "     intercept_scaling=1, loss='squared_hinge', max_iter=1000,\n",
       "     multi_class='ovr', penalty='l2', random_state=42, tol=0.0001,\n",
       "     verbose=0))])"
      ]
     },
     "execution_count": 31,
     "metadata": {},
     "output_type": "execute_result"
    }
   ],
   "source": [
    "linear_svm = LinearSVC(random_state=42)\n",
    "linear_svm_pipeline = Pipeline(steps=[('scl', StandardScaler()), \n",
    "                               ('pca', PCA(n_components=200, random_state=42)),\n",
    "                               ('scl_2', StandardScaler()),\n",
    "                               ('clf', linear_svm)])\n",
    "\n",
    "linear_svm_pipeline.fit(features_train, labels_train)"
   ]
  },
  {
   "cell_type": "code",
   "execution_count": 32,
   "metadata": {},
   "outputs": [
    {
     "name": "stdout",
     "output_type": "stream",
     "text": [
      "Train score: 0.87109375\n",
      "Test score: 0.842744383728\n",
      "Diff score: 0.028349366272\n"
     ]
    }
   ],
   "source": [
    "print(\"Train score: {}\".format(linear_svm_pipeline.score(features_train, labels_train)))\n",
    "print(\"Test score: {}\".format(linear_svm_pipeline.score(features_test, labels_test)))\n",
    "print(\"Diff score: {}\".format(\n",
    "    linear_svm_pipeline.score(features_train, labels_train) - linear_svm_pipeline.score(features_test, labels_test)))\n",
    "# Train score: 0.8671875\n",
    "# Test score: 0.8457802064359441\n",
    "# Diff score: 0.021407293564055907"
   ]
  },
  {
   "cell_type": "markdown",
   "metadata": {},
   "source": [
    "The difference between the train score and test score is relatively high and the train score is very high. That means high variance and/or imbalanced data between the training set and the test set. So we need to perform k-Fold coross validation with stratification and grid search to to evaluate the variance and the best parameters for this algorithm with the concrete amount of training data."
   ]
  },
  {
   "cell_type": "markdown",
   "metadata": {},
   "source": [
    "#### Tune the Linear SVM model"
   ]
  },
  {
   "cell_type": "code",
   "execution_count": 33,
   "metadata": {},
   "outputs": [],
   "source": [
    "# unique, count = np.unique(labels_train, return_counts=True)\n",
    "# print(\"Females count: {}\".format(count[0]))\n",
    "# print(\"Males count: {}\".format(count[1]))\n",
    "# # out = np.histogram(labels, bins=labels)\n",
    "# print(dict(zip(unique, count)))"
   ]
  },
  {
   "cell_type": "code",
   "execution_count": 34,
   "metadata": {
    "scrolled": true
   },
   "outputs": [],
   "source": [
    "linear_svm_params = dict(clf__C = [0.0001, 0.001, 1], pca__n_components=[150, 200]) # clf__C =0.00001, 0.0001, 0.001, clf__dual = [True, False]\n",
    "kfold = StratifiedKFold(n_splits=7)\n",
    "grid_search_linear_svm = GridSearchCV(\n",
    "    linear_svm_pipeline, param_grid=linear_svm_params, cv=kfold, return_train_score=True)\n",
    "\n",
    "start = time.time()\n",
    "grid_search_linear_svm.fit(features_train, labels_train)\n",
    "end = time.time()"
   ]
  },
  {
   "cell_type": "code",
   "execution_count": 35,
   "metadata": {},
   "outputs": [
    {
     "name": "stdout",
     "output_type": "stream",
     "text": [
      "GridSearchCV took {100.83} seconds for 6 candidate parameter settings.\n"
     ]
    }
   ],
   "source": [
    "print(\"GridSearchCV took {%.2f} seconds for %d candidate parameter settings.\"\n",
    "      % (end - start, len(grid_search_linear_svm.cv_results_['params'])))"
   ]
  },
  {
   "cell_type": "code",
   "execution_count": 36,
   "metadata": {},
   "outputs": [
    {
     "data": {
      "text/plain": [
       "{'clf__C': 1, 'pca__n_components': 150}"
      ]
     },
     "execution_count": 36,
     "metadata": {},
     "output_type": "execute_result"
    }
   ],
   "source": [
    "grid_search_linear_svm.best_params_ # {'clf__C': 1, 'pca__n_components': 150}"
   ]
  },
  {
   "cell_type": "code",
   "execution_count": 37,
   "metadata": {},
   "outputs": [
    {
     "data": {
      "text/plain": [
       "0.84921875"
      ]
     },
     "execution_count": 37,
     "metadata": {},
     "output_type": "execute_result"
    }
   ],
   "source": [
    "grid_search_linear_svm.best_score_ # 0.8463541666666666"
   ]
  },
  {
   "cell_type": "code",
   "execution_count": 38,
   "metadata": {},
   "outputs": [
    {
     "data": {
      "text/plain": [
       "0.8445658773527626"
      ]
     },
     "execution_count": 38,
     "metadata": {},
     "output_type": "execute_result"
    }
   ],
   "source": [
    "grid_search_linear_svm.best_estimator_.score(features_test, labels_test) # 0.8451730418943534"
   ]
  },
  {
   "cell_type": "code",
   "execution_count": 39,
   "metadata": {},
   "outputs": [
    {
     "data": {
      "text/plain": [
       "0.8658854166666666"
      ]
     },
     "execution_count": 39,
     "metadata": {},
     "output_type": "execute_result"
    }
   ],
   "source": [
    "grid_search_linear_svm.best_estimator_.score(features_train, labels_train) # 0.8671875"
   ]
  },
  {
   "cell_type": "code",
   "execution_count": 40,
   "metadata": {},
   "outputs": [
    {
     "data": {
      "text/html": [
       "<div>\n",
       "<style scoped>\n",
       "    .dataframe tbody tr th:only-of-type {\n",
       "        vertical-align: middle;\n",
       "    }\n",
       "\n",
       "    .dataframe tbody tr th {\n",
       "        vertical-align: top;\n",
       "    }\n",
       "\n",
       "    .dataframe thead th {\n",
       "        text-align: right;\n",
       "    }\n",
       "</style>\n",
       "<table border=\"1\" class=\"dataframe\">\n",
       "  <thead>\n",
       "    <tr style=\"text-align: right;\">\n",
       "      <th></th>\n",
       "      <th>mean_test</th>\n",
       "      <th>mean_train</th>\n",
       "      <th>param_clf__C</th>\n",
       "      <th>param_pca</th>\n",
       "      <th>rank_test</th>\n",
       "      <th>split0_test</th>\n",
       "      <th>split0_train</th>\n",
       "      <th>split1_test</th>\n",
       "      <th>split1_train</th>\n",
       "      <th>split2_test</th>\n",
       "      <th>...</th>\n",
       "      <th>split3_test</th>\n",
       "      <th>split3_train</th>\n",
       "      <th>split4_test</th>\n",
       "      <th>split4_train</th>\n",
       "      <th>split5_test</th>\n",
       "      <th>split5_train</th>\n",
       "      <th>split6_test</th>\n",
       "      <th>split6_train</th>\n",
       "      <th>std_test_score</th>\n",
       "      <th>std_train_score</th>\n",
       "    </tr>\n",
       "  </thead>\n",
       "  <tbody>\n",
       "    <tr>\n",
       "      <th>0</th>\n",
       "      <td>0.845313</td>\n",
       "      <td>0.866840</td>\n",
       "      <td>0.0001</td>\n",
       "      <td>150</td>\n",
       "      <td>5</td>\n",
       "      <td>0.850638</td>\n",
       "      <td>0.867214</td>\n",
       "      <td>0.832423</td>\n",
       "      <td>0.862960</td>\n",
       "      <td>0.826958</td>\n",
       "      <td>...</td>\n",
       "      <td>0.846995</td>\n",
       "      <td>0.863567</td>\n",
       "      <td>0.848540</td>\n",
       "      <td>0.871810</td>\n",
       "      <td>0.854015</td>\n",
       "      <td>0.861786</td>\n",
       "      <td>0.857664</td>\n",
       "      <td>0.869380</td>\n",
       "      <td>0.010509</td>\n",
       "      <td>0.003804</td>\n",
       "    </tr>\n",
       "    <tr>\n",
       "      <th>1</th>\n",
       "      <td>0.844792</td>\n",
       "      <td>0.870529</td>\n",
       "      <td>0.0001</td>\n",
       "      <td>200</td>\n",
       "      <td>6</td>\n",
       "      <td>0.841530</td>\n",
       "      <td>0.868429</td>\n",
       "      <td>0.856102</td>\n",
       "      <td>0.867517</td>\n",
       "      <td>0.828780</td>\n",
       "      <td>...</td>\n",
       "      <td>0.861566</td>\n",
       "      <td>0.867517</td>\n",
       "      <td>0.841241</td>\n",
       "      <td>0.874848</td>\n",
       "      <td>0.841241</td>\n",
       "      <td>0.871810</td>\n",
       "      <td>0.843066</td>\n",
       "      <td>0.869684</td>\n",
       "      <td>0.010036</td>\n",
       "      <td>0.002801</td>\n",
       "    </tr>\n",
       "    <tr>\n",
       "      <th>2</th>\n",
       "      <td>0.845833</td>\n",
       "      <td>0.868012</td>\n",
       "      <td>0.001</td>\n",
       "      <td>150</td>\n",
       "      <td>4</td>\n",
       "      <td>0.841530</td>\n",
       "      <td>0.869948</td>\n",
       "      <td>0.846995</td>\n",
       "      <td>0.862656</td>\n",
       "      <td>0.830601</td>\n",
       "      <td>...</td>\n",
       "      <td>0.841530</td>\n",
       "      <td>0.865998</td>\n",
       "      <td>0.844891</td>\n",
       "      <td>0.873329</td>\n",
       "      <td>0.859489</td>\n",
       "      <td>0.861482</td>\n",
       "      <td>0.855839</td>\n",
       "      <td>0.872114</td>\n",
       "      <td>0.008927</td>\n",
       "      <td>0.004321</td>\n",
       "    </tr>\n",
       "    <tr>\n",
       "      <th>3</th>\n",
       "      <td>0.846094</td>\n",
       "      <td>0.871658</td>\n",
       "      <td>0.001</td>\n",
       "      <td>200</td>\n",
       "      <td>3</td>\n",
       "      <td>0.837887</td>\n",
       "      <td>0.871468</td>\n",
       "      <td>0.863388</td>\n",
       "      <td>0.867821</td>\n",
       "      <td>0.834244</td>\n",
       "      <td>...</td>\n",
       "      <td>0.865209</td>\n",
       "      <td>0.870556</td>\n",
       "      <td>0.835766</td>\n",
       "      <td>0.874848</td>\n",
       "      <td>0.844891</td>\n",
       "      <td>0.870595</td>\n",
       "      <td>0.841241</td>\n",
       "      <td>0.872722</td>\n",
       "      <td>0.011979</td>\n",
       "      <td>0.002143</td>\n",
       "    </tr>\n",
       "    <tr>\n",
       "      <th>4</th>\n",
       "      <td>0.849219</td>\n",
       "      <td>0.868620</td>\n",
       "      <td>1</td>\n",
       "      <td>150</td>\n",
       "      <td>1</td>\n",
       "      <td>0.845173</td>\n",
       "      <td>0.871771</td>\n",
       "      <td>0.846995</td>\n",
       "      <td>0.865998</td>\n",
       "      <td>0.832423</td>\n",
       "      <td>...</td>\n",
       "      <td>0.852459</td>\n",
       "      <td>0.869341</td>\n",
       "      <td>0.850365</td>\n",
       "      <td>0.870292</td>\n",
       "      <td>0.863139</td>\n",
       "      <td>0.861786</td>\n",
       "      <td>0.854015</td>\n",
       "      <td>0.871203</td>\n",
       "      <td>0.008718</td>\n",
       "      <td>0.003279</td>\n",
       "    </tr>\n",
       "    <tr>\n",
       "      <th>5</th>\n",
       "      <td>0.848698</td>\n",
       "      <td>0.872786</td>\n",
       "      <td>1</td>\n",
       "      <td>200</td>\n",
       "      <td>2</td>\n",
       "      <td>0.856102</td>\n",
       "      <td>0.872075</td>\n",
       "      <td>0.865209</td>\n",
       "      <td>0.871468</td>\n",
       "      <td>0.828780</td>\n",
       "      <td>...</td>\n",
       "      <td>0.854281</td>\n",
       "      <td>0.869644</td>\n",
       "      <td>0.841241</td>\n",
       "      <td>0.876063</td>\n",
       "      <td>0.850365</td>\n",
       "      <td>0.871507</td>\n",
       "      <td>0.844891</td>\n",
       "      <td>0.876367</td>\n",
       "      <td>0.010881</td>\n",
       "      <td>0.002314</td>\n",
       "    </tr>\n",
       "  </tbody>\n",
       "</table>\n",
       "<p>6 rows × 21 columns</p>\n",
       "</div>"
      ],
      "text/plain": [
       "   mean_test  mean_train param_clf__C param_pca  rank_test  split0_test  \\\n",
       "0   0.845313    0.866840       0.0001       150          5     0.850638   \n",
       "1   0.844792    0.870529       0.0001       200          6     0.841530   \n",
       "2   0.845833    0.868012        0.001       150          4     0.841530   \n",
       "3   0.846094    0.871658        0.001       200          3     0.837887   \n",
       "4   0.849219    0.868620            1       150          1     0.845173   \n",
       "5   0.848698    0.872786            1       200          2     0.856102   \n",
       "\n",
       "   split0_train  split1_test  split1_train  split2_test       ...         \\\n",
       "0      0.867214     0.832423      0.862960     0.826958       ...          \n",
       "1      0.868429     0.856102      0.867517     0.828780       ...          \n",
       "2      0.869948     0.846995      0.862656     0.830601       ...          \n",
       "3      0.871468     0.863388      0.867821     0.834244       ...          \n",
       "4      0.871771     0.846995      0.865998     0.832423       ...          \n",
       "5      0.872075     0.865209      0.871468     0.828780       ...          \n",
       "\n",
       "   split3_test  split3_train  split4_test  split4_train  split5_test  \\\n",
       "0     0.846995      0.863567     0.848540      0.871810     0.854015   \n",
       "1     0.861566      0.867517     0.841241      0.874848     0.841241   \n",
       "2     0.841530      0.865998     0.844891      0.873329     0.859489   \n",
       "3     0.865209      0.870556     0.835766      0.874848     0.844891   \n",
       "4     0.852459      0.869341     0.850365      0.870292     0.863139   \n",
       "5     0.854281      0.869644     0.841241      0.876063     0.850365   \n",
       "\n",
       "   split5_train  split6_test  split6_train  std_test_score  std_train_score  \n",
       "0      0.861786     0.857664      0.869380        0.010509         0.003804  \n",
       "1      0.871810     0.843066      0.869684        0.010036         0.002801  \n",
       "2      0.861482     0.855839      0.872114        0.008927         0.004321  \n",
       "3      0.870595     0.841241      0.872722        0.011979         0.002143  \n",
       "4      0.861786     0.854015      0.871203        0.008718         0.003279  \n",
       "5      0.871507     0.844891      0.876367        0.010881         0.002314  \n",
       "\n",
       "[6 rows x 21 columns]"
      ]
     },
     "execution_count": 40,
     "metadata": {},
     "output_type": "execute_result"
    }
   ],
   "source": [
    "# grid_search_linear_svm.cv_results_\n",
    "# print(classification_report(labels_test, grid_search_linear_svm.predict(features_test)))\n",
    "print_grid_search_results(grid_search_linear_svm, splits=8)"
   ]
  },
  {
   "cell_type": "markdown",
   "metadata": {},
   "source": [
    "#### Gaussian SVM model"
   ]
  },
  {
   "cell_type": "code",
   "execution_count": 41,
   "metadata": {},
   "outputs": [
    {
     "name": "stdout",
     "output_type": "stream",
     "text": [
      "0.8755312689738919\n",
      "0.9786458333333333\n"
     ]
    }
   ],
   "source": [
    "features_train, features_test, labels_train, labels_test = train_test_split(\n",
    "    features, labels, train_size=0.7, test_size=0.3, random_state=12345)\n",
    "\n",
    "svm_pipeline = Pipeline(steps=[('scl_1', StandardScaler()), \n",
    "                               ('pca', PCA(n_components=150, random_state=42)),\n",
    "                               ('scl_2', StandardScaler()),\n",
    "                               ('clf', SVC(probability=True))])\n",
    "\n",
    "svm_pipeline.fit(features_train, labels_train)\n",
    "\n",
    "print(svm_pipeline.score(features_test, labels_test)) # 0.8755312689738919\n",
    "print(svm_pipeline.score(features_train, labels_train)) # 0.9786458333333333"
   ]
  },
  {
   "cell_type": "markdown",
   "metadata": {},
   "source": [
    "#### Tune the Gaussian SVM model parameters"
   ]
  },
  {
   "cell_type": "code",
   "execution_count": 45,
   "metadata": {},
   "outputs": [
    {
     "data": {
      "text/plain": [
       "0.006666666666666667"
      ]
     },
     "execution_count": 45,
     "metadata": {},
     "output_type": "execute_result"
    }
   ],
   "source": [
    "1./150"
   ]
  },
  {
   "cell_type": "code",
   "execution_count": 46,
   "metadata": {},
   "outputs": [],
   "source": [
    "kfold = StratifiedKFold(n_splits=5)\n",
    "svm_params = dict(clf__C = [0.75, 1], clf__gamma=[0.007, 0.0075])\n",
    "\n",
    "grid_search_svm = GridSearchCV(svm_pipeline, param_grid=svm_params, cv=kfold, return_train_score=True)\n",
    "\n",
    "start = time.time()\n",
    "grid_search_svm.fit(features_train, labels_train)\n",
    "end = time.time()"
   ]
  },
  {
   "cell_type": "code",
   "execution_count": 47,
   "metadata": {},
   "outputs": [
    {
     "name": "stdout",
     "output_type": "stream",
     "text": [
      "GridSearchCV took {253.57} seconds for 4 candidate parameter settings.\n"
     ]
    }
   ],
   "source": [
    "print(\"GridSearchCV took {%.2f} seconds for %d candidate parameter settings.\"\n",
    "      % (end - start, len(grid_search_svm.cv_results_['params'])))"
   ]
  },
  {
   "cell_type": "code",
   "execution_count": 48,
   "metadata": {},
   "outputs": [
    {
     "data": {
      "text/plain": [
       "{'clf__C': 1, 'clf__gamma': 0.007}"
      ]
     },
     "execution_count": 48,
     "metadata": {},
     "output_type": "execute_result"
    }
   ],
   "source": [
    "grid_search_svm.best_params_ # {'clf__C': 1, 'clf__gamma': 0.007}"
   ]
  },
  {
   "cell_type": "code",
   "execution_count": 49,
   "metadata": {},
   "outputs": [
    {
     "data": {
      "text/plain": [
       "0.8761384335154827"
      ]
     },
     "execution_count": 49,
     "metadata": {},
     "output_type": "execute_result"
    }
   ],
   "source": [
    "grid_search_svm.best_estimator_.score(features_test, labels_test) # 0.8761384335154827"
   ]
  },
  {
   "cell_type": "markdown",
   "metadata": {},
   "source": [
    "#### Analyse the SVM results"
   ]
  },
  {
   "cell_type": "markdown",
   "metadata": {},
   "source": [
    "##### ROC curve for Gaussian SVM"
   ]
  },
  {
   "cell_type": "code",
   "execution_count": 50,
   "metadata": {},
   "outputs": [
    {
     "data": {
      "image/png": "[encoded data removed]",
      "text/plain": [
       "<matplotlib.figure.Figure at 0x17096490>"
      ]
     },
     "metadata": {},
     "output_type": "display_data"
    }
   ],
   "source": [
    "svm_estimator = grid_search_svm.best_estimator_\n",
    "roc = plot_roc_curve(svm_estimator, features_test, labels_test, title=\"Gaussian SVM\")\n",
    "roc.show()"
   ]
  },
  {
   "cell_type": "markdown",
   "metadata": {},
   "source": [
    "##### Learning curve for the Gaussian SVM"
   ]
  },
  {
   "cell_type": "code",
   "execution_count": 48,
   "metadata": {},
   "outputs": [
    {
     "name": "stdout",
     "output_type": "stream",
     "text": [
      "[6.0, 4.0]\n"
     ]
    },
    {
     "data": {
      "image/png": "[encoded data removed]",
      "text/plain": [
       "<matplotlib.figure.Figure at 0x7f23c2dfba90>"
      ]
     },
     "metadata": {},
     "output_type": "display_data"
    }
   ],
   "source": [
    "title = \"Learning Curves (Gaussian SVM)\"\n",
    "# Cross validation with 100 iterations to get smoother mean test and train\n",
    "# score curves, each time with 20% data randomly selected as a validation set.\n",
    "cv = ShuffleSplit(n_splits=10, test_size=0.7, random_state=0)\n",
    "\n",
    "plot_learning_curve(grid_search_svm.best_estimator_, title, features, labels, ylim=(0.4, 2.), cv=cv, n_jobs=4)\n",
    "print(plt.rcParams[\"figure.figsize\"])\n",
    "plt.rcParams[\"figure.figsize\"] = (10, 6)\n",
    "plt.show()"
   ]
  },
  {
   "cell_type": "markdown",
   "metadata": {},
   "source": [
    "##### Confusion matrix for the Gaussian SVM"
   ]
  },
  {
   "cell_type": "code",
   "execution_count": 49,
   "metadata": {
    "scrolled": false
   },
   "outputs": [
    {
     "data": {
      "image/png": "[encoded data removed]",
      "text/plain": [
       "<matplotlib.figure.Figure at 0x7f23c3869208>"
      ]
     },
     "metadata": {},
     "output_type": "display_data"
    }
   ],
   "source": [
    "cnf_matrix = confusion_matrix(labels_test, grid_search_svm.best_estimator_.predict(features_test))\n",
    "np.set_printoptions(precision=2)\n",
    "\n",
    "# Plot non-normalized confusion matrix\n",
    "plt.figure()\n",
    "plot_confusion_matrix(cnf_matrix, classes=np.array([\"Males\", \"Females\"]), title='Confusion matrix', normalize=True)\n",
    "plt.show()"
   ]
  },
  {
   "cell_type": "markdown",
   "metadata": {},
   "source": [
    "## Random Forest Clasifier"
   ]
  },
  {
   "cell_type": "code",
   "execution_count": 62,
   "metadata": {},
   "outputs": [],
   "source": [
    "features_train, features_test, labels_train, labels_test = train_test_split(\n",
    "    features, labels, train_size=0.7, test_size=0.3, random_state=12345)"
   ]
  },
  {
   "cell_type": "code",
   "execution_count": 64,
   "metadata": {},
   "outputs": [
    {
     "name": "stdout",
     "output_type": "stream",
     "text": [
      "0.6690953248330298\n",
      "0.9890625\n"
     ]
    }
   ],
   "source": [
    "forest_pipeline = Pipeline(steps=[('scaler', StandardScaler()), \n",
    "                                  ('pca', PCA(n_components=150)),\n",
    "                                  ('scaler_1', StandardScaler()),\n",
    "                                  ('clf', RandomForestClassifier(criterion='gini'))])\n",
    "\n",
    "forest_pipeline.fit(features_train, labels_train)\n",
    "\n",
    "print(forest_pipeline.score(features_test, labels_test)) # 0.7698846387370978\n",
    "print(forest_pipeline.score(features_train, labels_train)) # 0.8197916666666667"
   ]
  },
  {
   "cell_type": "code",
   "execution_count": null,
   "metadata": {},
   "outputs": [],
   "source": []
  },
  {
   "cell_type": "code",
   "execution_count": 65,
   "metadata": {},
   "outputs": [],
   "source": [
    "kfold = StratifiedKFold(n_splits=3)\n",
    "forest_params = dict(clf__n_estimators = [1500, 2000], clf__max_depth=[2, 3])\n",
    "\n",
    "grid_search_forest = GridSearchCV(forest_pipeline, param_grid=forest_params, cv=kfold, return_train_score=True)\n",
    "\n",
    "start = time.time()\n",
    "grid_search_forest.fit(features_train, labels_train)\n",
    "end = time.time()"
   ]
  },
  {
   "cell_type": "code",
   "execution_count": 108,
   "metadata": {},
   "outputs": [
    {
     "name": "stdout",
     "output_type": "stream",
     "text": [
      "GridSearchCV took {205.42} seconds for 4 candidate parameter settings.\n"
     ]
    }
   ],
   "source": [
    "print(\"GridSearchCV took {%.2f} seconds for %d candidate parameter settings.\"\n",
    "      % (end - start, len(grid_search_forest.cv_results_['params'])))"
   ]
  },
  {
   "cell_type": "code",
   "execution_count": 109,
   "metadata": {},
   "outputs": [
    {
     "data": {
      "text/plain": [
       "{'clf__max_depth': 3, 'clf__n_estimators': 2000}"
      ]
     },
     "execution_count": 109,
     "metadata": {},
     "output_type": "execute_result"
    }
   ],
   "source": [
    "grid_search_forest.best_params_ # {'clf__max_depth': 3, 'clf__n_estimators': 1500}"
   ]
  },
  {
   "cell_type": "code",
   "execution_count": 110,
   "metadata": {},
   "outputs": [
    {
     "name": "stdout",
     "output_type": "stream",
     "text": [
      "0.769277474195507\n",
      "0.8161458333333333\n"
     ]
    }
   ],
   "source": [
    "print(grid_search_forest.best_estimator_.score(features_test, labels_test)) # 0.7741347905282332\n",
    "print(grid_search_forest.best_estimator_.score(features_train, labels_train)) # 0.81953125"
   ]
  },
  {
   "cell_type": "code",
   "execution_count": 111,
   "metadata": {},
   "outputs": [
    {
     "data": {
      "text/html": [
       "<div>\n",
       "<style scoped>\n",
       "    .dataframe tbody tr th:only-of-type {\n",
       "        vertical-align: middle;\n",
       "    }\n",
       "\n",
       "    .dataframe tbody tr th {\n",
       "        vertical-align: top;\n",
       "    }\n",
       "\n",
       "    .dataframe thead th {\n",
       "        text-align: right;\n",
       "    }\n",
       "</style>\n",
       "<table border=\"1\" class=\"dataframe\">\n",
       "  <thead>\n",
       "    <tr style=\"text-align: right;\">\n",
       "      <th></th>\n",
       "      <th>mean_test</th>\n",
       "      <th>mean_train</th>\n",
       "      <th>param_clf__max_depth</th>\n",
       "      <th>n_estimators</th>\n",
       "      <th>rank_test</th>\n",
       "      <th>split0_test</th>\n",
       "      <th>split0_train</th>\n",
       "      <th>split1_test</th>\n",
       "      <th>split1_train</th>\n",
       "      <th>split2_test</th>\n",
       "      <th>split2_train</th>\n",
       "      <th>std_test_score</th>\n",
       "      <th>std_train_score</th>\n",
       "    </tr>\n",
       "  </thead>\n",
       "  <tbody>\n",
       "    <tr>\n",
       "      <th>0</th>\n",
       "      <td>0.755469</td>\n",
       "      <td>0.805210</td>\n",
       "      <td>2</td>\n",
       "      <td>1500</td>\n",
       "      <td>4</td>\n",
       "      <td>0.750976</td>\n",
       "      <td>0.810473</td>\n",
       "      <td>0.783594</td>\n",
       "      <td>0.810937</td>\n",
       "      <td>0.731822</td>\n",
       "      <td>0.794221</td>\n",
       "      <td>0.021369</td>\n",
       "      <td>0.007773</td>\n",
       "    </tr>\n",
       "    <tr>\n",
       "      <th>1</th>\n",
       "      <td>0.757812</td>\n",
       "      <td>0.807686</td>\n",
       "      <td>2</td>\n",
       "      <td>2000</td>\n",
       "      <td>3</td>\n",
       "      <td>0.749415</td>\n",
       "      <td>0.817507</td>\n",
       "      <td>0.789844</td>\n",
       "      <td>0.815234</td>\n",
       "      <td>0.734167</td>\n",
       "      <td>0.790316</td>\n",
       "      <td>0.023489</td>\n",
       "      <td>0.012317</td>\n",
       "    </tr>\n",
       "    <tr>\n",
       "      <th>2</th>\n",
       "      <td>0.769010</td>\n",
       "      <td>0.841668</td>\n",
       "      <td>3</td>\n",
       "      <td>1500</td>\n",
       "      <td>2</td>\n",
       "      <td>0.768931</td>\n",
       "      <td>0.842517</td>\n",
       "      <td>0.795312</td>\n",
       "      <td>0.853516</td>\n",
       "      <td>0.742768</td>\n",
       "      <td>0.828973</td>\n",
       "      <td>0.021447</td>\n",
       "      <td>0.010037</td>\n",
       "    </tr>\n",
       "    <tr>\n",
       "      <th>3</th>\n",
       "      <td>0.772135</td>\n",
       "      <td>0.844534</td>\n",
       "      <td>3</td>\n",
       "      <td>2000</td>\n",
       "      <td>1</td>\n",
       "      <td>0.775176</td>\n",
       "      <td>0.849551</td>\n",
       "      <td>0.797656</td>\n",
       "      <td>0.855078</td>\n",
       "      <td>0.743550</td>\n",
       "      <td>0.828973</td>\n",
       "      <td>0.022189</td>\n",
       "      <td>0.011232</td>\n",
       "    </tr>\n",
       "  </tbody>\n",
       "</table>\n",
       "</div>"
      ],
      "text/plain": [
       "   mean_test  mean_train param_clf__max_depth n_estimators  rank_test  \\\n",
       "0   0.755469    0.805210                    2         1500          4   \n",
       "1   0.757812    0.807686                    2         2000          3   \n",
       "2   0.769010    0.841668                    3         1500          2   \n",
       "3   0.772135    0.844534                    3         2000          1   \n",
       "\n",
       "   split0_test  split0_train  split1_test  split1_train  split2_test  \\\n",
       "0     0.750976      0.810473     0.783594      0.810937     0.731822   \n",
       "1     0.749415      0.817507     0.789844      0.815234     0.734167   \n",
       "2     0.768931      0.842517     0.795312      0.853516     0.742768   \n",
       "3     0.775176      0.849551     0.797656      0.855078     0.743550   \n",
       "\n",
       "   split2_train  std_test_score  std_train_score  \n",
       "0      0.794221        0.021369         0.007773  \n",
       "1      0.790316        0.023489         0.012317  \n",
       "2      0.828973        0.021447         0.010037  \n",
       "3      0.828973        0.022189         0.011232  "
      ]
     },
     "execution_count": 111,
     "metadata": {},
     "output_type": "execute_result"
    }
   ],
   "source": [
    "print_grid_search_results(grid_search_forest, splits=3)"
   ]
  },
  {
   "cell_type": "code",
   "execution_count": 63,
   "metadata": {},
   "outputs": [
    {
     "data": {
      "image/png": "[encoded data removed]",
      "text/plain": [
       "<matplotlib.figure.Figure at 0x7fddeec96a58>"
      ]
     },
     "metadata": {},
     "output_type": "display_data"
    }
   ],
   "source": [
    "cv = ShuffleSplit(n_splits=10, test_size=0.7, random_state=0)\n",
    "plot_learning_curve(grid_search_forest.best_estimator_, \n",
    "                    \"Learning Curves (Random Forest)\", \n",
    "                    features, labels, ylim=(0.4, 2.), cv=cv, n_jobs=4)\n",
    "plt.show()"
   ]
  },
  {
   "cell_type": "markdown",
   "metadata": {},
   "source": [
    "TODO: Write comments here"
   ]
  },
  {
   "cell_type": "markdown",
   "metadata": {},
   "source": [
    "## Adaptive Boost"
   ]
  },
  {
   "cell_type": "markdown",
   "metadata": {},
   "source": [
    "### AdaBoost base with Decision Tree"
   ]
  },
  {
   "cell_type": "code",
   "execution_count": 114,
   "metadata": {},
   "outputs": [
    {
     "name": "stdout",
     "output_type": "stream",
     "text": [
      "0.7668488160291439\n",
      "0.8171875\n"
     ]
    }
   ],
   "source": [
    "features_train, features_test, labels_train, labels_test = train_test_split(\n",
    "    features, labels, train_size=0.7, test_size=0.3, random_state=12345) # , random_state=12345\n",
    "# pca_components = 100\n",
    "# tree_pipe = Pipeline(steps=[('scaler', StandardScaler()), \n",
    "#                                   ('pca', PCA(n_components=pca_components)),\n",
    "#                                   #('scaler_1', StandardScaler()),\n",
    "#                                   ('clf', DecisionTreeClassifier(max_depth=1))])\n",
    "# #tree = DecisionTreeClassifier(max_depth=1)\n",
    "# tree_pipe.fit(features_train, labels_train)\n",
    "\n",
    "#SVC(kernel='linear', degree=1, probability=True) # DecisionTreeClassifier(max_depth=1)\n",
    "# tree_pipe = DecisionTreeClassifier(n_estimators)\n",
    "tree = DecisionTreeClassifier(max_depth=1)\n",
    "# tree_pipe.fit(features_train, labels_train)\n",
    "# print(tree_pipe.score(features_test, labels_test))\n",
    "\n",
    "ada_boost_pipeline = Pipeline(steps=[('scaler', StandardScaler()), \n",
    "                                  ('pca', PCA(n_components=150)),\n",
    "                                  ('scaler_1', StandardScaler()),\n",
    "                                  ('clf', AdaBoostClassifier(tree))]) # 250 0.5 -tree\n",
    "                                   # , n_estimators=150,learning_rate=0.35\n",
    "\n",
    "ada_boost_pipeline.fit(features_train, labels_train)\n",
    "print(ada_boost_pipeline.score(features_test, labels_test)) # 0.7644201578627808\n",
    "print(ada_boost_pipeline.score(features_train, labels_train)) # ..."
   ]
  },
  {
   "cell_type": "code",
   "execution_count": 115,
   "metadata": {},
   "outputs": [
    {
     "data": {
      "text/plain": [
       "AdaBoostClassifier(algorithm='SAMME.R',\n",
       "          base_estimator=DecisionTreeClassifier(class_weight=None, criterion='gini', max_depth=1,\n",
       "            max_features=None, max_leaf_nodes=None,\n",
       "            min_impurity_decrease=0.0, min_impurity_split=None,\n",
       "            min_samples_leaf=1, min_samples_split=2,\n",
       "            min_weight_fraction_leaf=0.0, presort=False, random_state=None,\n",
       "            splitter='best'),\n",
       "          learning_rate=0.5, n_estimators=100, random_state=42)"
      ]
     },
     "execution_count": 115,
     "metadata": {},
     "output_type": "execute_result"
    }
   ],
   "source": [
    "ada_boost = AdaBoostClassifier(tree, n_estimators=100,learning_rate=0.5, random_state=42)\n",
    "ada_boost.fit(features_train, labels_train)"
   ]
  },
  {
   "cell_type": "code",
   "execution_count": 119,
   "metadata": {},
   "outputs": [
    {
     "data": {
      "text/plain": [
       "0.8044930176077717"
      ]
     },
     "execution_count": 119,
     "metadata": {},
     "output_type": "execute_result"
    }
   ],
   "source": [
    "ada_boost.score(features_test, labels_test) # 0.8020643594414086"
   ]
  },
  {
   "cell_type": "code",
   "execution_count": 117,
   "metadata": {},
   "outputs": [
    {
     "data": {
      "text/plain": [
       "0.8697916666666666"
      ]
     },
     "execution_count": 117,
     "metadata": {},
     "output_type": "execute_result"
    }
   ],
   "source": [
    "ada_boost.score(features_train, labels_train) # 0.865625"
   ]
  },
  {
   "cell_type": "markdown",
   "metadata": {},
   "source": [
    "### Tune the AdaBoost parameters\n",
    "Тhis is a very time consuming operation."
   ]
  },
  {
   "cell_type": "code",
   "execution_count": 118,
   "metadata": {},
   "outputs": [
    {
     "data": {
      "text/plain": [
       "GridSearchCV(cv=StratifiedKFold(n_splits=3, random_state=None, shuffle=False),\n",
       "       error_score='raise',\n",
       "       estimator=AdaBoostClassifier(algorithm='SAMME.R',\n",
       "          base_estimator=DecisionTreeClassifier(class_weight=None, criterion='gini', max_depth=1,\n",
       "            max_features=None, max_leaf_nodes=None,\n",
       "            min_impurity_decrease=0.0, min_impurity_split=None,\n",
       "            min_samples_leaf=1, min_samples_split=2,\n",
       "            min_weight_fraction_leaf=0.0, presort=False, random_state=None,\n",
       "            splitter='best'),\n",
       "          learning_rate=0.5, n_estimators=100, random_state=42),\n",
       "       fit_params=None, iid=True, n_jobs=1,\n",
       "       param_grid={'n_estimators': [50, 100, 150], 'learning_rate': [0.1, 0.35, 0.5]},\n",
       "       pre_dispatch='2*n_jobs', refit=True, return_train_score=True,\n",
       "       scoring=None, verbose=0)"
      ]
     },
     "execution_count": 118,
     "metadata": {},
     "output_type": "execute_result"
    }
   ],
   "source": [
    "params = {'n_estimators':[100, 150], 'learning_rate':[0.1, 0.35, 0.5] } # add 50\n",
    "kfold = StratifiedKFold(n_splits=3)\n",
    "ada_boost_grid_search = GridSearchCV(ada_boost, param_grid=params, cv=kfold, return_train_score=True)\n",
    "ada_boost_grid_search.fit(features_train, labels_train)"
   ]
  },
  {
   "cell_type": "code",
   "execution_count": 120,
   "metadata": {
    "scrolled": false
   },
   "outputs": [
    {
     "name": "stdout",
     "output_type": "stream",
     "text": [
      "Best params: {'n_estimators': 150, 'learning_rate': 0.35}\n",
      "Test score: 0.810564663024\n",
      "Train score: 0.872916666667\n"
     ]
    },
    {
     "data": {
      "text/html": [
       "<div>\n",
       "<style scoped>\n",
       "    .dataframe tbody tr th:only-of-type {\n",
       "        vertical-align: middle;\n",
       "    }\n",
       "\n",
       "    .dataframe tbody tr th {\n",
       "        vertical-align: top;\n",
       "    }\n",
       "\n",
       "    .dataframe thead th {\n",
       "        text-align: right;\n",
       "    }\n",
       "</style>\n",
       "<table border=\"1\" class=\"dataframe\">\n",
       "  <thead>\n",
       "    <tr style=\"text-align: right;\">\n",
       "      <th></th>\n",
       "      <th>mean_test</th>\n",
       "      <th>mean_train</th>\n",
       "      <th>param_learning_rate</th>\n",
       "      <th>param_n_estimators</th>\n",
       "      <th>rank_test</th>\n",
       "      <th>split0_test</th>\n",
       "      <th>split0_train</th>\n",
       "      <th>split1_test</th>\n",
       "      <th>split1_train</th>\n",
       "      <th>split2_test</th>\n",
       "      <th>split2_train</th>\n",
       "      <th>std_test_score</th>\n",
       "      <th>std_train_score</th>\n",
       "    </tr>\n",
       "  </thead>\n",
       "  <tbody>\n",
       "    <tr>\n",
       "      <th>0</th>\n",
       "      <td>0.732812</td>\n",
       "      <td>0.759505</td>\n",
       "      <td>0.1</td>\n",
       "      <td>50</td>\n",
       "      <td>9</td>\n",
       "      <td>0.729118</td>\n",
       "      <td>0.763189</td>\n",
       "      <td>0.731250</td>\n",
       "      <td>0.753906</td>\n",
       "      <td>0.738077</td>\n",
       "      <td>0.761421</td>\n",
       "      <td>0.003821</td>\n",
       "      <td>0.004024</td>\n",
       "    </tr>\n",
       "    <tr>\n",
       "      <th>1</th>\n",
       "      <td>0.756771</td>\n",
       "      <td>0.790624</td>\n",
       "      <td>0.1</td>\n",
       "      <td>100</td>\n",
       "      <td>8</td>\n",
       "      <td>0.748634</td>\n",
       "      <td>0.789371</td>\n",
       "      <td>0.757812</td>\n",
       "      <td>0.789062</td>\n",
       "      <td>0.763878</td>\n",
       "      <td>0.793440</td>\n",
       "      <td>0.006267</td>\n",
       "      <td>0.001995</td>\n",
       "    </tr>\n",
       "    <tr>\n",
       "      <th>2</th>\n",
       "      <td>0.767448</td>\n",
       "      <td>0.814192</td>\n",
       "      <td>0.1</td>\n",
       "      <td>150</td>\n",
       "      <td>6</td>\n",
       "      <td>0.760343</td>\n",
       "      <td>0.810864</td>\n",
       "      <td>0.768750</td>\n",
       "      <td>0.818750</td>\n",
       "      <td>0.773260</td>\n",
       "      <td>0.812964</td>\n",
       "      <td>0.005353</td>\n",
       "      <td>0.003335</td>\n",
       "    </tr>\n",
       "    <tr>\n",
       "      <th>3</th>\n",
       "      <td>0.766927</td>\n",
       "      <td>0.815234</td>\n",
       "      <td>0.35</td>\n",
       "      <td>50</td>\n",
       "      <td>7</td>\n",
       "      <td>0.764247</td>\n",
       "      <td>0.812427</td>\n",
       "      <td>0.762500</td>\n",
       "      <td>0.816016</td>\n",
       "      <td>0.774042</td>\n",
       "      <td>0.817259</td>\n",
       "      <td>0.005079</td>\n",
       "      <td>0.002049</td>\n",
       "    </tr>\n",
       "    <tr>\n",
       "      <th>4</th>\n",
       "      <td>0.793490</td>\n",
       "      <td>0.866796</td>\n",
       "      <td>0.35</td>\n",
       "      <td>100</td>\n",
       "      <td>4</td>\n",
       "      <td>0.788447</td>\n",
       "      <td>0.865182</td>\n",
       "      <td>0.793750</td>\n",
       "      <td>0.864453</td>\n",
       "      <td>0.798280</td>\n",
       "      <td>0.870754</td>\n",
       "      <td>0.004019</td>\n",
       "      <td>0.002814</td>\n",
       "    </tr>\n",
       "    <tr>\n",
       "      <th>5</th>\n",
       "      <td>0.805990</td>\n",
       "      <td>0.895181</td>\n",
       "      <td>0.35</td>\n",
       "      <td>150</td>\n",
       "      <td>1</td>\n",
       "      <td>0.805621</td>\n",
       "      <td>0.888238</td>\n",
       "      <td>0.801562</td>\n",
       "      <td>0.895703</td>\n",
       "      <td>0.810790</td>\n",
       "      <td>0.901601</td>\n",
       "      <td>0.003775</td>\n",
       "      <td>0.005468</td>\n",
       "    </tr>\n",
       "    <tr>\n",
       "      <th>6</th>\n",
       "      <td>0.770052</td>\n",
       "      <td>0.834636</td>\n",
       "      <td>0.5</td>\n",
       "      <td>50</td>\n",
       "      <td>5</td>\n",
       "      <td>0.765027</td>\n",
       "      <td>0.835483</td>\n",
       "      <td>0.770312</td>\n",
       "      <td>0.841016</td>\n",
       "      <td>0.774824</td>\n",
       "      <td>0.827411</td>\n",
       "      <td>0.004004</td>\n",
       "      <td>0.005586</td>\n",
       "    </tr>\n",
       "    <tr>\n",
       "      <th>7</th>\n",
       "      <td>0.798177</td>\n",
       "      <td>0.885676</td>\n",
       "      <td>0.5</td>\n",
       "      <td>100</td>\n",
       "      <td>3</td>\n",
       "      <td>0.801717</td>\n",
       "      <td>0.885111</td>\n",
       "      <td>0.796094</td>\n",
       "      <td>0.880078</td>\n",
       "      <td>0.796716</td>\n",
       "      <td>0.891839</td>\n",
       "      <td>0.002518</td>\n",
       "      <td>0.004818</td>\n",
       "    </tr>\n",
       "    <tr>\n",
       "      <th>8</th>\n",
       "      <td>0.805469</td>\n",
       "      <td>0.914322</td>\n",
       "      <td>0.5</td>\n",
       "      <td>150</td>\n",
       "      <td>2</td>\n",
       "      <td>0.806401</td>\n",
       "      <td>0.911684</td>\n",
       "      <td>0.802344</td>\n",
       "      <td>0.911328</td>\n",
       "      <td>0.807662</td>\n",
       "      <td>0.919953</td>\n",
       "      <td>0.002269</td>\n",
       "      <td>0.003985</td>\n",
       "    </tr>\n",
       "  </tbody>\n",
       "</table>\n",
       "</div>"
      ],
      "text/plain": [
       "   mean_test  mean_train param_learning_rate param_n_estimators  rank_test  \\\n",
       "0   0.732812    0.759505                 0.1                 50          9   \n",
       "1   0.756771    0.790624                 0.1                100          8   \n",
       "2   0.767448    0.814192                 0.1                150          6   \n",
       "3   0.766927    0.815234                0.35                 50          7   \n",
       "4   0.793490    0.866796                0.35                100          4   \n",
       "5   0.805990    0.895181                0.35                150          1   \n",
       "6   0.770052    0.834636                 0.5                 50          5   \n",
       "7   0.798177    0.885676                 0.5                100          3   \n",
       "8   0.805469    0.914322                 0.5                150          2   \n",
       "\n",
       "   split0_test  split0_train  split1_test  split1_train  split2_test  \\\n",
       "0     0.729118      0.763189     0.731250      0.753906     0.738077   \n",
       "1     0.748634      0.789371     0.757812      0.789062     0.763878   \n",
       "2     0.760343      0.810864     0.768750      0.818750     0.773260   \n",
       "3     0.764247      0.812427     0.762500      0.816016     0.774042   \n",
       "4     0.788447      0.865182     0.793750      0.864453     0.798280   \n",
       "5     0.805621      0.888238     0.801562      0.895703     0.810790   \n",
       "6     0.765027      0.835483     0.770312      0.841016     0.774824   \n",
       "7     0.801717      0.885111     0.796094      0.880078     0.796716   \n",
       "8     0.806401      0.911684     0.802344      0.911328     0.807662   \n",
       "\n",
       "   split2_train  std_test_score  std_train_score  \n",
       "0      0.761421        0.003821         0.004024  \n",
       "1      0.793440        0.006267         0.001995  \n",
       "2      0.812964        0.005353         0.003335  \n",
       "3      0.817259        0.005079         0.002049  \n",
       "4      0.870754        0.004019         0.002814  \n",
       "5      0.901601        0.003775         0.005468  \n",
       "6      0.827411        0.004004         0.005586  \n",
       "7      0.891839        0.002518         0.004818  \n",
       "8      0.919953        0.002269         0.003985  "
      ]
     },
     "execution_count": 120,
     "metadata": {},
     "output_type": "execute_result"
    }
   ],
   "source": [
    "print(\"Best params: {}\".format(ada_boost_grid_search.best_params_))\n",
    "print(\"Test score: {}\".format(ada_boost_grid_search.best_estimator_.score(features_test, labels_test))) # 0.8032786885245902\n",
    "print(\"Train score: {}\".format(ada_boost_grid_search.best_estimator_.score(features_train, labels_train))) # 0.88203125\n",
    "print_grid_search_results(ada_boost_grid_search, splits=3)\n",
    "# Best params: {'learning_rate': 0.35, 'n_estimators': 150}"
   ]
  },
  {
   "cell_type": "markdown",
   "metadata": {},
   "source": [
    "## Build"
   ]
  },
  {
   "cell_type": "code",
   "execution_count": 395,
   "metadata": {},
   "outputs": [],
   "source": [
    "new_features = [np.array([0, 0, 0])]\n",
    "for image in features:\n",
    "    svm = svm_result = grid_search_svm.predict_proba([image])[0][1]\n",
    "    logr = grid_search_logistic_regresion.predict_proba([image])[0][1]\n",
    "    adabst = ada_boost_grid_search.predict_proba([image])[0][1]\n",
    "    \n",
    "    new_features = np.append(new_features, [[svm, logr, adabst]], axis=0)\n",
    "\n",
    "new_features = new_features[1:]"
   ]
  },
  {
   "cell_type": "code",
   "execution_count": 454,
   "metadata": {},
   "outputs": [
    {
     "data": {
      "text/plain": [
       "Pipeline(memory=None,\n",
       "     steps=[('poly', PolynomialFeatures(degree=2, include_bias=True, interaction_only=False)), ('lr', LogisticRegression(C=1.0, class_weight=None, dual=False, fit_intercept=True,\n",
       "          intercept_scaling=1, max_iter=100, multi_class='ovr', n_jobs=1,\n",
       "          penalty='l2', random_state=None, solver='liblinear', tol=0.0001,\n",
       "          verbose=0, warm_start=False))])"
      ]
     },
     "execution_count": 454,
     "metadata": {},
     "output_type": "execute_result"
    }
   ],
   "source": [
    "new_features_train, new_features_test, labels_train, labels_test = train_test_split(\n",
    "    new_features, labels, train_size=0.7, test_size=0.3) # random_state=1234\n",
    "\n",
    "from sklearn.preprocessing import PolynomialFeatures\n",
    "\n",
    "pipe = Pipeline(steps=[('poly', PolynomialFeatures(degree=2)),\n",
    "                       ('lr', LogisticRegression())])\n",
    "\n",
    "pipe.fit(new_features_train, labels_train)"
   ]
  },
  {
   "cell_type": "code",
   "execution_count": 444,
   "metadata": {},
   "outputs": [
    {
     "data": {
      "text/plain": [
       "0.9538554948391014"
      ]
     },
     "execution_count": 444,
     "metadata": {},
     "output_type": "execute_result"
    }
   ],
   "source": [
    "pipe.score(new_features_test, labels_test)"
   ]
  },
  {
   "cell_type": "code",
   "execution_count": 401,
   "metadata": {},
   "outputs": [
    {
     "data": {
      "text/plain": [
       "0.9494791666666667"
      ]
     },
     "execution_count": 401,
     "metadata": {},
     "output_type": "execute_result"
    }
   ],
   "source": [
    "pipe.score(new_features_train, labels_train)"
   ]
  },
  {
   "cell_type": "code",
   "execution_count": 439,
   "metadata": {},
   "outputs": [
    {
     "data": {
      "text/plain": [
       "GridSearchCV(cv=8, error_score='raise',\n",
       "       estimator=Pipeline(memory=None,\n",
       "     steps=[('poly', PolynomialFeatures(degree=2, include_bias=True, interaction_only=False)), ('lr', LogisticRegression(C=1.0, class_weight=None, dual=False, fit_intercept=True,\n",
       "          intercept_scaling=1, max_iter=100, multi_class='ovr', n_jobs=1,\n",
       "          penalty='l2', random_state=None, solver='liblinear', tol=0.0001,\n",
       "          verbose=0, warm_start=False))]),\n",
       "       fit_params=None, iid=True, n_jobs=1, param_grid={'lr__C': [1]},\n",
       "       pre_dispatch='2*n_jobs', refit=True, return_train_score='warn',\n",
       "       scoring=None, verbose=0)"
      ]
     },
     "execution_count": 439,
     "metadata": {},
     "output_type": "execute_result"
    }
   ],
   "source": [
    "grid_search_pipe = GridSearchCV(pipe, param_grid=dict(lr__C = [1]), cv=8)\n",
    "grid_search_pipe.fit(new_features_test, labels_test)"
   ]
  },
  {
   "cell_type": "code",
   "execution_count": 441,
   "metadata": {},
   "outputs": [
    {
     "data": {
      "text/plain": [
       "0.9532483302975107"
      ]
     },
     "execution_count": 441,
     "metadata": {},
     "output_type": "execute_result"
    }
   ],
   "source": [
    "grid_search_pipe.score(new_features_test, labels_test)"
   ]
  },
  {
   "cell_type": "code",
   "execution_count": 432,
   "metadata": {},
   "outputs": [
    {
     "data": {
      "text/plain": [
       "0.94921875"
      ]
     },
     "execution_count": 432,
     "metadata": {},
     "output_type": "execute_result"
    }
   ],
   "source": [
    "grid_search_pipe.score(new_features_train, labels_train)"
   ]
  },
  {
   "cell_type": "code",
   "execution_count": null,
   "metadata": {},
   "outputs": [],
   "source": [
    "grid_search_pipe.best_params_"
   ]
  },
  {
   "cell_type": "code",
   "execution_count": 362,
   "metadata": {},
   "outputs": [],
   "source": [
    "# all_f = poly.fit_transform(features)\n",
    "# lr.score(all_f, labels)\n",
    "grid_search_pipe.best_estimator_.predict_proba()"
   ]
  },
  {
   "cell_type": "code",
   "execution_count": 465,
   "metadata": {},
   "outputs": [
    {
     "data": {
      "image/png": "[encoded data removed]",
      "text/plain": [
       "<matplotlib.figure.Figure at 0x17de6430>"
      ]
     },
     "metadata": {},
     "output_type": "display_data"
    }
   ],
   "source": [
    "cv = ShuffleSplit(n_splits=10, test_size=0.1, random_state=0)\n",
    "plot_learning_curve(grid_search_pipe.best_estimator_, \n",
    "                    \"Learning Curves (Experiment)\", \n",
    "                    new_features, labels, ylim=(0.9, 1.), cv=cv, n_jobs=4)\n",
    "plt.show()\n",
    "\n",
    "# experiment_estimator = grid_search_pipe.best_estimator_\n",
    "# roc = plot_roc_curve(experiment_estimator, new_features_test, labels_test, title=\"Experiment\")\n",
    "# roc.show()"
   ]
  },
  {
   "cell_type": "code",
   "execution_count": 466,
   "metadata": {},
   "outputs": [
    {
     "data": {
      "image/png": "[encoded data removed]",
      "text/plain": [
       "<matplotlib.figure.Figure at 0x17de6550>"
      ]
     },
     "metadata": {},
     "output_type": "display_data"
    }
   ],
   "source": [
    "cnf_matrix = confusion_matrix(labels_test, grid_search_pipe.best_estimator_.predict(new_features_test))\n",
    "np.set_printoptions(precision=2)\n",
    "\n",
    "# Plot non-normalized confusion matrix\n",
    "plt.figure()\n",
    "plot_confusion_matrix(cnf_matrix, classes=np.array([\"Males\", \"Females\"]), title='Confusion matrix', normalize=True)\n",
    "plt.show()"
   ]
  },
  {
   "cell_type": "markdown",
   "metadata": {},
   "source": [
    "## Demo"
   ]
  },
  {
   "cell_type": "code",
   "execution_count": 475,
   "metadata": {},
   "outputs": [],
   "source": [
    "def predict(image):\n",
    "    \"\"\" \n",
    "    Display the result of several models \n",
    "    If a model does not exists - try to load a saved model from the local storage\n",
    "    If a model exists but is not saved - save a model to a local sotrage\n",
    "    If a model is already saved - use the model from the memory (do not use the saved model)\n",
    "    \"\"\"\n",
    "    svm_model = None\n",
    "    logistic_regression_model = None\n",
    "    ada_boost_model = None\n",
    "    \n",
    "    row_image = image.ravel()\n",
    "    \n",
    "    names = [('grid_search_svm', './svm_model.sav', 'Gaussian SVM model'),\n",
    "             ('grid_search_logistic_regresion', './logistic_regression_model.sav', 'Logistic Regression model'),\n",
    "             ('ada_boost_grid_search', './ada_boost_model.sav', 'AdaBoost model')] \n",
    "    # ('grid_search_pipe', './pipe.sav', 'New model'\n",
    "    res = \"\"\n",
    "    for tuple_name in names:\n",
    "        model_name = tuple_name[0]\n",
    "        location = tuple_name[1]\n",
    "        title = tuple_name[2]\n",
    "        \n",
    "        if not os.path.exists(location) and model_name in globals():\n",
    "            model = (globals()[model_name]).best_estimator_\n",
    "            pickle.dump(model, open(location, 'wb'), protocol=2)\n",
    "            print(\"A model is dumped.\")\n",
    "        elif os.path.exists(location) and not model_name in globals():\n",
    "            model = pickle.load(open(location, 'rb'), protocol=2)\n",
    "            print(\"Warn: A model is loaded from the local storage.\")\n",
    "        elif model_name in globals():\n",
    "            model = (globals()[model_name]).best_estimator_\n",
    "            print(\"A model is used from the memory.\")\n",
    "        else:\n",
    "            print(\"Error: the program can't find a model not in memory or the local storage. Please build a model first.\")\n",
    "        \n",
    "        res += get_result(model.predict_proba([row_image]), title) + \"\\n\\n\"\n",
    "    \n",
    "    ##### Experiment START #####\n",
    "    svm = grid_search_svm.predict_proba([row_image])[0][1]\n",
    "    lr = grid_search_logistic_regresion.predict_proba([row_image])[0][1]\n",
    "    ada = ada_boost_grid_search.predict_proba([row_image])[0][1]\n",
    "    \n",
    "    experiment = grid_search_pipe.predict_proba([[svm, lr, ada]])\n",
    "    res += get_result(experiment, \"Experiment\") + \"\\n\\n\"\n",
    "    ##### Experiment END #####\n",
    "    \n",
    "    plt.figure()\n",
    "    plt.imshow(image.reshape(40,40), cmap=plt.cm.bone)\n",
    "    plt.annotate(res,xy=(0,0), xytext=(45,20), fontsize=20)\n",
    "\n",
    "    \n",
    "def get_result(result_proba, title):\n",
    "    \"\"\" Returns a result with model title \"\"\"\n",
    "    if result_proba[0][1] > .5:\n",
    "        res = \"Man({:.2f}%)\".format(result_proba[0][1]*100.)\n",
    "    else:\n",
    "        res =\"Woman({:.2f}%)\".format(result_proba[0][0]*100.)\n",
    "        \n",
    "    return \"{}: {}\".format(title, res)   \n",
    "\n"
   ]
  },
  {
   "cell_type": "code",
   "execution_count": 479,
   "metadata": {},
   "outputs": [],
   "source": [
    "# EXPERIMENTAL BOX\n",
    "def extract_faces_and_print(image):\n",
    "    face_cascade = cv2.CascadeClassifier('./faces_data/face.xml')\n",
    "    gray = cv2.cvtColor(image, cv2.COLOR_BGR2GRAY)\n",
    "    faces = face_cascade.detectMultiScale(gray, 1.3, 5)\n",
    "    w = 0\n",
    "    h = 0\n",
    "    for (x, y, width, height) in faces:\n",
    "        cv2.rectangle(frame, (x - w, y - h), (x + width + w, y + height + h), (255, 0, 0), 5)\n",
    "        face_gray = gray[(y - h): y + height + h, (x - w): x + width + w]\n",
    "        resized = cv2.resize(face_gray, dsize=RESIZE_SHAPE, interpolation=cv2.INTER_CUBIC)\n",
    "        try:\n",
    "            predict(resized)\n",
    "        except Exception as ex:\n",
    "            print(ex)\n",
    "            \n",
    "def extract_faces(image):\n",
    "    face_cascade = cv2.CascadeClassifier('./faces_data/face.xml')\n",
    "    gray = cv2.cvtColor(image, cv2.COLOR_BGR2GRAY)\n",
    "    faces = face_cascade.detectMultiScale(gray, 1.3, 5)\n",
    "    \n",
    "    return faces\n",
    "\n",
    "# extract_faces(cv2.imread('./faces_3.jpg'))"
   ]
  },
  {
   "cell_type": "code",
   "execution_count": 480,
   "metadata": {},
   "outputs": [
    {
     "name": "stdout",
     "output_type": "stream",
     "text": [
      "name 'extract_faces_and_print' is not defined\n"
     ]
    }
   ],
   "source": [
    "# EXPERIMENTAL BOX\n",
    "import cv2\n",
    "import numpy as np\n",
    "import time\n",
    "\n",
    "# data:       https://github.com/opencv/opencv/tree/master/data/haarcascades\n",
    "# faces, see: https://github.com/opencv/opencv/blob/master/data/haarcascades/haarcascade_frontalface_default.xml\n",
    "face_cascade = cv2.CascadeClassifier('./faces_data/face.xml')\n",
    "my_image = None\n",
    "\n",
    "size = 50\n",
    "\n",
    "cap = cv2.VideoCapture(0)\n",
    "is_running = True\n",
    "while True:\n",
    "    _, frame = cap.read()\n",
    "    \n",
    "    if cv2.waitKey(1) == ord('q') or not is_running:\n",
    "            resized = cv2.resize(face_gray, dsize=RESIZE_SHAPE, interpolation=cv2.INTER_CUBIC)\n",
    "            try:\n",
    "                extract_faces_and_print(frame)\n",
    "            except Exception as ex:\n",
    "                print(ex)\n",
    "            # time.sleep(2)\n",
    "            is_running = False\n",
    "    cv2.imshow('frame', frame)\n",
    "\n",
    "    if not is_running:\n",
    "        break\n",
    "\n",
    "cap.release()\n",
    "cv2.destroyAllWindows()"
   ]
  },
  {
   "cell_type": "code",
   "execution_count": 393,
   "metadata": {},
   "outputs": [
    {
     "name": "stdout",
     "output_type": "stream",
     "text": [
      "A model is used from the memory.\n",
      "A model is used from the memory.\n",
      "A model is used from the memory.\n"
     ]
    },
    {
     "data": {
      "image/png": "[encoded data removed]",
      "text/plain": [
       "<matplotlib.figure.Figure at 0x170ac6d0>"
      ]
     },
     "metadata": {},
     "output_type": "display_data"
    }
   ],
   "source": [
    "import cv2\n",
    "import numpy as np\n",
    "import time\n",
    "\n",
    "# data:       https://github.com/opencv/opencv/tree/master/data/haarcascades\n",
    "# faces, see: https://github.com/opencv/opencv/blob/master/data/haarcascades/haarcascade_frontalface_default.xml\n",
    "face_cascade = cv2.CascadeClassifier('./faces_data/face.xml')\n",
    "my_image = None\n",
    "\n",
    "size = 50\n",
    "\n",
    "cap = cv2.VideoCapture(0)\n",
    "is_running = True\n",
    "while True:\n",
    "    _, frame = cap.read()\n",
    "    gray = cv2.cvtColor(frame, cv2.COLOR_BGR2GRAY)\n",
    "    # looks for faces within the image\n",
    "    faces = face_cascade.detectMultiScale(gray, 1.3, 5)\n",
    "    w = 0 #30\n",
    "    h = 0 #50\n",
    "    for (x, y, width, height) in faces:\n",
    "        # print(\"x: {}, y: {}, width: {}, height: {}\".format(x, y, width, height))\n",
    "        # draws a rectangle around the detected face\n",
    "        cv2.rectangle(frame, (x - w, y - h), (x + width + w, y + height + h), (255, 0, 0), 5)\n",
    "        face_gray = gray[(y - h): y + height + h, (x - w): x + width + w]\n",
    "\n",
    "        if cv2.waitKey(1) == ord('q') or not is_running:\n",
    "            resized = cv2.resize(face_gray, dsize=RESIZE_SHAPE, interpolation=cv2.INTER_CUBIC)\n",
    "            try:\n",
    "                predict(resized)\n",
    "            except Exception as ex:\n",
    "                print(ex)\n",
    "            # time.sleep(2)\n",
    "            is_running = False\n",
    "\n",
    "    cv2.imshow('frame', frame)\n",
    "\n",
    "    if not is_running:\n",
    "        break\n",
    "\n",
    "cap.release()\n",
    "cv2.destroyAllWindows()"
   ]
  },
  {
   "cell_type": "code",
   "execution_count": null,
   "metadata": {},
   "outputs": [],
   "source": [
    "# eigenface_scaler = StandardScaler()\n",
    "# eigenface_features = scaler.fit_transform(features)\n",
    "\n",
    "# fig = plt.figure(figsize=(16, 6))\n",
    "# pca_eigenface = PCA(n_components=200, whiten=True)\n",
    "# pca_eigenface.fit(eigenface_features)\n",
    "\n",
    "# for i in range(30):\n",
    "#     ax = fig.add_subplot(3, 10, i + 1, xticks=[], yticks=[])\n",
    "#     plt.imshow(pca_eigenface.components_[i].reshape((40,40)), cmap=plt.cm.bone)"
   ]
  },
  {
   "cell_type": "code",
   "execution_count": 186,
   "metadata": {},
   "outputs": [],
   "source": [
    "#predict(my_image)"
   ]
  },
  {
   "cell_type": "code",
   "execution_count": 89,
   "metadata": {},
   "outputs": [],
   "source": [
    "# my_image = cv2.imread('./faces_data/fem_n2.JPG', cv2.IMREAD_GRAYSCALE)\n",
    "# my_image = cv2.resize(my_image, dsize=RESIZE_SHAPE)\n",
    "# my_image.shape\n",
    "\n",
    "# my_image = cv2.imread('./faces_data/gray_3.jpeg', cv2.IMREAD_GRAYSCALE)\n",
    "# img.shape\n",
    "# img"
   ]
  },
  {
   "cell_type": "code",
   "execution_count": 703,
   "metadata": {},
   "outputs": [],
   "source": [
    "# #cv2.imwrite('./test_img.jpg', my_image)\n",
    "# row = extract_features('./faces_data/fem_5.jpeg', FEMALE_CLASS)\n",
    "# img = row[:RESIZE_SHAPE[0]*RESIZE_SHAPE[1]]\n",
    "# img"
   ]
  },
  {
   "cell_type": "code",
   "execution_count": null,
   "metadata": {},
   "outputs": [],
   "source": []
  }
 ],
 "metadata": {
  "kernelspec": {
   "display_name": "Python 2",
   "language": "python",
   "name": "python2"
  },
  "language_info": {
   "codemirror_mode": {
    "name": "ipython",
    "version": 2
   },
   "file_extension": ".py",
   "mimetype": "text/x-python",
   "name": "python",
   "nbconvert_exporter": "python",
   "pygments_lexer": "ipython2",
   "version": "2.7.13"
  }
 },
 "nbformat": 4,
 "nbformat_minor": 2
}
