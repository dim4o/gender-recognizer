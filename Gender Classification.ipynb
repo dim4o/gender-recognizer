{
 "cells": [
  {
   "cell_type": "markdown",
   "metadata": {},
   "source": [
    "# Gender Classification"
   ]
  },
  {
   "cell_type": "markdown",
   "metadata": {},
   "source": [
    "## Introduction\n",
    "The aim of the article is to choose the best gender classification model between Logistic Regresson, SVM, Random Forest and Adaptive Boost algorithms. The particular thing about this is that we have relatively small data about famous public figures. We will also see how well the chosen model works for normal people like us. I suspect that the best model will be SVM, but let's see what happens."
   ]
  },
  {
   "cell_type": "markdown",
   "metadata": {},
   "source": [
    "## Table of content\n",
    "- [Introduction](#Introduction)\n",
    "- [Data processing](#Data-processing)\n",
    "    - [How to get the image dataset?](#How-to-get-the-image-dataset?)\n",
    "    - [Image data description](#Image-data-description)\n",
    "    - [Reducing the examples and balancing the data](#Reducing-the-examples-and-balancing-the-data)\n",
    "    - [Separating the data](#Separating-the-data)\n",
    "- [Dimensionality reduction](#Dimensionality-reduction)\n",
    "    - [Image transformations](#Image-transformations)\n",
    "    - [Feature selection](#Feature-selection)\n",
    "        - [Data normalization](#Data-normalization)\n",
    "        - [Chose the best features](#Chose-the-best-features)\n",
    "        - [Eigenfaces](#Eigenfaces)\n",
    "- [Model selection](#Model-selection)\n",
    "    - [Preparation](#Preparation)\n",
    "        - [Import the dataset](#Import-the-dataset)\n",
    "        - [Define an util functions](#Define-an-util-functions)\n",
    "    - [Logistic Regression model](#Logistic-Regression-model)\n",
    "        - [Basic Logistic Regression](#Basic-Logistic-Regression)\n",
    "        - [Tune the Logistic Regression params](#Tune-the-Logistic-Regression-params)\n",
    "        - [Analyse the results](#Analyse-the-results)\n",
    "    - [Train SVM model](#Train-SVM-model)\n",
    "        - [Basic Linear SVM model](#Basic-Linear-SVM-model)\n",
    "        - [Tune the Linear SVM model](#Tune-the-Linear-SVM-model)\n",
    "        - [Gaussian SVM model](#Gaussian-SVM-model)\n",
    "        - [Select the best SVM Model](Select-the-best-SVM Model)    \n",
    "    - [Random Forest clasifier](#Random-Forest-Clasifier)\n",
    "        - [Basic Random Forest](#Basic-Random-Forest)\n",
    "        - [Tune Random Forest parameters](#Tune-Random-Forest-parameters)\n",
    "    - [Adaptive Boost](#Adaptive-Boost)\n",
    "        - [Basic AdaBoost with Decision Tree](#Basic-AdaBoost-with-Decision-Tree)\n",
    "        - [Tune the AdaBoost parameters](#Tune-the-AdaBoost-parameters)\n",
    "    - [Experimental: attempt to combine models](#Experimental:-attempt-to-combine-models)  \n",
    "    - [Best model selection](#Best-model-selection)\n",
    "- [Demo](#Demo)"
   ]
  },
  {
   "cell_type": "markdown",
   "metadata": {},
   "source": [
    "I recommend you to install the `opencv` through `pip` because there is well known issues with the `conda` distribution - especially for Linux. The `opencv` library is used for the feature extraction and the [demo](#Demo) because it is easy work with camera and haar faces."
   ]
  },
  {
   "cell_type": "code",
   "execution_count": 1,
   "metadata": {},
   "outputs": [
    {
     "name": "stdout",
     "output_type": "stream",
     "text": [
      "Collecting opencv-python\n",
      "  Downloading opencv_python-3.4.0.12-cp36-cp36m-win_amd64.whl (33.3MB)\n",
      "Requirement already satisfied: numpy>=1.11.3 in c:\\users\\dimcho.nedev\\anaconda3\\lib\\site-packages (from opencv-python)\n",
      "Installing collected packages: opencv-python\n",
      "Successfully installed opencv-python-3.4.0.12\n"
     ]
    },
    {
     "name": "stderr",
     "output_type": "stream",
     "text": [
      "You are using pip version 9.0.1, however version 9.0.3 is available.\n",
      "You should consider upgrading via the 'python -m pip install --upgrade pip' command.\n"
     ]
    }
   ],
   "source": [
    "#run: `!conda remove --yes opencv` to remove conda opencv\n",
    "!pip install opencv-python"
   ]
  },
  {
   "cell_type": "code",
   "execution_count": 63,
   "metadata": {},
   "outputs": [],
   "source": [
    "%matplotlib inline\n",
    "\n",
    "import os\n",
    "import urllib\n",
    "import tarfile\n",
    "import re\n",
    "from shutil import copyfile\n",
    "import random\n",
    "import time\n",
    "import itertools\n",
    "import pickle\n",
    "\n",
    "import matplotlib.pyplot as plt\n",
    "import pandas as pd\n",
    "import numpy as np\n",
    "import cv2\n",
    "import urllib\n",
    "\n",
    "from sklearn.pipeline import Pipeline\n",
    "from sklearn.preprocessing import MinMaxScaler, StandardScaler\n",
    "from sklearn.decomposition import PCA\n",
    "from sklearn.feature_selection import RFECV, SelectKBest, SelectPercentile\n",
    "from sklearn.model_selection import train_test_split, GridSearchCV, StratifiedKFold, learning_curve, ShuffleSplit\n",
    "from sklearn.linear_model import LogisticRegression\n",
    "from sklearn.svm import LinearSVC, SVC\n",
    "from sklearn.ensemble import RandomForestClassifier, AdaBoostClassifier\n",
    "from sklearn.tree import DecisionTreeClassifier, ExtraTreeClassifier\n",
    "from sklearn.metrics import f1_score, accuracy_score, classification_report\n",
    "from sklearn.metrics import confusion_matrix, roc_curve, roc_auc_score\n",
    "from sklearn.neighbors import KNeighborsClassifier\n",
    "\n",
    "# Constants\n",
    "NUMBER_OF_SAMPLES = 2900\n",
    "RESIZE_SHAPE = (40, 40) # (64, 64)\n",
    "FEMALE_CLASS = 0\n",
    "MALE_CLASS = 1"
   ]
  },
  {
   "cell_type": "code",
   "execution_count": 17,
   "metadata": {},
   "outputs": [],
   "source": [
    "np.random.seed(42)\n",
    "random.seed(42)"
   ]
  },
  {
   "cell_type": "markdown",
   "metadata": {},
   "source": [
    "## Data processing\n",
    "### How to get the image dataset?\n",
    "If you want to download end extract the image dataset you can run the cell bellow. It will automate the downloading and extracting the image data. Note that this is not very fact process. Alternatively you can download the image data from [here](http://vis-www.cs.umass.edu/lfw/lfw-funneled.tgz) and extract the `lfw-funneled.tar` file to `./faces_data/original_data/lfw-funneled` folder. On Windows for example you can use `7zip` extractor. Otherwise you can skip this part and downalod the generated `.csv` [later](#Feature-extraction)."
   ]
  },
  {
   "cell_type": "code",
   "execution_count": 3,
   "metadata": {},
   "outputs": [
    {
     "name": "stdout",
     "output_type": "stream",
     "text": [
      "Downloading image data...\n",
      "Image data downalod location: '('/tmp/tmp8hhxx3b1', <http.client.HTTPMessage object at 0x7f7942c82278>)'\n"
     ]
    }
   ],
   "source": [
    "# Time: ~5 minutes\n",
    "# Downloads the  data\n",
    "print(\"Downloading image data...\")\n",
    "response = urllib.request.urlretrieve(\"http://vis-www.cs.umass.edu/lfw/lfw-funneled.tgz\")\n",
    "tar_url = response[0]\n",
    "print(\"Image data downalod location: '{}'\".format(response))"
   ]
  },
  {
   "cell_type": "code",
   "execution_count": 5,
   "metadata": {},
   "outputs": [
    {
     "name": "stdout",
     "output_type": "stream",
     "text": [
      "Source directory: '/tmp/tmp8hhxx3b1'\n",
      "Extracting to: './faces_data/original_data'\n",
      "Done.\n"
     ]
    }
   ],
   "source": [
    "# Time: typically this is extremely fast process but can be very slow on Windows\n",
    "# Extracts the downloaded data to './faces_data/original_data/lfw-funneled' directory\n",
    "def extract(tar_url, extract_path=\".\"):\n",
    "    print(\"Source directory: '{}'\".format(tar_url))\n",
    "    print(\"Extracting to: '{}'\".format(extract_path))\n",
    "    tar = tarfile.open(tar_url, 'r')\n",
    "    for item in tar:\n",
    "        tar.extract(item, extract_path)\n",
    "        if item.name.find(\".tgz\") != -1 or item.name.find(\".tar\") != -1:\n",
    "            extract(item.name, \"./\" + item.name[:item.name.rfind('/')])         \n",
    "            \n",
    "extract(tar_url, \"./faces_data/original_data\")\n",
    "print('Done.')"
   ]
  },
  {
   "cell_type": "code",
   "execution_count": 8,
   "metadata": {},
   "outputs": [
    {
     "name": "stdout",
     "output_type": "stream",
     "text": [
      "Removing '/tmp/tmp8hhxx3b1' ...\n",
      "[Errno 2] No such file or directory: '/tmp/tmp8hhxx3b1'\n",
      "Done.\n"
     ]
    }
   ],
   "source": [
    "# This operation is not mandatory\n",
    "# Removes the downlaoded *.tar file from the temporary folder\n",
    "try:\n",
    "    print(\"Removing '{}' ...\".format(tar_url))\n",
    "    os.remove(tar_url)\n",
    "except Exception as ex:\n",
    "    print(ex)\n",
    "print('Done.')    "
   ]
  },
  {
   "cell_type": "markdown",
   "metadata": {},
   "source": [
    "## Image data description\n",
    "We have datacet with `~5700` persons. Each person is assosiated with a folders with several pictires. The all pictures are `~13200`. The folders are not labeled but we have files with the female names and male names, so we can label each image easy. Each picture has dimensions `250x250px`. \n",
    "`./faces_data/original_data/female_names.txt`  \n",
    "`./faces_data/original_data/male_names.txt`"
   ]
  },
  {
   "cell_type": "markdown",
   "metadata": {},
   "source": [
    "Here we will defice some constant. We will use `2900` samples for the females and the same amount for the males. The base image size is `40x40` the lables are: `female -> 0` and `male -> 1`."
   ]
  },
  {
   "cell_type": "markdown",
   "metadata": {},
   "source": [
    "Let's make some calculations and data visualization by labels and plot them:"
   ]
  },
  {
   "cell_type": "code",
   "execution_count": 4,
   "metadata": {},
   "outputs": [
    {
     "data": {
      "image/png": "[encoded data removed]",
      "text/plain": [
       "<matplotlib.figure.Figure at 0x7f9bd9802fd0>"
      ]
     },
     "metadata": {},
     "output_type": "display_data"
    },
    {
     "name": "stdout",
     "output_type": "stream",
     "text": [
      "Females: 2966\n",
      "Males: 10268\n"
     ]
    }
   ],
   "source": [
    "female_names_data = pd.read_csv('./faces_data/original_data/female_names.txt', header=None, sep='\\n')\n",
    "male_names_data = pd.read_csv('./faces_data/original_data/male_names.txt', header=None, sep='\\n')\n",
    "\n",
    "female_count = len(female_names_data)\n",
    "male_count = len(male_names_data)\n",
    "\n",
    "# plot diagram\n",
    "fig, ax = plt.subplots()\n",
    "colors = ['pink', 'blue']\n",
    "rectangles = ax.bar((1, 2), (female_count, male_count), color=colors, width=0.8)\n",
    "ax.xaxis.set_visible(False)\n",
    "ax.legend((rectangles[0], rectangles[1]), ('Females', 'Males'))\n",
    "plt.show()\n",
    "\n",
    "print(\"Females: {}\".format(female_count))\n",
    "print(\"Males: {}\".format(male_count))"
   ]
  },
  {
   "cell_type": "markdown",
   "metadata": {},
   "source": [
    "From the graph we can see that we have high unbalanced data. Furthermore we have we have a relatively large number of exmples and a huge number number of features `250*250=62500` and each feature has 3 component because the picture is colorful. With the components the features are `187500`! For this reason, I will make some suggestions and simplifications so that I can train my machine learning model on my processor for some tolerable period of time:\n",
    "- I can get rid of the unbalanced data and the large number of examples by making the women/men ratio ~50/50\n",
    "- I can reduce the huge number of features by making grayscale image and apply some image transformations. \n",
    "- In addition later I can use a feature extraction algorithm to reduce the number of features.\n",
    "- I can perform data normalization because some algorihms works better with normalized data\n",
    "\n",
    "So there is something to be done. Let's get to work!"
   ]
  },
  {
   "cell_type": "markdown",
   "metadata": {},
   "source": [
    "### Reducing the examples and balancing the data\n",
    "We have more men than women, so we can take all women and we can randomly get the same number of men:"
   ]
  },
  {
   "cell_type": "code",
   "execution_count": 6,
   "metadata": {},
   "outputs": [
    {
     "name": "stdout",
     "output_type": "stream",
     "text": [
      "Females: 2900\n",
      "Males: 2900\n"
     ]
    }
   ],
   "source": [
    "female_names = female_names_data.get_values()[0:, 0]\n",
    "male_names = male_names_data.get_values()[0:, 0]\n",
    "\n",
    "female_names = random.sample(set(female_names), NUMBER_OF_SAMPLES)\n",
    "male_names = random.sample(set(male_names), NUMBER_OF_SAMPLES)\n",
    "\n",
    "print(\"Females: {}\".format(len(female_names)))\n",
    "print(\"Males: {}\".format(len(male_names)))"
   ]
  },
  {
   "cell_type": "code",
   "execution_count": 16,
   "metadata": {},
   "outputs": [
    {
     "name": "stdout",
     "output_type": "stream",
     "text": [
      "True\n"
     ]
    }
   ],
   "source": [
    "# test randomization\n",
    "female_names1 = random.sample(set(female_names), NUMBER_OF_SAMPLES)\n",
    "female_names2 = random.sample(set(female_names), NUMBER_OF_SAMPLES)\n",
    "\n",
    "print(len(set(female_names1) & set(female_names2)) == 2900)"
   ]
  },
  {
   "cell_type": "markdown",
   "metadata": {},
   "source": [
    "### Separating the data\n",
    "Let's create two folders where we will hold the representatives of the relevant classes:"
   ]
  },
  {
   "cell_type": "code",
   "execution_count": 84,
   "metadata": {},
   "outputs": [],
   "source": [
    "source_image_dir = \"./faces_data/original_data/lfw_funneled/\"\n",
    "directory_female = \"./faces_data/new_data/female/\"\n",
    "directory_male = \"./faces_data/new_data/male/\"\n",
    "if not os.path.exists(directory_female):\n",
    "    os.makedirs(directory_female)\n",
    "if not os.path.exists(directory_male):\n",
    "    os.makedirs(directory_male)"
   ]
  },
  {
   "cell_type": "code",
   "execution_count": 85,
   "metadata": {},
   "outputs": [],
   "source": [
    "def separate_data(face_names_data, source, destination):\n",
    "    for image_name in face_names_data:\n",
    "        name = re.match(\"([A-Za-z_-]+)_(\\d+.jpg)\", image_name)\n",
    "        if name is None:\n",
    "            print(\"Name: {}\".format(image_name))\n",
    "        name = name.group(1)    \n",
    "        path = source_image_dir + name + \"/\" + image_name\n",
    "#         if os.path.exists:\n",
    "#             print(path)\n",
    "        #print(path)\n",
    "        copyfile(path, destination + image_name)"
   ]
  },
  {
   "cell_type": "code",
   "execution_count": 86,
   "metadata": {},
   "outputs": [],
   "source": [
    "# separates the data\n",
    "separate_data(female_names, source_image_dir, directory_female)\n",
    "separate_data(male_names, source_image_dir, directory_male)"
   ]
  },
  {
   "cell_type": "code",
   "execution_count": 87,
   "metadata": {},
   "outputs": [
    {
     "name": "stdout",
     "output_type": "stream",
     "text": [
      "2900\n",
      "2900\n"
     ]
    }
   ],
   "source": [
    "# test print for the selected names\n",
    "female_image_names = os.listdir(\"./faces_data/new_data/female\")\n",
    "male_image_names = os.listdir(\"./faces_data/new_data/male\")\n",
    "print(len(female_image_names))\n",
    "print(len(male_image_names))"
   ]
  },
  {
   "cell_type": "markdown",
   "metadata": {},
   "source": [
    "## Dimensionality reduction"
   ]
  },
  {
   "cell_type": "markdown",
   "metadata": {},
   "source": [
    "### Image transformations"
   ]
  },
  {
   "cell_type": "markdown",
   "metadata": {},
   "source": [
    "Now I'll extract the features from the image following this actions:\n",
    "1. Get the original image\n",
    "2. Convet the image to garyscale\n",
    "3. Define the region of interests. Use haar faces to detect a face (if exist) on the image. If there is more than one faces, I'll get the square with the larger area.\n",
    "4. Crop the square from the gray image\n",
    "5. Apply gaussian kernel over the cripped image to reduce the noise.\n",
    "6. Resize the image to 40x40px  \n",
    "\n",
    "| | | |\n",
    "|: - :|: - :|: - :|\n",
    "|![original image](./markdown_res/Amelia_Vega_0001.jpg) | ![gray image](./markdown_res/Amelia_Vega_0001_gray.bmp) | ![face](./markdown_res/Amelia_Vega_0001_face.bmp) |\n",
    "| ![cropped face](./markdown_res/Amelia_Vega_0001_cropped.bmp) | ![resized face](./markdown_res/Amelia_Vega_0001_kernel.bmp) | ![resized face](./markdown_res/Amelia_Vega_0001_resized.bmp) |"
   ]
  },
  {
   "cell_type": "code",
   "execution_count": 88,
   "metadata": {},
   "outputs": [],
   "source": [
    "gender_faces_data = None\n",
    "gender_faces_data = np.empty(shape=(0,RESIZE_SHAPE[0]*RESIZE_SHAPE[1]+1)) #64*64+1\n",
    "face_cascade = cv2.CascadeClassifier('./faces_data/face.xml')\n",
    "\n",
    "def extract_features(image_path, label):\n",
    "    \"\"\" Extracts features from a image\n",
    "    :param image_path: the path to the image\n",
    "    :param label: the label of the image\n",
    "    :return: extracted features from the image with the corresponding label as a row matrix\n",
    "    \"\"\"\n",
    "    image = cv2.imread(image_path)\n",
    "    gray = cv2.cvtColor(image, cv2.COLOR_BGR2GRAY)\n",
    "    \n",
    "    row = None\n",
    "    faces = face_cascade.detectMultiScale(gray, 1.3, 5)\n",
    "    if faces is not ():\n",
    "        face = sorted(faces, key=lambda x: (x[2] * x[3]), reverse=True)[0]\n",
    "        x, y, width, height = face\n",
    "        face_gray = gray[y: y + height, x: x + width]\n",
    "        \n",
    "        # apply Gaussian kernel\n",
    "        kernel = np.ones((3,3),np.float32)/9\n",
    "        face_gray = cv2.filter2D(face_gray,-1,kernel)\n",
    "        \n",
    "        resized = cv2.resize(face_gray, dsize=RESIZE_SHAPE, interpolation=cv2.INTER_CUBIC)\n",
    "        row = np.append(resized.ravel(), label)\n",
    "\n",
    "    return row\n",
    "\n",
    "def append_data(prefix_path, label, gender_faces_data):\n",
    "    image_names = os.listdir(prefix_path)\n",
    "    for image_path in image_names:\n",
    "        # print(image_path)\n",
    "        curr_row = extract_features(prefix_path + image_path, label)\n",
    "        if curr_row is not None:\n",
    "            gender_faces_data = np.append(gender_faces_data, [curr_row], axis=0)\n",
    "        \n",
    "    return gender_faces_data  "
   ]
  },
  {
   "cell_type": "code",
   "execution_count": 89,
   "metadata": {},
   "outputs": [
    {
     "name": "stdout",
     "output_type": "stream",
     "text": [
      "(2737, 1601)\n",
      "(5487, 1601)\n"
     ]
    }
   ],
   "source": [
    "# Append the female faces\n",
    "gender_faces_data = append_data('./faces_data/new_data/female/', FEMALE_CLASS, gender_faces_data)\n",
    "female_data_shape = gender_faces_data.shape\n",
    "\n",
    "# Append the male faces\n",
    "gender_faces_data = append_data('./faces_data/new_data/male/', MALE_CLASS, gender_faces_data)\n",
    "male_data_shape = gender_faces_data.shape\n",
    "\n",
    "print(\"Female data shape: {}\".format(female_data_shape))\n",
    "print(\"Male data shape: {}\".format(male_data_shape))"
   ]
  },
  {
   "cell_type": "code",
   "execution_count": 90,
   "metadata": {
    "scrolled": true
   },
   "outputs": [
    {
     "data": {
      "text/plain": [
       "array([[ 40.,  32.,  26., ...,  87.,  86.,   1.],\n",
       "       [ 59.,  56.,  49., ...,  72.,  84.,   0.],\n",
       "       [ 29.,   6.,  13., ..., 105., 200.,   0.],\n",
       "       ...,\n",
       "       [ 38.,  56.,  68., ...,  29.,  34.,   1.],\n",
       "       [ 12.,  15.,  17., ...,  12.,  11.,   1.],\n",
       "       [188., 188., 188., ..., 108., 173.,   1.]])"
      ]
     },
     "execution_count": 90,
     "metadata": {},
     "output_type": "execute_result"
    }
   ],
   "source": [
    "# Suffle the data\n",
    "np.random.shuffle(gender_faces_data)\n",
    "gender_faces_data"
   ]
  },
  {
   "cell_type": "markdown",
   "metadata": {},
   "source": [
    "Now the data for the model is generated. The only thing left is to keep it in a file:"
   ]
  },
  {
   "cell_type": "code",
   "execution_count": 91,
   "metadata": {},
   "outputs": [],
   "source": [
    "np.savetxt(\"./faces_data/genders_data_40x40_large_2.csv\", gender_faces_data.astype(np.int), delimiter=\",\")"
   ]
  },
  {
   "cell_type": "markdown",
   "metadata": {},
   "source": [
    "### Feature extraction"
   ]
  },
  {
   "cell_type": "code",
   "execution_count": 5,
   "metadata": {},
   "outputs": [
    {
     "name": "stdout",
     "output_type": "stream",
     "text": [
      "Downloading a dataset...\n",
      "Dataset downalod location: './faces_data/genders_data_40x40_large_2.csv'\n"
     ]
    },
    {
     "data": {
      "text/html": [
       "<div>\n",
       "<style scoped>\n",
       "    .dataframe tbody tr th:only-of-type {\n",
       "        vertical-align: middle;\n",
       "    }\n",
       "\n",
       "    .dataframe tbody tr th {\n",
       "        vertical-align: top;\n",
       "    }\n",
       "\n",
       "    .dataframe thead th {\n",
       "        text-align: right;\n",
       "    }\n",
       "</style>\n",
       "<table border=\"1\" class=\"dataframe\">\n",
       "  <thead>\n",
       "    <tr style=\"text-align: right;\">\n",
       "      <th></th>\n",
       "      <th>0</th>\n",
       "      <th>1</th>\n",
       "      <th>2</th>\n",
       "      <th>3</th>\n",
       "      <th>4</th>\n",
       "      <th>5</th>\n",
       "      <th>6</th>\n",
       "      <th>7</th>\n",
       "      <th>8</th>\n",
       "      <th>9</th>\n",
       "      <th>...</th>\n",
       "      <th>1591</th>\n",
       "      <th>1592</th>\n",
       "      <th>1593</th>\n",
       "      <th>1594</th>\n",
       "      <th>1595</th>\n",
       "      <th>1596</th>\n",
       "      <th>1597</th>\n",
       "      <th>1598</th>\n",
       "      <th>1599</th>\n",
       "      <th>1600</th>\n",
       "    </tr>\n",
       "  </thead>\n",
       "  <tbody>\n",
       "    <tr>\n",
       "      <th>0</th>\n",
       "      <td>40.0</td>\n",
       "      <td>32.0</td>\n",
       "      <td>26.0</td>\n",
       "      <td>23.0</td>\n",
       "      <td>21.0</td>\n",
       "      <td>22.0</td>\n",
       "      <td>29.0</td>\n",
       "      <td>67.0</td>\n",
       "      <td>84.0</td>\n",
       "      <td>67.0</td>\n",
       "      <td>...</td>\n",
       "      <td>106.0</td>\n",
       "      <td>93.0</td>\n",
       "      <td>93.0</td>\n",
       "      <td>94.0</td>\n",
       "      <td>92.0</td>\n",
       "      <td>92.0</td>\n",
       "      <td>90.0</td>\n",
       "      <td>87.0</td>\n",
       "      <td>86.0</td>\n",
       "      <td>1.0</td>\n",
       "    </tr>\n",
       "    <tr>\n",
       "      <th>1</th>\n",
       "      <td>59.0</td>\n",
       "      <td>56.0</td>\n",
       "      <td>49.0</td>\n",
       "      <td>40.0</td>\n",
       "      <td>40.0</td>\n",
       "      <td>46.0</td>\n",
       "      <td>61.0</td>\n",
       "      <td>80.0</td>\n",
       "      <td>109.0</td>\n",
       "      <td>119.0</td>\n",
       "      <td>...</td>\n",
       "      <td>196.0</td>\n",
       "      <td>173.0</td>\n",
       "      <td>178.0</td>\n",
       "      <td>200.0</td>\n",
       "      <td>192.0</td>\n",
       "      <td>162.0</td>\n",
       "      <td>60.0</td>\n",
       "      <td>72.0</td>\n",
       "      <td>84.0</td>\n",
       "      <td>0.0</td>\n",
       "    </tr>\n",
       "    <tr>\n",
       "      <th>2</th>\n",
       "      <td>29.0</td>\n",
       "      <td>6.0</td>\n",
       "      <td>13.0</td>\n",
       "      <td>26.0</td>\n",
       "      <td>9.0</td>\n",
       "      <td>4.0</td>\n",
       "      <td>5.0</td>\n",
       "      <td>30.0</td>\n",
       "      <td>62.0</td>\n",
       "      <td>106.0</td>\n",
       "      <td>...</td>\n",
       "      <td>87.0</td>\n",
       "      <td>17.0</td>\n",
       "      <td>22.0</td>\n",
       "      <td>57.0</td>\n",
       "      <td>68.0</td>\n",
       "      <td>65.0</td>\n",
       "      <td>55.0</td>\n",
       "      <td>105.0</td>\n",
       "      <td>200.0</td>\n",
       "      <td>0.0</td>\n",
       "    </tr>\n",
       "    <tr>\n",
       "      <th>3</th>\n",
       "      <td>79.0</td>\n",
       "      <td>83.0</td>\n",
       "      <td>86.0</td>\n",
       "      <td>86.0</td>\n",
       "      <td>87.0</td>\n",
       "      <td>86.0</td>\n",
       "      <td>81.0</td>\n",
       "      <td>64.0</td>\n",
       "      <td>29.0</td>\n",
       "      <td>70.0</td>\n",
       "      <td>...</td>\n",
       "      <td>67.0</td>\n",
       "      <td>93.0</td>\n",
       "      <td>100.0</td>\n",
       "      <td>108.0</td>\n",
       "      <td>119.0</td>\n",
       "      <td>133.0</td>\n",
       "      <td>134.0</td>\n",
       "      <td>131.0</td>\n",
       "      <td>161.0</td>\n",
       "      <td>1.0</td>\n",
       "    </tr>\n",
       "    <tr>\n",
       "      <th>4</th>\n",
       "      <td>29.0</td>\n",
       "      <td>28.0</td>\n",
       "      <td>32.0</td>\n",
       "      <td>53.0</td>\n",
       "      <td>75.0</td>\n",
       "      <td>66.0</td>\n",
       "      <td>60.0</td>\n",
       "      <td>70.0</td>\n",
       "      <td>71.0</td>\n",
       "      <td>70.0</td>\n",
       "      <td>...</td>\n",
       "      <td>143.0</td>\n",
       "      <td>82.0</td>\n",
       "      <td>12.0</td>\n",
       "      <td>24.0</td>\n",
       "      <td>34.0</td>\n",
       "      <td>43.0</td>\n",
       "      <td>45.0</td>\n",
       "      <td>40.0</td>\n",
       "      <td>34.0</td>\n",
       "      <td>1.0</td>\n",
       "    </tr>\n",
       "  </tbody>\n",
       "</table>\n",
       "<p>5 rows × 1601 columns</p>\n",
       "</div>"
      ],
      "text/plain": [
       "   0     1     2     3     4     5     6     7      8      9     ...    1591  \\\n",
       "0  40.0  32.0  26.0  23.0  21.0  22.0  29.0  67.0   84.0   67.0  ...   106.0   \n",
       "1  59.0  56.0  49.0  40.0  40.0  46.0  61.0  80.0  109.0  119.0  ...   196.0   \n",
       "2  29.0   6.0  13.0  26.0   9.0   4.0   5.0  30.0   62.0  106.0  ...    87.0   \n",
       "3  79.0  83.0  86.0  86.0  87.0  86.0  81.0  64.0   29.0   70.0  ...    67.0   \n",
       "4  29.0  28.0  32.0  53.0  75.0  66.0  60.0  70.0   71.0   70.0  ...   143.0   \n",
       "\n",
       "    1592   1593   1594   1595   1596   1597   1598   1599  1600  \n",
       "0   93.0   93.0   94.0   92.0   92.0   90.0   87.0   86.0   1.0  \n",
       "1  173.0  178.0  200.0  192.0  162.0   60.0   72.0   84.0   0.0  \n",
       "2   17.0   22.0   57.0   68.0   65.0   55.0  105.0  200.0   0.0  \n",
       "3   93.0  100.0  108.0  119.0  133.0  134.0  131.0  161.0   1.0  \n",
       "4   82.0   12.0   24.0   34.0   43.0   45.0   40.0   34.0   1.0  \n",
       "\n",
       "[5 rows x 1601 columns]"
      ]
     },
     "execution_count": 5,
     "metadata": {},
     "output_type": "execute_result"
    }
   ],
   "source": [
    "dataset_file = \"./faces_data/genders_data_40x40_large_2.csv\"\n",
    "if not os.path.exists(dataset_file):\n",
    "    # Downloads the  data\n",
    "    print(\"Downloading a dataset...\")\n",
    "    response = urllib.request.urlretrieve(\n",
    "        \"https://www.dropbox.com/s/5rp97ixw8a85v1t/genders_data_40x40_large_2.csv?dl=1\", dataset_file)\n",
    "    print(\"Dataset downalod location: '{}'\".format(response[0]))\n",
    "\n",
    "gender_faces_data = pd.read_csv(dataset_file, sep=',', header=None)\n",
    "gender_faces_data.head()"
   ]
  },
  {
   "cell_type": "markdown",
   "metadata": {},
   "source": [
    "#### Data normalization\n",
    "It is better to normalize the data before trying diffrent feature selection algorihms"
   ]
  },
  {
   "cell_type": "code",
   "execution_count": 6,
   "metadata": {},
   "outputs": [
    {
     "name": "stdout",
     "output_type": "stream",
     "text": [
      "(5487, 1600)\n",
      "(5487,)\n",
      "[1. 0. 0. ... 1. 1. 1.]\n"
     ]
    }
   ],
   "source": [
    "# get features\n",
    "features = gender_faces_data.as_matrix()[:, :RESIZE_SHAPE[0]*RESIZE_SHAPE[1]]\n",
    "print(features.shape)\n",
    "\n",
    "# get labels\n",
    "labels = gender_faces_data.as_matrix()[:, RESIZE_SHAPE[0]*RESIZE_SHAPE[1]:].ravel() # labels = gender_faces_data.as_matrix()[:, 50*50:].ravel()\n",
    "print(labels.shape)\n",
    "print(labels)"
   ]
  },
  {
   "cell_type": "code",
   "execution_count": 95,
   "metadata": {},
   "outputs": [
    {
     "name": "stdout",
     "output_type": "stream",
     "text": [
      "Females count: 2737\n",
      "Males count: 2750\n",
      "{0.0: 2737, 1.0: 2750}\n"
     ]
    }
   ],
   "source": [
    "# calculates the final counts\n",
    "unique, count = np.unique(labels, return_counts=True)\n",
    "print(\"Females count: {}\".format(count[0]))\n",
    "print(\"Males count: {}\".format(count[1]))\n",
    "# out = np.histogram(labels, bins=labels)\n",
    "print(dict(zip(unique, count)))"
   ]
  },
  {
   "cell_type": "markdown",
   "metadata": {},
   "source": [
    "#### Chose the best features\n",
    "It is dificult to find the best `PCA` parameters but I can make very rough approximations with something like grid search."
   ]
  },
  {
   "cell_type": "code",
   "execution_count": 97,
   "metadata": {},
   "outputs": [
    {
     "name": "stdout",
     "output_type": "stream",
     "text": [
      "Features shape: (5487, 1600)\n",
      "Reducing features to 80 ...\n",
      "    train_score: 0.8390625\n",
      "    test_score: 0.8318154219793564\n",
      "Reducing features to 140 ...\n",
      "    train_score: 0.8572916666666667\n",
      "    test_score: 0.840922890103218\n",
      "Reducing features to 200 ...\n",
      "    train_score: 0.8559895833333333\n",
      "    test_score: 0.8421372191863995\n",
      "Reducing features to 260 ...\n",
      "    train_score: 0.8580729166666666\n",
      "    test_score: 0.8397085610200364\n",
      "Reducing features to 320 ...\n",
      "    train_score: 0.8598958333333333\n",
      "    test_score: 0.8397085610200364\n",
      "Reducing features to 380 ...\n",
      "    train_score: 0.8598958333333333\n",
      "    test_score: 0.8427443837279903\n",
      "Reducing features to 440 ...\n",
      "    train_score: 0.8614583333333333\n",
      "    test_score: 0.8421372191863995\n",
      "Reducing features to 1000 ...\n",
      "    train_score: 0.8630208333333333\n",
      "    test_score: 0.8421372191863995\n",
      "Finished.\n"
     ]
    }
   ],
   "source": [
    "print(\"Features shape: {}\".format(features.shape))\n",
    "features_counts = [80, 140, 200, 260, 320, 380, 440, 1000]\n",
    "test_scores = []\n",
    "train_scores = []\n",
    "for f_count in features_counts:\n",
    "    print(\"Reducing features to {} ...\".format(f_count))\n",
    "    pca = PCA(n_components=f_count)\n",
    "\n",
    "    pca.fit(features)\n",
    "    reduced_features = pca.transform(features)\n",
    "    \n",
    "    features_train, features_test, labels_train, labels_test = train_test_split(\n",
    "        reduced_features, labels, train_size=0.7, test_size=0.3, random_state=0)\n",
    "    \n",
    "    logistic_regression = LogisticRegression(C=0.001)\n",
    "    logistic_regression.fit(features_train, labels_train)\n",
    "    \n",
    "    test_score = logistic_regression.score(features_test, labels_test)\n",
    "    train_score = logistic_regression.score(features_train, labels_train)\n",
    "    \n",
    "    print(\"    train_score: {}\".format(train_score))\n",
    "    print(\"    test_score: {}\".format(test_score))\n",
    "    \n",
    "    test_scores.append(test_score)\n",
    "    train_scores.append(train_score)\n",
    "    \n",
    "print(\"Finished.\")"
   ]
  },
  {
   "cell_type": "code",
   "execution_count": 98,
   "metadata": {},
   "outputs": [
    {
     "data": {
      "image/png": "[encoded data removed]",
      "text/plain": [
       "<matplotlib.figure.Figure at 0x7f4e65982898>"
      ]
     },
     "metadata": {},
     "output_type": "display_data"
    }
   ],
   "source": [
    "plt.plot(features_counts, test_scores)\n",
    "plt.plot(features_counts, train_scores)\n",
    "plt.legend([\"test_score\", \"train score\"])\n",
    "plt.xlabel(\"number of components\")\n",
    "plt.ylabel(\"accuracy score\")\n",
    "plt.show()"
   ]
  },
  {
   "cell_type": "markdown",
   "metadata": {},
   "source": [
    "I know that this type of calculation can be misleading because I have not applied cross validation and grid rearch for the best parameters. However, they may be a very general reference and correspond to what I have identified with many attempts. So `n_components=200` is a good choice."
   ]
  },
  {
   "cell_type": "markdown",
   "metadata": {},
   "source": [
    "#### Eigenfaces\n",
    "Let's see what the computer actually sees:"
   ]
  },
  {
   "cell_type": "code",
   "execution_count": 655,
   "metadata": {},
   "outputs": [
    {
     "data": {
      "image/png": "[encoded data removed]",
      "text/plain": [
       "<matplotlib.figure.Figure at 0x7f4e2eabb470>"
      ]
     },
     "metadata": {},
     "output_type": "display_data"
    }
   ],
   "source": [
    "eigenface_scaler = StandardScaler()\n",
    "eigenface_features = scaler.fit_transform(features)\n",
    "\n",
    "fig = plt.figure(figsize=(16, 6))\n",
    "pca_eigenface = PCA(n_components=200, whiten=True)\n",
    "pca_eigenface.fit(eigenface_features)\n",
    "\n",
    "for i in range(30):\n",
    "    ax = fig.add_subplot(3, 10, i + 1, xticks=[], yticks=[])\n",
    "    plt.imshow(pca_eigenface.components_[i].reshape((40,40)), cmap=plt.cm.bone)"
   ]
  },
  {
   "cell_type": "markdown",
   "metadata": {},
   "source": [
    "## Model selection"
   ]
  },
  {
   "cell_type": "markdown",
   "metadata": {},
   "source": [
    "### Preparation"
   ]
  },
  {
   "cell_type": "markdown",
   "metadata": {},
   "source": [
    "#### Import the dataset"
   ]
  },
  {
   "cell_type": "code",
   "execution_count": 66,
   "metadata": {},
   "outputs": [
    {
     "name": "stdout",
     "output_type": "stream",
     "text": [
      "(5487, 1601)\n"
     ]
    },
    {
     "data": {
      "text/html": [
       "<div>\n",
       "<style scoped>\n",
       "    .dataframe tbody tr th:only-of-type {\n",
       "        vertical-align: middle;\n",
       "    }\n",
       "\n",
       "    .dataframe tbody tr th {\n",
       "        vertical-align: top;\n",
       "    }\n",
       "\n",
       "    .dataframe thead th {\n",
       "        text-align: right;\n",
       "    }\n",
       "</style>\n",
       "<table border=\"1\" class=\"dataframe\">\n",
       "  <thead>\n",
       "    <tr style=\"text-align: right;\">\n",
       "      <th></th>\n",
       "      <th>0</th>\n",
       "      <th>1</th>\n",
       "      <th>2</th>\n",
       "      <th>3</th>\n",
       "      <th>4</th>\n",
       "      <th>5</th>\n",
       "      <th>6</th>\n",
       "      <th>7</th>\n",
       "      <th>8</th>\n",
       "      <th>9</th>\n",
       "      <th>...</th>\n",
       "      <th>1591</th>\n",
       "      <th>1592</th>\n",
       "      <th>1593</th>\n",
       "      <th>1594</th>\n",
       "      <th>1595</th>\n",
       "      <th>1596</th>\n",
       "      <th>1597</th>\n",
       "      <th>1598</th>\n",
       "      <th>1599</th>\n",
       "      <th>1600</th>\n",
       "    </tr>\n",
       "  </thead>\n",
       "  <tbody>\n",
       "    <tr>\n",
       "      <th>0</th>\n",
       "      <td>40.0</td>\n",
       "      <td>32.0</td>\n",
       "      <td>26.0</td>\n",
       "      <td>23.0</td>\n",
       "      <td>21.0</td>\n",
       "      <td>22.0</td>\n",
       "      <td>29.0</td>\n",
       "      <td>67.0</td>\n",
       "      <td>84.0</td>\n",
       "      <td>67.0</td>\n",
       "      <td>...</td>\n",
       "      <td>106.0</td>\n",
       "      <td>93.0</td>\n",
       "      <td>93.0</td>\n",
       "      <td>94.0</td>\n",
       "      <td>92.0</td>\n",
       "      <td>92.0</td>\n",
       "      <td>90.0</td>\n",
       "      <td>87.0</td>\n",
       "      <td>86.0</td>\n",
       "      <td>1.0</td>\n",
       "    </tr>\n",
       "    <tr>\n",
       "      <th>1</th>\n",
       "      <td>59.0</td>\n",
       "      <td>56.0</td>\n",
       "      <td>49.0</td>\n",
       "      <td>40.0</td>\n",
       "      <td>40.0</td>\n",
       "      <td>46.0</td>\n",
       "      <td>61.0</td>\n",
       "      <td>80.0</td>\n",
       "      <td>109.0</td>\n",
       "      <td>119.0</td>\n",
       "      <td>...</td>\n",
       "      <td>196.0</td>\n",
       "      <td>173.0</td>\n",
       "      <td>178.0</td>\n",
       "      <td>200.0</td>\n",
       "      <td>192.0</td>\n",
       "      <td>162.0</td>\n",
       "      <td>60.0</td>\n",
       "      <td>72.0</td>\n",
       "      <td>84.0</td>\n",
       "      <td>0.0</td>\n",
       "    </tr>\n",
       "    <tr>\n",
       "      <th>2</th>\n",
       "      <td>29.0</td>\n",
       "      <td>6.0</td>\n",
       "      <td>13.0</td>\n",
       "      <td>26.0</td>\n",
       "      <td>9.0</td>\n",
       "      <td>4.0</td>\n",
       "      <td>5.0</td>\n",
       "      <td>30.0</td>\n",
       "      <td>62.0</td>\n",
       "      <td>106.0</td>\n",
       "      <td>...</td>\n",
       "      <td>87.0</td>\n",
       "      <td>17.0</td>\n",
       "      <td>22.0</td>\n",
       "      <td>57.0</td>\n",
       "      <td>68.0</td>\n",
       "      <td>65.0</td>\n",
       "      <td>55.0</td>\n",
       "      <td>105.0</td>\n",
       "      <td>200.0</td>\n",
       "      <td>0.0</td>\n",
       "    </tr>\n",
       "    <tr>\n",
       "      <th>3</th>\n",
       "      <td>79.0</td>\n",
       "      <td>83.0</td>\n",
       "      <td>86.0</td>\n",
       "      <td>86.0</td>\n",
       "      <td>87.0</td>\n",
       "      <td>86.0</td>\n",
       "      <td>81.0</td>\n",
       "      <td>64.0</td>\n",
       "      <td>29.0</td>\n",
       "      <td>70.0</td>\n",
       "      <td>...</td>\n",
       "      <td>67.0</td>\n",
       "      <td>93.0</td>\n",
       "      <td>100.0</td>\n",
       "      <td>108.0</td>\n",
       "      <td>119.0</td>\n",
       "      <td>133.0</td>\n",
       "      <td>134.0</td>\n",
       "      <td>131.0</td>\n",
       "      <td>161.0</td>\n",
       "      <td>1.0</td>\n",
       "    </tr>\n",
       "    <tr>\n",
       "      <th>4</th>\n",
       "      <td>29.0</td>\n",
       "      <td>28.0</td>\n",
       "      <td>32.0</td>\n",
       "      <td>53.0</td>\n",
       "      <td>75.0</td>\n",
       "      <td>66.0</td>\n",
       "      <td>60.0</td>\n",
       "      <td>70.0</td>\n",
       "      <td>71.0</td>\n",
       "      <td>70.0</td>\n",
       "      <td>...</td>\n",
       "      <td>143.0</td>\n",
       "      <td>82.0</td>\n",
       "      <td>12.0</td>\n",
       "      <td>24.0</td>\n",
       "      <td>34.0</td>\n",
       "      <td>43.0</td>\n",
       "      <td>45.0</td>\n",
       "      <td>40.0</td>\n",
       "      <td>34.0</td>\n",
       "      <td>1.0</td>\n",
       "    </tr>\n",
       "  </tbody>\n",
       "</table>\n",
       "<p>5 rows × 1601 columns</p>\n",
       "</div>"
      ],
      "text/plain": [
       "   0     1     2     3     4     5     6     7      8      9     ...    1591  \\\n",
       "0  40.0  32.0  26.0  23.0  21.0  22.0  29.0  67.0   84.0   67.0  ...   106.0   \n",
       "1  59.0  56.0  49.0  40.0  40.0  46.0  61.0  80.0  109.0  119.0  ...   196.0   \n",
       "2  29.0   6.0  13.0  26.0   9.0   4.0   5.0  30.0   62.0  106.0  ...    87.0   \n",
       "3  79.0  83.0  86.0  86.0  87.0  86.0  81.0  64.0   29.0   70.0  ...    67.0   \n",
       "4  29.0  28.0  32.0  53.0  75.0  66.0  60.0  70.0   71.0   70.0  ...   143.0   \n",
       "\n",
       "    1592   1593   1594   1595   1596   1597   1598   1599  1600  \n",
       "0   93.0   93.0   94.0   92.0   92.0   90.0   87.0   86.0   1.0  \n",
       "1  173.0  178.0  200.0  192.0  162.0   60.0   72.0   84.0   0.0  \n",
       "2   17.0   22.0   57.0   68.0   65.0   55.0  105.0  200.0   0.0  \n",
       "3   93.0  100.0  108.0  119.0  133.0  134.0  131.0  161.0   1.0  \n",
       "4   82.0   12.0   24.0   34.0   43.0   45.0   40.0   34.0   1.0  \n",
       "\n",
       "[5 rows x 1601 columns]"
      ]
     },
     "execution_count": 66,
     "metadata": {},
     "output_type": "execute_result"
    }
   ],
   "source": [
    "gender_faces_data = pd.read_csv('./faces_data/genders_data_40x40_large_2.csv', sep=',', header=None)\n",
    "\n",
    "print(gender_faces_data.shape)\n",
    "gender_faces_data.head()"
   ]
  },
  {
   "cell_type": "code",
   "execution_count": 67,
   "metadata": {},
   "outputs": [
    {
     "name": "stdout",
     "output_type": "stream",
     "text": [
      "(5487, 1600)\n"
     ]
    }
   ],
   "source": [
    "features = gender_faces_data.as_matrix()[:, :RESIZE_SHAPE[0]*RESIZE_SHAPE[1]] #features = gender_faces_data[:, :50*50] # features = gender_faces_data.as_matrix()[:, :50*50]\n",
    "print(features.shape)"
   ]
  },
  {
   "cell_type": "code",
   "execution_count": 68,
   "metadata": {},
   "outputs": [
    {
     "name": "stdout",
     "output_type": "stream",
     "text": [
      "(5487,)\n",
      "[1. 0. 0. ... 1. 1. 1.]\n"
     ]
    }
   ],
   "source": [
    "labels = gender_faces_data.as_matrix()[:, RESIZE_SHAPE[0]*RESIZE_SHAPE[1]:].ravel() # labels = gender_faces_data.as_matrix()[:, 50*50:].ravel()\n",
    "print(labels.shape)\n",
    "print(labels)"
   ]
  },
  {
   "cell_type": "markdown",
   "metadata": {},
   "source": [
    "#### Define an util functions"
   ]
  },
  {
   "cell_type": "code",
   "execution_count": 69,
   "metadata": {},
   "outputs": [],
   "source": [
    "def plot_roc_curve(estimator, features_test, labels_test, title):\n",
    "    \"\"\" Plots ROC curve\"\"\"\n",
    "    logit_roc_auc = roc_auc_score(labels_test, estimator.predict(features_test))\n",
    "    false_positive_rate, true_positive_rate, thresholds = roc_curve(\n",
    "        labels_test, estimator.predict_proba(features_test)[:,1])\n",
    "    plt.figure()\n",
    "    plt.plot(false_positive_rate, true_positive_rate, label='{} (area = {:0.2f})'.format(title, logit_roc_auc))\n",
    "    plt.plot([0, 1], [0, 1],'r--')\n",
    "    plt.xlim([0.0, 1.0])\n",
    "    plt.ylim([0.0, 1.05])\n",
    "    plt.xlabel('False Positive Rate')\n",
    "    plt.ylabel('True Positive Rate')\n",
    "    plt.title('Receiver operating characteristic')\n",
    "    plt.legend(loc=\"lower right\")\n",
    "    plt.savefig('Log_ROC')\n",
    "    return plt"
   ]
  },
  {
   "cell_type": "code",
   "execution_count": 70,
   "metadata": {},
   "outputs": [],
   "source": [
    "def print_grid_search_results(grid_search_pipeline, splits):\n",
    "    \"\"\" Prints reformated version of the cv_results_\n",
    "    :param grid_search_pipeline: grid_search estimator\n",
    "    :param splits: the number of the kFold splits\n",
    "    :return: table with parameters\n",
    "    \"\"\"\n",
    "    results = pd.DataFrame(grid_search_pipeline.cv_results_)\n",
    "    results = results.drop(['mean_fit_time', 'mean_score_time', 'std_fit_time', 'std_score_time', 'params'], axis=1)\n",
    "    columns = columns={\"param_pca__n_components\": \"param_pca\", \"param_classifier__C\": \"param_C\", \n",
    "                       \"mean_test_score\": \"mean_test\",\"mean_train_score\": \"mean_train\", \"rank_test_score\": \n",
    "                       \"rank_test\", \"param_clf__n_estimators\": \"n_estimators\"}\n",
    "    for i in range(0, splits):\n",
    "        columns[\"split\" + str(i) + \"_train_score\"]=\"split\" + str(i) + \"_train\"\n",
    "        columns[\"split\" + str(i) + \"_test_score\"]=\"split\" + str(i) + \"_test\"\n",
    "    results = results.rename(columns=columns)\n",
    "    results.sort_values(by='rank_test', inplace=True)\n",
    "    return results.head(len(grid_search_pipeline.cv_results_['params']))"
   ]
  },
  {
   "cell_type": "code",
   "execution_count": 71,
   "metadata": {},
   "outputs": [],
   "source": [
    "def plot_learning_curve(estimator, title, X, y, ylim=None, cv=None,\n",
    "                        n_jobs=1, train_sizes=np.linspace(.1, 1.0, 5)):\n",
    "    \"\"\"\n",
    "    Generate a simple plot of the test and training learning curve.\n",
    "    For more info see the origanl documtation here: \n",
    "    http://scikit-learn.org/stable/auto_examples/model_selection/plot_learning_curve.html\n",
    "    \"\"\"\n",
    "    plt.figure()\n",
    "    plt.title(title)\n",
    "    if ylim is not None:\n",
    "        plt.ylim(*ylim)\n",
    "    plt.xlabel(\"Training examples\")\n",
    "    plt.ylabel(\"Score\")\n",
    "    train_sizes, train_scores, test_scores = learning_curve(\n",
    "        estimator, X, y, cv=cv, n_jobs=n_jobs, train_sizes=train_sizes)\n",
    "    train_scores_mean = np.mean(train_scores, axis=1)\n",
    "    train_scores_std = np.std(train_scores, axis=1)\n",
    "    test_scores_mean = np.mean(test_scores, axis=1)\n",
    "    test_scores_std = np.std(test_scores, axis=1)\n",
    "    plt.grid()\n",
    "\n",
    "    plt.fill_between(train_sizes, train_scores_mean - train_scores_std,\n",
    "                     train_scores_mean + train_scores_std, alpha=0.1,\n",
    "                     color=\"r\")\n",
    "    plt.fill_between(train_sizes, test_scores_mean - test_scores_std,\n",
    "                     test_scores_mean + test_scores_std, alpha=0.1, color=\"g\")\n",
    "    plt.plot(train_sizes, train_scores_mean, 'o-', color=\"r\",\n",
    "             label=\"Training score\")\n",
    "    plt.plot(train_sizes, test_scores_mean, 'o-', color=\"g\",\n",
    "             label=\"Cross-validation score\")\n",
    "\n",
    "    plt.legend(loc=\"best\")\n",
    "    return plt"
   ]
  },
  {
   "cell_type": "code",
   "execution_count": 72,
   "metadata": {},
   "outputs": [],
   "source": [
    "def plot_confusion_matrix(cm, classes,\n",
    "                          normalize=False,\n",
    "                          title='Confusion matrix',\n",
    "                          cmap=plt.cm.Blues):\n",
    "    \"\"\"\n",
    "    This function prints and plots the confusion matrix.\n",
    "    Normalization can be applied by setting `normalize=True`.\n",
    "    \"\"\"\n",
    "#     if normalize:\n",
    "#         cm = cm.astype('float') / cm.sum(axis=1)[:, np.newaxis]\n",
    "#         print(\"Normalized confusion matrix\")\n",
    "#     else:\n",
    "#         print('Confusion matrix, without normalization')\n",
    "\n",
    "#     print(cm)\n",
    "\n",
    "    plt.imshow(cm, interpolation='nearest', cmap=cmap)\n",
    "    plt.title(title)\n",
    "    plt.colorbar()\n",
    "    tick_marks = np.arange(len(classes))\n",
    "    plt.xticks(tick_marks, classes, rotation=45)\n",
    "    plt.yticks(tick_marks, classes)\n",
    "\n",
    "    fmt = '.2f' if normalize else 'd'\n",
    "    thresh = cm.max() / 2.\n",
    "    for i, j in itertools.product(range(cm.shape[0]), range(cm.shape[1])):\n",
    "        plt.text(j, i, format(cm[i, j], fmt),\n",
    "                 horizontalalignment=\"center\",\n",
    "                 color=\"white\" if cm[i, j] > thresh else \"black\")\n",
    "\n",
    "    plt.tight_layout()\n",
    "    plt.ylabel('True label')\n",
    "    plt.xlabel('Predicted label')"
   ]
  },
  {
   "cell_type": "markdown",
   "metadata": {},
   "source": [
    "### Logistic Regression model"
   ]
  },
  {
   "cell_type": "markdown",
   "metadata": {},
   "source": [
    "#### Basic Logistic Regression\n",
    "I will create a `pipeline` for the models because it is convenient to use not only during training but also during the use of the model. I can simply call `pipeline_model.predict(...)` and it will handle the `PCA` and `Scaler` transformations for the input data. It is therefore a prerequisite for fewer mistakes. On the other hand, invoking `PCA` and `Scaler` every time when creating each model will reduce performance. But for the purposes of this study, this is not so important."
   ]
  },
  {
   "cell_type": "code",
   "execution_count": 73,
   "metadata": {},
   "outputs": [],
   "source": [
    "# split the data to train and test set\n",
    "features_train, features_test, labels_train, labels_test = train_test_split(\n",
    "    features, labels, train_size=0.7, test_size=0.3, random_state=42)"
   ]
  },
  {
   "cell_type": "code",
   "execution_count": 74,
   "metadata": {},
   "outputs": [],
   "source": [
    "# creates a pipeline for Logistic Regression\n",
    "logistic_regression_pipe = None\n",
    "logistic_regression = LogisticRegression(random_state=42)\n",
    "logistic_regression_pipe = Pipeline(steps=[('scaler_before', StandardScaler()), \n",
    "                          ('pca', PCA(n_components=150)),\n",
    "                          ('scaler_after', StandardScaler()),\n",
    "                          ('classifier', logistic_regression)])"
   ]
  },
  {
   "cell_type": "code",
   "execution_count": 75,
   "metadata": {
    "scrolled": true
   },
   "outputs": [
    {
     "data": {
      "text/plain": [
       "Pipeline(memory=None,\n",
       "     steps=[('scaler_before', StandardScaler(copy=True, with_mean=True, with_std=True)), ('pca', PCA(copy=True, iterated_power='auto', n_components=150, random_state=None,\n",
       "  svd_solver='auto', tol=0.0, whiten=False)), ('scaler_after', StandardScaler(copy=True, with_mean=True, with_std=True)), ('classifie...alty='l2', random_state=42, solver='liblinear', tol=0.0001,\n",
       "          verbose=0, warm_start=False))])"
      ]
     },
     "execution_count": 75,
     "metadata": {},
     "output_type": "execute_result"
    }
   ],
   "source": [
    "# fit the basic Logistic Regression model\n",
    "logistic_regression_pipe.fit(features_train, labels_train)"
   ]
  },
  {
   "cell_type": "code",
   "execution_count": 76,
   "metadata": {
    "scrolled": true
   },
   "outputs": [
    {
     "name": "stdout",
     "output_type": "stream",
     "text": [
      "Basic logistic regression test accuracy score: 0.8439587128111719\n",
      "Basic logistic regression train accuracy score: 0.8651041666666667\n",
      "Basic logistic regression F1 score: 0.8456456456456457\n"
     ]
    }
   ],
   "source": [
    "print(\"Basic logistic regression test accuracy score: {}\".format(\n",
    "    logistic_regression_pipe.score(features_test, labels_test)))\n",
    "print(\"Basic logistic regression train accuracy score: {}\".format(\n",
    "    logistic_regression_pipe.score(features_train, labels_train)))\n",
    "print(\"Basic logistic regression F1 score: {}\".format(\n",
    "    f1_score(labels_test, logistic_regression_pipe.predict(features_test))))\n",
    "# Basic logistic regression test accuracy score: 0.8439587128111719\n",
    "# Basic logistic regression train accuracy score: 0.8669270833333333\n",
    "# Basic logistic regression F1 score: 0.8458308338332333"
   ]
  },
  {
   "cell_type": "markdown",
   "metadata": {},
   "source": [
    "The result seems fairly good but we need to check whether this is due to the separation of data (see the difference between the train score and the test score). Moreover we also need to look for better parameters. So we have to make `kFold cross validation` and `grid search`."
   ]
  },
  {
   "cell_type": "markdown",
   "metadata": {},
   "source": [
    "#### Tune the Logistic Regression params"
   ]
  },
  {
   "cell_type": "code",
   "execution_count": 77,
   "metadata": {
    "scrolled": true
   },
   "outputs": [
    {
     "data": {
      "text/plain": [
       "GridSearchCV(cv=StratifiedKFold(n_splits=8, random_state=None, shuffle=False),\n",
       "       error_score='raise',\n",
       "       estimator=Pipeline(memory=None,\n",
       "     steps=[('scaler_before', StandardScaler(copy=True, with_mean=True, with_std=True)), ('pca', PCA(copy=True, iterated_power='auto', n_components=150, random_state=None,\n",
       "  svd_solver='auto', tol=0.0, whiten=False)), ('scaler_after', StandardScaler(copy=True, with_mean=True, with_std=True)), ('classifie...alty='l2', random_state=42, solver='liblinear', tol=0.0001,\n",
       "          verbose=0, warm_start=False))]),\n",
       "       fit_params=None, iid=True, n_jobs=6,\n",
       "       param_grid={'classifier__C': [0.0001, 0.001, 0.01, 1], 'pca__n_components': [150, 200]},\n",
       "       pre_dispatch='2*n_jobs', refit=True, return_train_score=True,\n",
       "       scoring=None, verbose=0)"
      ]
     },
     "execution_count": 77,
     "metadata": {},
     "output_type": "execute_result"
    }
   ],
   "source": [
    "# Time: ~1 min\n",
    "# split the data to train and test set\n",
    "features_train, features_test, labels_train, labels_test = train_test_split(\n",
    "    features, labels, train_size=0.7, test_size=0.3, random_state=12345)\n",
    "\n",
    "params = dict(classifier__C=[0.0001, 0.001, 0.01, 1], # [0.0001, 0.001, 0.01, 1]\n",
    "              #classifier__penalty=['l1', 'l2'],\n",
    "              pca__n_components=[150, 200])\n",
    "\n",
    "# init kFold validation\n",
    "kfold = StratifiedKFold(n_splits=8)\n",
    "\n",
    "# Grid search for the best Logistic Regression parameters\n",
    "grid_search_logistic_regresion = GridSearchCV(\n",
    "    logistic_regression_pipe, param_grid=params, cv=kfold, return_train_score=True, n_jobs=6)\n",
    "\n",
    "grid_search_logistic_regresion.fit(features_train, labels_train)"
   ]
  },
  {
   "cell_type": "code",
   "execution_count": 78,
   "metadata": {},
   "outputs": [
    {
     "data": {
      "text/plain": [
       "{'classifier__C': 0.001, 'pca__n_components': 150}"
      ]
     },
     "execution_count": 78,
     "metadata": {},
     "output_type": "execute_result"
    }
   ],
   "source": [
    "grid_search_logistic_regresion.best_params_\n",
    "# {'classifier__C': 0.01, 'pca__n_components': 150}"
   ]
  },
  {
   "cell_type": "code",
   "execution_count": 79,
   "metadata": {},
   "outputs": [
    {
     "name": "stdout",
     "output_type": "stream",
     "text": [
      "Logistic Regression Grid Search best score: 0.8479166666666667\n"
     ]
    }
   ],
   "source": [
    "print(\"Logistic Regression Grid Search best score: {}\".format(grid_search_logistic_regresion.best_score_))\n",
    "# Logistic Regression Grid Search best score: 0.8486979166666667"
   ]
  },
  {
   "cell_type": "code",
   "execution_count": 80,
   "metadata": {
    "scrolled": false
   },
   "outputs": [
    {
     "data": {
      "text/html": [
       "<div>\n",
       "<style scoped>\n",
       "    .dataframe tbody tr th:only-of-type {\n",
       "        vertical-align: middle;\n",
       "    }\n",
       "\n",
       "    .dataframe tbody tr th {\n",
       "        vertical-align: top;\n",
       "    }\n",
       "\n",
       "    .dataframe thead th {\n",
       "        text-align: right;\n",
       "    }\n",
       "</style>\n",
       "<table border=\"1\" class=\"dataframe\">\n",
       "  <thead>\n",
       "    <tr style=\"text-align: right;\">\n",
       "      <th></th>\n",
       "      <th>mean_test</th>\n",
       "      <th>mean_train</th>\n",
       "      <th>param_C</th>\n",
       "      <th>param_pca</th>\n",
       "      <th>rank_test</th>\n",
       "      <th>split0_test</th>\n",
       "      <th>split0_train</th>\n",
       "      <th>split1_test</th>\n",
       "      <th>split1_train</th>\n",
       "      <th>split2_test</th>\n",
       "      <th>...</th>\n",
       "      <th>split4_test</th>\n",
       "      <th>split4_train</th>\n",
       "      <th>split5_test</th>\n",
       "      <th>split5_train</th>\n",
       "      <th>split6_test</th>\n",
       "      <th>split6_train</th>\n",
       "      <th>split7_test</th>\n",
       "      <th>split7_train</th>\n",
       "      <th>std_test_score</th>\n",
       "      <th>std_train_score</th>\n",
       "    </tr>\n",
       "  </thead>\n",
       "  <tbody>\n",
       "    <tr>\n",
       "      <th>2</th>\n",
       "      <td>0.847917</td>\n",
       "      <td>0.866071</td>\n",
       "      <td>0.001</td>\n",
       "      <td>150</td>\n",
       "      <td>1</td>\n",
       "      <td>0.856549</td>\n",
       "      <td>0.864841</td>\n",
       "      <td>0.829167</td>\n",
       "      <td>0.864286</td>\n",
       "      <td>0.837500</td>\n",
       "      <td>...</td>\n",
       "      <td>0.858333</td>\n",
       "      <td>0.863988</td>\n",
       "      <td>0.829167</td>\n",
       "      <td>0.873512</td>\n",
       "      <td>0.864583</td>\n",
       "      <td>0.864286</td>\n",
       "      <td>0.851775</td>\n",
       "      <td>0.866409</td>\n",
       "      <td>0.013023</td>\n",
       "      <td>0.003242</td>\n",
       "    </tr>\n",
       "    <tr>\n",
       "      <th>0</th>\n",
       "      <td>0.846875</td>\n",
       "      <td>0.865848</td>\n",
       "      <td>0.0001</td>\n",
       "      <td>150</td>\n",
       "      <td>2</td>\n",
       "      <td>0.846154</td>\n",
       "      <td>0.864543</td>\n",
       "      <td>0.831250</td>\n",
       "      <td>0.860714</td>\n",
       "      <td>0.829167</td>\n",
       "      <td>...</td>\n",
       "      <td>0.864583</td>\n",
       "      <td>0.865476</td>\n",
       "      <td>0.831250</td>\n",
       "      <td>0.866667</td>\n",
       "      <td>0.858333</td>\n",
       "      <td>0.862798</td>\n",
       "      <td>0.853862</td>\n",
       "      <td>0.870277</td>\n",
       "      <td>0.013599</td>\n",
       "      <td>0.002925</td>\n",
       "    </tr>\n",
       "    <tr>\n",
       "      <th>1</th>\n",
       "      <td>0.846875</td>\n",
       "      <td>0.869903</td>\n",
       "      <td>0.0001</td>\n",
       "      <td>200</td>\n",
       "      <td>2</td>\n",
       "      <td>0.848233</td>\n",
       "      <td>0.869902</td>\n",
       "      <td>0.843750</td>\n",
       "      <td>0.869345</td>\n",
       "      <td>0.827083</td>\n",
       "      <td>...</td>\n",
       "      <td>0.847917</td>\n",
       "      <td>0.871726</td>\n",
       "      <td>0.833333</td>\n",
       "      <td>0.868452</td>\n",
       "      <td>0.858333</td>\n",
       "      <td>0.870833</td>\n",
       "      <td>0.849687</td>\n",
       "      <td>0.871169</td>\n",
       "      <td>0.011825</td>\n",
       "      <td>0.002703</td>\n",
       "    </tr>\n",
       "    <tr>\n",
       "      <th>6</th>\n",
       "      <td>0.845573</td>\n",
       "      <td>0.867187</td>\n",
       "      <td>1</td>\n",
       "      <td>150</td>\n",
       "      <td>4</td>\n",
       "      <td>0.852391</td>\n",
       "      <td>0.867222</td>\n",
       "      <td>0.816667</td>\n",
       "      <td>0.862500</td>\n",
       "      <td>0.831250</td>\n",
       "      <td>...</td>\n",
       "      <td>0.858333</td>\n",
       "      <td>0.864881</td>\n",
       "      <td>0.835417</td>\n",
       "      <td>0.866667</td>\n",
       "      <td>0.862500</td>\n",
       "      <td>0.868155</td>\n",
       "      <td>0.849687</td>\n",
       "      <td>0.869979</td>\n",
       "      <td>0.015081</td>\n",
       "      <td>0.002367</td>\n",
       "    </tr>\n",
       "    <tr>\n",
       "      <th>4</th>\n",
       "      <td>0.845313</td>\n",
       "      <td>0.868527</td>\n",
       "      <td>0.01</td>\n",
       "      <td>150</td>\n",
       "      <td>5</td>\n",
       "      <td>0.850312</td>\n",
       "      <td>0.866627</td>\n",
       "      <td>0.827083</td>\n",
       "      <td>0.863690</td>\n",
       "      <td>0.833333</td>\n",
       "      <td>...</td>\n",
       "      <td>0.856250</td>\n",
       "      <td>0.869345</td>\n",
       "      <td>0.829167</td>\n",
       "      <td>0.870238</td>\n",
       "      <td>0.862500</td>\n",
       "      <td>0.866071</td>\n",
       "      <td>0.843424</td>\n",
       "      <td>0.869979</td>\n",
       "      <td>0.013268</td>\n",
       "      <td>0.002820</td>\n",
       "    </tr>\n",
       "    <tr>\n",
       "      <th>7</th>\n",
       "      <td>0.844271</td>\n",
       "      <td>0.872544</td>\n",
       "      <td>1</td>\n",
       "      <td>200</td>\n",
       "      <td>6</td>\n",
       "      <td>0.862786</td>\n",
       "      <td>0.869604</td>\n",
       "      <td>0.845833</td>\n",
       "      <td>0.871429</td>\n",
       "      <td>0.835417</td>\n",
       "      <td>...</td>\n",
       "      <td>0.845833</td>\n",
       "      <td>0.875595</td>\n",
       "      <td>0.827083</td>\n",
       "      <td>0.875893</td>\n",
       "      <td>0.852083</td>\n",
       "      <td>0.871429</td>\n",
       "      <td>0.841336</td>\n",
       "      <td>0.876227</td>\n",
       "      <td>0.009951</td>\n",
       "      <td>0.003259</td>\n",
       "    </tr>\n",
       "    <tr>\n",
       "      <th>5</th>\n",
       "      <td>0.843490</td>\n",
       "      <td>0.872210</td>\n",
       "      <td>0.01</td>\n",
       "      <td>200</td>\n",
       "      <td>7</td>\n",
       "      <td>0.846154</td>\n",
       "      <td>0.869902</td>\n",
       "      <td>0.841667</td>\n",
       "      <td>0.871131</td>\n",
       "      <td>0.827083</td>\n",
       "      <td>...</td>\n",
       "      <td>0.839583</td>\n",
       "      <td>0.877976</td>\n",
       "      <td>0.822917</td>\n",
       "      <td>0.873214</td>\n",
       "      <td>0.856250</td>\n",
       "      <td>0.873512</td>\n",
       "      <td>0.851775</td>\n",
       "      <td>0.870872</td>\n",
       "      <td>0.012801</td>\n",
       "      <td>0.002605</td>\n",
       "    </tr>\n",
       "    <tr>\n",
       "      <th>3</th>\n",
       "      <td>0.842969</td>\n",
       "      <td>0.870759</td>\n",
       "      <td>0.001</td>\n",
       "      <td>200</td>\n",
       "      <td>8</td>\n",
       "      <td>0.844075</td>\n",
       "      <td>0.868413</td>\n",
       "      <td>0.852083</td>\n",
       "      <td>0.870238</td>\n",
       "      <td>0.818750</td>\n",
       "      <td>...</td>\n",
       "      <td>0.852083</td>\n",
       "      <td>0.873810</td>\n",
       "      <td>0.820833</td>\n",
       "      <td>0.872917</td>\n",
       "      <td>0.850000</td>\n",
       "      <td>0.872024</td>\n",
       "      <td>0.847599</td>\n",
       "      <td>0.866409</td>\n",
       "      <td>0.013923</td>\n",
       "      <td>0.002619</td>\n",
       "    </tr>\n",
       "  </tbody>\n",
       "</table>\n",
       "<p>8 rows × 23 columns</p>\n",
       "</div>"
      ],
      "text/plain": [
       "   mean_test  mean_train param_C param_pca  rank_test  split0_test  \\\n",
       "2   0.847917    0.866071   0.001       150          1     0.856549   \n",
       "0   0.846875    0.865848  0.0001       150          2     0.846154   \n",
       "1   0.846875    0.869903  0.0001       200          2     0.848233   \n",
       "6   0.845573    0.867187       1       150          4     0.852391   \n",
       "4   0.845313    0.868527    0.01       150          5     0.850312   \n",
       "7   0.844271    0.872544       1       200          6     0.862786   \n",
       "5   0.843490    0.872210    0.01       200          7     0.846154   \n",
       "3   0.842969    0.870759   0.001       200          8     0.844075   \n",
       "\n",
       "   split0_train  split1_test  split1_train  split2_test       ...         \\\n",
       "2      0.864841     0.829167      0.864286     0.837500       ...          \n",
       "0      0.864543     0.831250      0.860714     0.829167       ...          \n",
       "1      0.869902     0.843750      0.869345     0.827083       ...          \n",
       "6      0.867222     0.816667      0.862500     0.831250       ...          \n",
       "4      0.866627     0.827083      0.863690     0.833333       ...          \n",
       "7      0.869604     0.845833      0.871429     0.835417       ...          \n",
       "5      0.869902     0.841667      0.871131     0.827083       ...          \n",
       "3      0.868413     0.852083      0.870238     0.818750       ...          \n",
       "\n",
       "   split4_test  split4_train  split5_test  split5_train  split6_test  \\\n",
       "2     0.858333      0.863988     0.829167      0.873512     0.864583   \n",
       "0     0.864583      0.865476     0.831250      0.866667     0.858333   \n",
       "1     0.847917      0.871726     0.833333      0.868452     0.858333   \n",
       "6     0.858333      0.864881     0.835417      0.866667     0.862500   \n",
       "4     0.856250      0.869345     0.829167      0.870238     0.862500   \n",
       "7     0.845833      0.875595     0.827083      0.875893     0.852083   \n",
       "5     0.839583      0.877976     0.822917      0.873214     0.856250   \n",
       "3     0.852083      0.873810     0.820833      0.872917     0.850000   \n",
       "\n",
       "   split6_train  split7_test  split7_train  std_test_score  std_train_score  \n",
       "2      0.864286     0.851775      0.866409        0.013023         0.003242  \n",
       "0      0.862798     0.853862      0.870277        0.013599         0.002925  \n",
       "1      0.870833     0.849687      0.871169        0.011825         0.002703  \n",
       "6      0.868155     0.849687      0.869979        0.015081         0.002367  \n",
       "4      0.866071     0.843424      0.869979        0.013268         0.002820  \n",
       "7      0.871429     0.841336      0.876227        0.009951         0.003259  \n",
       "5      0.873512     0.851775      0.870872        0.012801         0.002605  \n",
       "3      0.872024     0.847599      0.866409        0.013923         0.002619  \n",
       "\n",
       "[8 rows x 23 columns]"
      ]
     },
     "execution_count": 80,
     "metadata": {},
     "output_type": "execute_result"
    }
   ],
   "source": [
    "print_grid_search_results(grid_search_logistic_regresion, splits=8)\n",
    "# grid_search_logistic_regresion.param_grid\n",
    "# grid_search_logistic_regresion.cv_results_"
   ]
  },
  {
   "cell_type": "markdown",
   "metadata": {},
   "source": [
    "#### Analyse the Logistic Regression results\n",
    "Let's plot some graphs. This would help us to estimate what our algorithm suffers in a more intuitive way.\n",
    "##### Learning curve\n",
    "The `Learning curve` would help us figure out if our algorithm suffers from a **high bias** or **high variance**"
   ]
  },
  {
   "cell_type": "code",
   "execution_count": 81,
   "metadata": {
    "scrolled": true
   },
   "outputs": [
    {
     "data": {
      "image/png": "[encoded data removed]",
      "text/plain": [
       "<matplotlib.figure.Figure at 0x27b931dd208>"
      ]
     },
     "metadata": {},
     "output_type": "display_data"
    }
   ],
   "source": [
    "title = \"Learning Curves (Logistic Regression)\"\n",
    "# Cross validation with 100 iterations to get smoother mean test and train\n",
    "# score curves, each time with 20% data randomly selected as a validation set.\n",
    "cv = ShuffleSplit(n_splits=100, test_size=0.9, random_state=0)\n",
    "\n",
    "scaler = StandardScaler()\n",
    "scaled_features = scaler.fit_transform(features)\n",
    "pca = PCA(n_components=150)\n",
    "pca_features = pca.fit_transform(scaled_features)\n",
    "\n",
    "estimator = LogisticRegression(C=0.001)\n",
    "#estimator.fit(features_test, labels_test)\n",
    "plot_learning_curve(estimator, title, pca_features, labels, ylim=(0.4, 2.), cv=cv, n_jobs=4)\n",
    "# print(plt.rcParams[\"figure.figsize\"])\n",
    "# plt.rcParams[\"figure.figsize\"] = (10, 6)\n",
    "plt.show()"
   ]
  },
  {
   "cell_type": "markdown",
   "metadata": {},
   "source": [
    "It can be seen from the figure above that with appropriate regulation and an increase in the number of samples, we can reduce the **varince** between test data and train data significantly but we can not achieve a score greater than `0.85`. This means that in order to achieve better results we may increase the **bias**."
   ]
  },
  {
   "cell_type": "markdown",
   "metadata": {},
   "source": [
    "##### Confusion matrix"
   ]
  },
  {
   "cell_type": "code",
   "execution_count": 19,
   "metadata": {},
   "outputs": [
    {
     "data": {
      "image/png": "[encoded data removed]",
      "text/plain": [
       "<matplotlib.figure.Figure at 0x7f15b4f964e0>"
      ]
     },
     "metadata": {},
     "output_type": "display_data"
    }
   ],
   "source": [
    "cnf_matrix = confusion_matrix(labels_test, grid_search_logistic_regresion.best_estimator_.predict(features_test))\n",
    "np.set_printoptions(precision=2)\n",
    "\n",
    "# Plot non-normalized confusion matrix\n",
    "plt.figure()\n",
    "plot_confusion_matrix(cnf_matrix, classes=np.array([\"Males\", \"Females\"]), \n",
    "                      title='Confusion matrix, without normalization', normalize=True)\n",
    "# plt.rcParams[\"figure.figsize\"] = (8, 5)\n",
    "plt.show()"
   ]
  },
  {
   "cell_type": "markdown",
   "metadata": {},
   "source": [
    "The matrix shows that our classifier tends to classify some men as women more than vice versa (Nowadays, there are no real men...). Maybe the content of more images with men on the original set is not accidental. It is possible to deal with this problem if we take more males's samples from the original data."
   ]
  },
  {
   "cell_type": "markdown",
   "metadata": {},
   "source": [
    "##### ROC Curve"
   ]
  },
  {
   "cell_type": "code",
   "execution_count": 20,
   "metadata": {},
   "outputs": [
    {
     "data": {
      "image/png": "[encoded data removed]",
      "text/plain": [
       "<matplotlib.figure.Figure at 0x7f15b5144f98>"
      ]
     },
     "metadata": {},
     "output_type": "display_data"
    }
   ],
   "source": [
    "estimator = grid_search_logistic_regresion.best_estimator_\n",
    "roc = plot_roc_curve(estimator, features_test, labels_test, title=\"Logistic Regression\")\n",
    "roc.show()"
   ]
  },
  {
   "cell_type": "markdown",
   "metadata": {},
   "source": [
    "### Train SVM model"
   ]
  },
  {
   "cell_type": "markdown",
   "metadata": {},
   "source": [
    "#### Basic Linear SVM model"
   ]
  },
  {
   "cell_type": "code",
   "execution_count": 82,
   "metadata": {},
   "outputs": [],
   "source": [
    "np.random.rand(12345)\n",
    "features_train, features_test, labels_train, labels_test = train_test_split(\n",
    "    features, labels, train_size=0.7, test_size=0.3, random_state=12345)"
   ]
  },
  {
   "cell_type": "code",
   "execution_count": 83,
   "metadata": {},
   "outputs": [
    {
     "data": {
      "text/plain": [
       "Pipeline(memory=None,\n",
       "     steps=[('scl', StandardScaler(copy=True, with_mean=True, with_std=True)), ('pca', PCA(copy=True, iterated_power='auto', n_components=200, random_state=42,\n",
       "  svd_solver='auto', tol=0.0, whiten=False)), ('scl_2', StandardScaler(copy=True, with_mean=True, with_std=True)), ('clf', LinearSVC(C=1.0, class_weight=None, dual=True, fit_intercept=True,\n",
       "     intercept_scaling=1, loss='squared_hinge', max_iter=1000,\n",
       "     multi_class='ovr', penalty='l2', random_state=42, tol=0.0001,\n",
       "     verbose=0))])"
      ]
     },
     "execution_count": 83,
     "metadata": {},
     "output_type": "execute_result"
    }
   ],
   "source": [
    "linear_svm = LinearSVC(random_state=42)\n",
    "linear_svm_pipeline = Pipeline(steps=[('scl', StandardScaler()), \n",
    "                               ('pca', PCA(n_components=200, random_state=42)),\n",
    "                               ('scl_2', StandardScaler()),\n",
    "                               ('clf', linear_svm)])\n",
    "\n",
    "linear_svm_pipeline.fit(features_train, labels_train)"
   ]
  },
  {
   "cell_type": "code",
   "execution_count": 84,
   "metadata": {},
   "outputs": [
    {
     "name": "stdout",
     "output_type": "stream",
     "text": [
      "Train score: 0.87109375\n",
      "Test score: 0.8427443837279903\n",
      "Diff score: 0.02834936627200968\n"
     ]
    }
   ],
   "source": [
    "print(\"Train score: {}\".format(linear_svm_pipeline.score(features_train, labels_train)))\n",
    "print(\"Test score: {}\".format(linear_svm_pipeline.score(features_test, labels_test)))\n",
    "print(\"Diff score: {}\".format(\n",
    "    linear_svm_pipeline.score(features_train, labels_train) - linear_svm_pipeline.score(features_test, labels_test)))\n",
    "# Train score: 0.8671875\n",
    "# Test score: 0.8457802064359441\n",
    "# Diff score: 0.021407293564055907"
   ]
  },
  {
   "cell_type": "markdown",
   "metadata": {},
   "source": [
    "The difference between the train score and test score is relatively high and the train score is very high. That means high variance and/or imbalanced data between the training set and the test set. So we need to perform k-Fold coross validation with stratification and grid search to to evaluate the variance and the best parameters for this algorithm with the concrete amount of training data."
   ]
  },
  {
   "cell_type": "markdown",
   "metadata": {},
   "source": [
    "#### Tune the Linear SVM model"
   ]
  },
  {
   "cell_type": "code",
   "execution_count": 85,
   "metadata": {},
   "outputs": [],
   "source": [
    "# unique, count = np.unique(labels_train, return_counts=True)\n",
    "# print(\"Females count: {}\".format(count[0]))\n",
    "# print(\"Males count: {}\".format(count[1]))\n",
    "# # out = np.histogram(labels, bins=labels)\n",
    "# print(dict(zip(unique, count)))"
   ]
  },
  {
   "cell_type": "code",
   "execution_count": 86,
   "metadata": {
    "scrolled": true
   },
   "outputs": [],
   "source": [
    "# Time: ~1 min\n",
    "linear_svm_params = dict(clf__C = [0.0001, 0.001, 1], pca__n_components=[150, 200]) # clf__C =0.00001, 0.0001, 0.001, clf__dual = [True, False]\n",
    "kfold = StratifiedKFold(n_splits=7)\n",
    "grid_search_linear_svm = GridSearchCV(\n",
    "    linear_svm_pipeline, param_grid=linear_svm_params, cv=kfold, return_train_score=True)\n",
    "\n",
    "start = time.time()\n",
    "grid_search_linear_svm.fit(features_train, labels_train)\n",
    "end = time.time()"
   ]
  },
  {
   "cell_type": "code",
   "execution_count": 87,
   "metadata": {},
   "outputs": [
    {
     "name": "stdout",
     "output_type": "stream",
     "text": [
      "GridSearchCV took {67.71} seconds for 6 candidate parameter settings.\n"
     ]
    }
   ],
   "source": [
    "print(\"GridSearchCV took {%.2f} seconds for %d candidate parameter settings.\"\n",
    "      % (end - start, len(grid_search_linear_svm.cv_results_['params'])))"
   ]
  },
  {
   "cell_type": "code",
   "execution_count": 88,
   "metadata": {},
   "outputs": [
    {
     "data": {
      "text/plain": [
       "{'clf__C': 1, 'pca__n_components': 150}"
      ]
     },
     "execution_count": 88,
     "metadata": {},
     "output_type": "execute_result"
    }
   ],
   "source": [
    "grid_search_linear_svm.best_params_ # {'clf__C': 1, 'pca__n_components': 150}"
   ]
  },
  {
   "cell_type": "code",
   "execution_count": 89,
   "metadata": {},
   "outputs": [
    {
     "data": {
      "text/plain": [
       "0.84921875"
      ]
     },
     "execution_count": 89,
     "metadata": {},
     "output_type": "execute_result"
    }
   ],
   "source": [
    "grid_search_linear_svm.best_score_ # 0.8463541666666666"
   ]
  },
  {
   "cell_type": "code",
   "execution_count": 90,
   "metadata": {},
   "outputs": [
    {
     "data": {
      "text/plain": [
       "0.8445658773527626"
      ]
     },
     "execution_count": 90,
     "metadata": {},
     "output_type": "execute_result"
    }
   ],
   "source": [
    "grid_search_linear_svm.best_estimator_.score(features_test, labels_test) # 0.8451730418943534"
   ]
  },
  {
   "cell_type": "code",
   "execution_count": 91,
   "metadata": {},
   "outputs": [
    {
     "data": {
      "text/plain": [
       "0.8658854166666666"
      ]
     },
     "execution_count": 91,
     "metadata": {},
     "output_type": "execute_result"
    }
   ],
   "source": [
    "grid_search_linear_svm.best_estimator_.score(features_train, labels_train) # 0.8671875"
   ]
  },
  {
   "cell_type": "code",
   "execution_count": 92,
   "metadata": {},
   "outputs": [
    {
     "data": {
      "text/html": [
       "<div>\n",
       "<style scoped>\n",
       "    .dataframe tbody tr th:only-of-type {\n",
       "        vertical-align: middle;\n",
       "    }\n",
       "\n",
       "    .dataframe tbody tr th {\n",
       "        vertical-align: top;\n",
       "    }\n",
       "\n",
       "    .dataframe thead th {\n",
       "        text-align: right;\n",
       "    }\n",
       "</style>\n",
       "<table border=\"1\" class=\"dataframe\">\n",
       "  <thead>\n",
       "    <tr style=\"text-align: right;\">\n",
       "      <th></th>\n",
       "      <th>mean_test</th>\n",
       "      <th>mean_train</th>\n",
       "      <th>param_clf__C</th>\n",
       "      <th>param_pca</th>\n",
       "      <th>rank_test</th>\n",
       "      <th>split0_test</th>\n",
       "      <th>split0_train</th>\n",
       "      <th>split1_test</th>\n",
       "      <th>split1_train</th>\n",
       "      <th>split2_test</th>\n",
       "      <th>...</th>\n",
       "      <th>split3_test</th>\n",
       "      <th>split3_train</th>\n",
       "      <th>split4_test</th>\n",
       "      <th>split4_train</th>\n",
       "      <th>split5_test</th>\n",
       "      <th>split5_train</th>\n",
       "      <th>split6_test</th>\n",
       "      <th>split6_train</th>\n",
       "      <th>std_test_score</th>\n",
       "      <th>std_train_score</th>\n",
       "    </tr>\n",
       "  </thead>\n",
       "  <tbody>\n",
       "    <tr>\n",
       "      <th>4</th>\n",
       "      <td>0.849219</td>\n",
       "      <td>0.868620</td>\n",
       "      <td>1</td>\n",
       "      <td>150</td>\n",
       "      <td>1</td>\n",
       "      <td>0.845173</td>\n",
       "      <td>0.871771</td>\n",
       "      <td>0.846995</td>\n",
       "      <td>0.865998</td>\n",
       "      <td>0.832423</td>\n",
       "      <td>...</td>\n",
       "      <td>0.852459</td>\n",
       "      <td>0.869341</td>\n",
       "      <td>0.850365</td>\n",
       "      <td>0.870292</td>\n",
       "      <td>0.863139</td>\n",
       "      <td>0.861786</td>\n",
       "      <td>0.854015</td>\n",
       "      <td>0.871203</td>\n",
       "      <td>0.008718</td>\n",
       "      <td>0.003279</td>\n",
       "    </tr>\n",
       "    <tr>\n",
       "      <th>5</th>\n",
       "      <td>0.848698</td>\n",
       "      <td>0.872786</td>\n",
       "      <td>1</td>\n",
       "      <td>200</td>\n",
       "      <td>2</td>\n",
       "      <td>0.856102</td>\n",
       "      <td>0.872075</td>\n",
       "      <td>0.865209</td>\n",
       "      <td>0.871468</td>\n",
       "      <td>0.828780</td>\n",
       "      <td>...</td>\n",
       "      <td>0.854281</td>\n",
       "      <td>0.869644</td>\n",
       "      <td>0.841241</td>\n",
       "      <td>0.876063</td>\n",
       "      <td>0.850365</td>\n",
       "      <td>0.871507</td>\n",
       "      <td>0.844891</td>\n",
       "      <td>0.876367</td>\n",
       "      <td>0.010881</td>\n",
       "      <td>0.002314</td>\n",
       "    </tr>\n",
       "    <tr>\n",
       "      <th>3</th>\n",
       "      <td>0.846094</td>\n",
       "      <td>0.871658</td>\n",
       "      <td>0.001</td>\n",
       "      <td>200</td>\n",
       "      <td>3</td>\n",
       "      <td>0.837887</td>\n",
       "      <td>0.871468</td>\n",
       "      <td>0.863388</td>\n",
       "      <td>0.867821</td>\n",
       "      <td>0.834244</td>\n",
       "      <td>...</td>\n",
       "      <td>0.865209</td>\n",
       "      <td>0.870556</td>\n",
       "      <td>0.835766</td>\n",
       "      <td>0.874848</td>\n",
       "      <td>0.844891</td>\n",
       "      <td>0.870595</td>\n",
       "      <td>0.841241</td>\n",
       "      <td>0.872722</td>\n",
       "      <td>0.011979</td>\n",
       "      <td>0.002143</td>\n",
       "    </tr>\n",
       "    <tr>\n",
       "      <th>2</th>\n",
       "      <td>0.845833</td>\n",
       "      <td>0.868012</td>\n",
       "      <td>0.001</td>\n",
       "      <td>150</td>\n",
       "      <td>4</td>\n",
       "      <td>0.841530</td>\n",
       "      <td>0.869948</td>\n",
       "      <td>0.846995</td>\n",
       "      <td>0.862656</td>\n",
       "      <td>0.830601</td>\n",
       "      <td>...</td>\n",
       "      <td>0.841530</td>\n",
       "      <td>0.865998</td>\n",
       "      <td>0.844891</td>\n",
       "      <td>0.873329</td>\n",
       "      <td>0.859489</td>\n",
       "      <td>0.861482</td>\n",
       "      <td>0.855839</td>\n",
       "      <td>0.872114</td>\n",
       "      <td>0.008927</td>\n",
       "      <td>0.004321</td>\n",
       "    </tr>\n",
       "    <tr>\n",
       "      <th>0</th>\n",
       "      <td>0.845313</td>\n",
       "      <td>0.866840</td>\n",
       "      <td>0.0001</td>\n",
       "      <td>150</td>\n",
       "      <td>5</td>\n",
       "      <td>0.850638</td>\n",
       "      <td>0.867214</td>\n",
       "      <td>0.832423</td>\n",
       "      <td>0.862960</td>\n",
       "      <td>0.826958</td>\n",
       "      <td>...</td>\n",
       "      <td>0.846995</td>\n",
       "      <td>0.863567</td>\n",
       "      <td>0.848540</td>\n",
       "      <td>0.871810</td>\n",
       "      <td>0.854015</td>\n",
       "      <td>0.861786</td>\n",
       "      <td>0.857664</td>\n",
       "      <td>0.869380</td>\n",
       "      <td>0.010509</td>\n",
       "      <td>0.003804</td>\n",
       "    </tr>\n",
       "    <tr>\n",
       "      <th>1</th>\n",
       "      <td>0.844792</td>\n",
       "      <td>0.870529</td>\n",
       "      <td>0.0001</td>\n",
       "      <td>200</td>\n",
       "      <td>6</td>\n",
       "      <td>0.841530</td>\n",
       "      <td>0.868429</td>\n",
       "      <td>0.856102</td>\n",
       "      <td>0.867517</td>\n",
       "      <td>0.828780</td>\n",
       "      <td>...</td>\n",
       "      <td>0.861566</td>\n",
       "      <td>0.867517</td>\n",
       "      <td>0.841241</td>\n",
       "      <td>0.874848</td>\n",
       "      <td>0.841241</td>\n",
       "      <td>0.871810</td>\n",
       "      <td>0.843066</td>\n",
       "      <td>0.869684</td>\n",
       "      <td>0.010036</td>\n",
       "      <td>0.002801</td>\n",
       "    </tr>\n",
       "  </tbody>\n",
       "</table>\n",
       "<p>6 rows × 21 columns</p>\n",
       "</div>"
      ],
      "text/plain": [
       "   mean_test  mean_train param_clf__C param_pca  rank_test  split0_test  \\\n",
       "4   0.849219    0.868620            1       150          1     0.845173   \n",
       "5   0.848698    0.872786            1       200          2     0.856102   \n",
       "3   0.846094    0.871658        0.001       200          3     0.837887   \n",
       "2   0.845833    0.868012        0.001       150          4     0.841530   \n",
       "0   0.845313    0.866840       0.0001       150          5     0.850638   \n",
       "1   0.844792    0.870529       0.0001       200          6     0.841530   \n",
       "\n",
       "   split0_train  split1_test  split1_train  split2_test       ...         \\\n",
       "4      0.871771     0.846995      0.865998     0.832423       ...          \n",
       "5      0.872075     0.865209      0.871468     0.828780       ...          \n",
       "3      0.871468     0.863388      0.867821     0.834244       ...          \n",
       "2      0.869948     0.846995      0.862656     0.830601       ...          \n",
       "0      0.867214     0.832423      0.862960     0.826958       ...          \n",
       "1      0.868429     0.856102      0.867517     0.828780       ...          \n",
       "\n",
       "   split3_test  split3_train  split4_test  split4_train  split5_test  \\\n",
       "4     0.852459      0.869341     0.850365      0.870292     0.863139   \n",
       "5     0.854281      0.869644     0.841241      0.876063     0.850365   \n",
       "3     0.865209      0.870556     0.835766      0.874848     0.844891   \n",
       "2     0.841530      0.865998     0.844891      0.873329     0.859489   \n",
       "0     0.846995      0.863567     0.848540      0.871810     0.854015   \n",
       "1     0.861566      0.867517     0.841241      0.874848     0.841241   \n",
       "\n",
       "   split5_train  split6_test  split6_train  std_test_score  std_train_score  \n",
       "4      0.861786     0.854015      0.871203        0.008718         0.003279  \n",
       "5      0.871507     0.844891      0.876367        0.010881         0.002314  \n",
       "3      0.870595     0.841241      0.872722        0.011979         0.002143  \n",
       "2      0.861482     0.855839      0.872114        0.008927         0.004321  \n",
       "0      0.861786     0.857664      0.869380        0.010509         0.003804  \n",
       "1      0.871810     0.843066      0.869684        0.010036         0.002801  \n",
       "\n",
       "[6 rows x 21 columns]"
      ]
     },
     "execution_count": 92,
     "metadata": {},
     "output_type": "execute_result"
    }
   ],
   "source": [
    "# grid_search_linear_svm.cv_results_\n",
    "# print(classification_report(labels_test, grid_search_linear_svm.predict(features_test)))\n",
    "print_grid_search_results(grid_search_linear_svm, splits=8)"
   ]
  },
  {
   "cell_type": "markdown",
   "metadata": {},
   "source": [
    "#### Gaussian SVM model"
   ]
  },
  {
   "cell_type": "code",
   "execution_count": 93,
   "metadata": {},
   "outputs": [
    {
     "name": "stdout",
     "output_type": "stream",
     "text": [
      "0.8755312689738919\n",
      "0.9786458333333333\n"
     ]
    }
   ],
   "source": [
    "features_train, features_test, labels_train, labels_test = train_test_split(\n",
    "    features, labels, train_size=0.7, test_size=0.3, random_state=12345)\n",
    "\n",
    "svm_pipeline = Pipeline(steps=[('scl_1', StandardScaler()), \n",
    "                               ('pca', PCA(n_components=150, random_state=42)),\n",
    "                               ('scl_2', StandardScaler()),\n",
    "                               ('clf', SVC(probability=True))])\n",
    "\n",
    "svm_pipeline.fit(features_train, labels_train)\n",
    "\n",
    "print(svm_pipeline.score(features_test, labels_test)) # 0.8755312689738919\n",
    "print(svm_pipeline.score(features_train, labels_train)) # 0.9786458333333333"
   ]
  },
  {
   "cell_type": "markdown",
   "metadata": {},
   "source": [
    "#### Tune the Gaussian SVM model parameters"
   ]
  },
  {
   "cell_type": "markdown",
   "metadata": {},
   "source": [
    "The default `gamma` value works wll, so we will try some close values."
   ]
  },
  {
   "cell_type": "code",
   "execution_count": 94,
   "metadata": {},
   "outputs": [
    {
     "data": {
      "text/plain": [
       "0.006666666666666667"
      ]
     },
     "execution_count": 94,
     "metadata": {},
     "output_type": "execute_result"
    }
   ],
   "source": [
    "1./150"
   ]
  },
  {
   "cell_type": "code",
   "execution_count": 95,
   "metadata": {},
   "outputs": [],
   "source": [
    "# Time: ~3-3.5 min\n",
    "kfold = StratifiedKFold(n_splits=5)\n",
    "svm_params = dict(clf__C = [0.75, 1], clf__gamma=[0.007, 0.0075])\n",
    "\n",
    "grid_search_svm = GridSearchCV(svm_pipeline, param_grid=svm_params, cv=kfold, return_train_score=True, n_jobs=6)\n",
    "\n",
    "start = time.time()\n",
    "grid_search_svm.fit(features_train, labels_train)\n",
    "end = time.time()"
   ]
  },
  {
   "cell_type": "code",
   "execution_count": 96,
   "metadata": {},
   "outputs": [
    {
     "name": "stdout",
     "output_type": "stream",
     "text": [
      "GridSearchCV took {230.72} seconds for 4 candidate parameter settings.\n"
     ]
    }
   ],
   "source": [
    "print(\"GridSearchCV took {%.2f} seconds for %d candidate parameter settings.\"\n",
    "      % (end - start, len(grid_search_svm.cv_results_['params'])))"
   ]
  },
  {
   "cell_type": "code",
   "execution_count": 36,
   "metadata": {},
   "outputs": [
    {
     "data": {
      "text/plain": [
       "{'clf__C': 1, 'clf__gamma': 0.007}"
      ]
     },
     "execution_count": 36,
     "metadata": {},
     "output_type": "execute_result"
    }
   ],
   "source": [
    "grid_search_svm.best_params_ # {'clf__C': 1, 'clf__gamma': 0.007}"
   ]
  },
  {
   "cell_type": "code",
   "execution_count": 37,
   "metadata": {},
   "outputs": [
    {
     "data": {
      "text/plain": [
       "0.8761384335154827"
      ]
     },
     "execution_count": 37,
     "metadata": {},
     "output_type": "execute_result"
    }
   ],
   "source": [
    "grid_search_svm.best_estimator_.score(features_test, labels_test) # 0.8761384335154827"
   ]
  },
  {
   "cell_type": "markdown",
   "metadata": {},
   "source": [
    "#### Analyse the SVM results"
   ]
  },
  {
   "cell_type": "markdown",
   "metadata": {},
   "source": [
    "##### ROC curve for Gaussian SVM"
   ]
  },
  {
   "cell_type": "code",
   "execution_count": 38,
   "metadata": {},
   "outputs": [
    {
     "data": {
      "image/png": "[encoded data removed]",
      "text/plain": [
       "<matplotlib.figure.Figure at 0x7f15afe235c0>"
      ]
     },
     "metadata": {},
     "output_type": "display_data"
    }
   ],
   "source": [
    "svm_estimator = grid_search_svm.best_estimator_\n",
    "roc = plot_roc_curve(svm_estimator, features_test, labels_test, title=\"Gaussian SVM\")\n",
    "roc.show()"
   ]
  },
  {
   "cell_type": "markdown",
   "metadata": {},
   "source": [
    "##### Learning curve for the Gaussian SVM"
   ]
  },
  {
   "cell_type": "code",
   "execution_count": 44,
   "metadata": {},
   "outputs": [
    {
     "data": {
      "image/png": "[encoded data removed]",
      "text/plain": [
       "<matplotlib.figure.Figure at 0x7f15afe19358>"
      ]
     },
     "metadata": {},
     "output_type": "display_data"
    }
   ],
   "source": [
    "# Time: ~1 min\n",
    "title = \"Learning Curves (Gaussian SVM)\"\n",
    "# Cross validation with 100 iterations to get smoother mean test and train\n",
    "# score curves, each time with 20% data randomly selected as a validation set.\n",
    "cv = ShuffleSplit(n_splits=10, test_size=0.7, random_state=0)\n",
    "\n",
    "plot_learning_curve(grid_search_svm.best_estimator_, title, features, labels, ylim=(0.4, 2.), cv=cv, n_jobs=4)\n",
    "# print(plt.rcParams[\"figure.figsize\"])\n",
    "# plt.rcParams[\"figure.figsize\"] = (10, 6)\n",
    "plt.show()"
   ]
  },
  {
   "cell_type": "markdown",
   "metadata": {},
   "source": [
    "##### Confusion matrix for the Gaussian SVM"
   ]
  },
  {
   "cell_type": "code",
   "execution_count": 45,
   "metadata": {
    "scrolled": true
   },
   "outputs": [
    {
     "data": {
      "image/png": "[encoded data removed]",
      "text/plain": [
       "<matplotlib.figure.Figure at 0x7f15afec1c50>"
      ]
     },
     "metadata": {},
     "output_type": "display_data"
    }
   ],
   "source": [
    "cnf_matrix = confusion_matrix(labels_test, grid_search_svm.best_estimator_.predict(features_test))\n",
    "np.set_printoptions(precision=2)\n",
    "\n",
    "# Plot non-normalized confusion matrix\n",
    "plt.figure()\n",
    "plot_confusion_matrix(cnf_matrix, classes=np.array([\"Males\", \"Females\"]), title='Confusion matrix', normalize=True)\n",
    "plt.show()"
   ]
  },
  {
   "cell_type": "markdown",
   "metadata": {},
   "source": [
    "### Random Forest Clasifier"
   ]
  },
  {
   "cell_type": "markdown",
   "metadata": {},
   "source": [
    "#### Basic Random Forest"
   ]
  },
  {
   "cell_type": "code",
   "execution_count": 97,
   "metadata": {},
   "outputs": [],
   "source": [
    "np.random.seed(123456)\n",
    "features_train, features_test, labels_train, labels_test = train_test_split(\n",
    "    features, labels, train_size=0.7, test_size=0.3, random_state=12345)"
   ]
  },
  {
   "cell_type": "code",
   "execution_count": 98,
   "metadata": {},
   "outputs": [
    {
     "name": "stdout",
     "output_type": "stream",
     "text": [
      "0.6727383120825744\n",
      "0.9877604166666667\n"
     ]
    }
   ],
   "source": [
    "forest_pipeline = Pipeline(steps=[('scaler', StandardScaler()), \n",
    "                                  ('pca', PCA(n_components=150)),\n",
    "                                  ('scaler_1', StandardScaler()),\n",
    "                                  ('clf', RandomForestClassifier(criterion='gini'))])\n",
    "\n",
    "forest_pipeline.fit(features_train, labels_train)\n",
    "\n",
    "print(forest_pipeline.score(features_test, labels_test)) # 0.7698846387370978\n",
    "print(forest_pipeline.score(features_train, labels_train)) # 0.8197916666666667"
   ]
  },
  {
   "cell_type": "markdown",
   "metadata": {},
   "source": [
    "#### Tune Random Forest parameters"
   ]
  },
  {
   "cell_type": "code",
   "execution_count": 99,
   "metadata": {},
   "outputs": [],
   "source": [
    "# Time: ~1 min\n",
    "kfold = StratifiedKFold(n_splits=3)\n",
    "forest_params = dict(clf__n_estimators = [1500, 2000], clf__max_depth=[2, 3])\n",
    "\n",
    "grid_search_forest = GridSearchCV(\n",
    "    forest_pipeline, param_grid=forest_params, cv=kfold, return_train_score=True, n_jobs=6)\n",
    "\n",
    "start = time.time()\n",
    "grid_search_forest.fit(features_train, labels_train)\n",
    "end = time.time()"
   ]
  },
  {
   "cell_type": "code",
   "execution_count": 94,
   "metadata": {},
   "outputs": [
    {
     "name": "stdout",
     "output_type": "stream",
     "text": [
      "GridSearchCV took {63.03} seconds for 4 candidate parameter settings.\n"
     ]
    }
   ],
   "source": [
    "print(\"GridSearchCV took {%.2f} seconds for %d candidate parameter settings.\"\n",
    "      % (end - start, len(grid_search_forest.cv_results_['params'])))"
   ]
  },
  {
   "cell_type": "code",
   "execution_count": 95,
   "metadata": {},
   "outputs": [
    {
     "data": {
      "text/plain": [
       "{'clf__max_depth': 3, 'clf__n_estimators': 1500}"
      ]
     },
     "execution_count": 95,
     "metadata": {},
     "output_type": "execute_result"
    }
   ],
   "source": [
    "grid_search_forest.best_params_ # {'clf__max_depth': 3, 'clf__n_estimators': 1500}"
   ]
  },
  {
   "cell_type": "code",
   "execution_count": 96,
   "metadata": {},
   "outputs": [
    {
     "name": "stdout",
     "output_type": "stream",
     "text": [
      "0.7704918032786885\n",
      "0.8111979166666666\n"
     ]
    }
   ],
   "source": [
    "print(grid_search_forest.best_estimator_.score(features_test, labels_test)) # 0.7741347905282332\n",
    "print(grid_search_forest.best_estimator_.score(features_train, labels_train)) # 0.81953125"
   ]
  },
  {
   "cell_type": "code",
   "execution_count": 97,
   "metadata": {},
   "outputs": [
    {
     "data": {
      "text/html": [
       "<div>\n",
       "<style scoped>\n",
       "    .dataframe tbody tr th:only-of-type {\n",
       "        vertical-align: middle;\n",
       "    }\n",
       "\n",
       "    .dataframe tbody tr th {\n",
       "        vertical-align: top;\n",
       "    }\n",
       "\n",
       "    .dataframe thead th {\n",
       "        text-align: right;\n",
       "    }\n",
       "</style>\n",
       "<table border=\"1\" class=\"dataframe\">\n",
       "  <thead>\n",
       "    <tr style=\"text-align: right;\">\n",
       "      <th></th>\n",
       "      <th>mean_test</th>\n",
       "      <th>mean_train</th>\n",
       "      <th>param_clf__max_depth</th>\n",
       "      <th>n_estimators</th>\n",
       "      <th>rank_test</th>\n",
       "      <th>split0_test</th>\n",
       "      <th>split0_train</th>\n",
       "      <th>split1_test</th>\n",
       "      <th>split1_train</th>\n",
       "      <th>split2_test</th>\n",
       "      <th>split2_train</th>\n",
       "      <th>std_test_score</th>\n",
       "      <th>std_train_score</th>\n",
       "    </tr>\n",
       "  </thead>\n",
       "  <tbody>\n",
       "    <tr>\n",
       "      <th>0</th>\n",
       "      <td>0.755469</td>\n",
       "      <td>0.803127</td>\n",
       "      <td>2</td>\n",
       "      <td>1500</td>\n",
       "      <td>3</td>\n",
       "      <td>0.750976</td>\n",
       "      <td>0.808128</td>\n",
       "      <td>0.782813</td>\n",
       "      <td>0.811719</td>\n",
       "      <td>0.732604</td>\n",
       "      <td>0.789535</td>\n",
       "      <td>0.020739</td>\n",
       "      <td>0.009722</td>\n",
       "    </tr>\n",
       "    <tr>\n",
       "      <th>1</th>\n",
       "      <td>0.755469</td>\n",
       "      <td>0.802085</td>\n",
       "      <td>2</td>\n",
       "      <td>2000</td>\n",
       "      <td>3</td>\n",
       "      <td>0.749415</td>\n",
       "      <td>0.802267</td>\n",
       "      <td>0.782031</td>\n",
       "      <td>0.813281</td>\n",
       "      <td>0.734949</td>\n",
       "      <td>0.790707</td>\n",
       "      <td>0.019689</td>\n",
       "      <td>0.009217</td>\n",
       "    </tr>\n",
       "    <tr>\n",
       "      <th>2</th>\n",
       "      <td>0.769531</td>\n",
       "      <td>0.844273</td>\n",
       "      <td>3</td>\n",
       "      <td>1500</td>\n",
       "      <td>1</td>\n",
       "      <td>0.768931</td>\n",
       "      <td>0.852677</td>\n",
       "      <td>0.792969</td>\n",
       "      <td>0.846875</td>\n",
       "      <td>0.746677</td>\n",
       "      <td>0.833268</td>\n",
       "      <td>0.018900</td>\n",
       "      <td>0.008134</td>\n",
       "    </tr>\n",
       "    <tr>\n",
       "      <th>3</th>\n",
       "      <td>0.769010</td>\n",
       "      <td>0.847007</td>\n",
       "      <td>3</td>\n",
       "      <td>2000</td>\n",
       "      <td>2</td>\n",
       "      <td>0.770492</td>\n",
       "      <td>0.853458</td>\n",
       "      <td>0.789844</td>\n",
       "      <td>0.848828</td>\n",
       "      <td>0.746677</td>\n",
       "      <td>0.838735</td>\n",
       "      <td>0.017650</td>\n",
       "      <td>0.006147</td>\n",
       "    </tr>\n",
       "  </tbody>\n",
       "</table>\n",
       "</div>"
      ],
      "text/plain": [
       "   mean_test  mean_train param_clf__max_depth n_estimators  rank_test  \\\n",
       "0   0.755469    0.803127                    2         1500          3   \n",
       "1   0.755469    0.802085                    2         2000          3   \n",
       "2   0.769531    0.844273                    3         1500          1   \n",
       "3   0.769010    0.847007                    3         2000          2   \n",
       "\n",
       "   split0_test  split0_train  split1_test  split1_train  split2_test  \\\n",
       "0     0.750976      0.808128     0.782813      0.811719     0.732604   \n",
       "1     0.749415      0.802267     0.782031      0.813281     0.734949   \n",
       "2     0.768931      0.852677     0.792969      0.846875     0.746677   \n",
       "3     0.770492      0.853458     0.789844      0.848828     0.746677   \n",
       "\n",
       "   split2_train  std_test_score  std_train_score  \n",
       "0      0.789535        0.020739         0.009722  \n",
       "1      0.790707        0.019689         0.009217  \n",
       "2      0.833268        0.018900         0.008134  \n",
       "3      0.838735        0.017650         0.006147  "
      ]
     },
     "execution_count": 97,
     "metadata": {},
     "output_type": "execute_result"
    }
   ],
   "source": [
    "print_grid_search_results(grid_search_forest, splits=3)"
   ]
  },
  {
   "cell_type": "code",
   "execution_count": 99,
   "metadata": {},
   "outputs": [
    {
     "data": {
      "image/png": "[encoded data removed]",
      "text/plain": [
       "<matplotlib.figure.Figure at 0x7f15afef9c88>"
      ]
     },
     "metadata": {},
     "output_type": "display_data"
    }
   ],
   "source": [
    "# Time: ~1.5 min\n",
    "cv = ShuffleSplit(n_splits=10, test_size=0.7, random_state=0)\n",
    "plot_learning_curve(grid_search_forest.best_estimator_, \n",
    "                    \"Learning Curves (Random Forest)\", \n",
    "                    features, labels, ylim=(0.4, 2.), cv=cv, n_jobs=6)\n",
    "plt.show()"
   ]
  },
  {
   "cell_type": "markdown",
   "metadata": {},
   "source": [
    "TODO: Write comments here"
   ]
  },
  {
   "cell_type": "markdown",
   "metadata": {},
   "source": [
    "### Adaptive Boost"
   ]
  },
  {
   "cell_type": "markdown",
   "metadata": {},
   "source": [
    "#### Basic AdaBoost with Decision Tree"
   ]
  },
  {
   "cell_type": "code",
   "execution_count": 17,
   "metadata": {},
   "outputs": [
    {
     "name": "stdout",
     "output_type": "stream",
     "text": [
      "0.7632058287795993\n",
      "0.81953125\n"
     ]
    }
   ],
   "source": [
    "features_train, features_test, labels_train, labels_test = train_test_split(\n",
    "    features, labels, train_size=0.7, test_size=0.3, random_state=12345) # , random_state=12345\n",
    "# pca_components = 100\n",
    "# tree_pipe = Pipeline(steps=[('scaler', StandardScaler()), \n",
    "#                                   ('pca', PCA(n_components=pca_components)),\n",
    "#                                   #('scaler_1', StandardScaler()),\n",
    "#                                   ('clf', DecisionTreeClassifier(max_depth=1))])\n",
    "# #tree = DecisionTreeClassifier(max_depth=1)\n",
    "# tree_pipe.fit(features_train, labels_train)\n",
    "\n",
    "#SVC(kernel='linear', degree=1, probability=True) # DecisionTreeClassifier(max_depth=1)\n",
    "# tree_pipe = DecisionTreeClassifier(n_estimators)\n",
    "tree = DecisionTreeClassifier(max_depth=1)\n",
    "# tree_pipe.fit(features_train, labels_train)\n",
    "# print(tree_pipe.score(features_test, labels_test))\n",
    "\n",
    "ada_boost_pipeline = Pipeline(steps=[('scaler', StandardScaler()), \n",
    "                                  ('pca', PCA(n_components=150)),\n",
    "                                  ('scaler_1', StandardScaler()),\n",
    "                                  ('clf', AdaBoostClassifier(tree))]) # 250 0.5 -tree\n",
    "                                   # , n_estimators=150,learning_rate=0.35\n",
    "\n",
    "ada_boost_pipeline.fit(features_train, labels_train)\n",
    "print(ada_boost_pipeline.score(features_test, labels_test)) # 0.7644201578627808\n",
    "print(ada_boost_pipeline.score(features_train, labels_train)) # 8169270833333333"
   ]
  },
  {
   "cell_type": "code",
   "execution_count": 18,
   "metadata": {},
   "outputs": [
    {
     "data": {
      "text/plain": [
       "AdaBoostClassifier(algorithm='SAMME.R',\n",
       "          base_estimator=DecisionTreeClassifier(class_weight=None, criterion='gini', max_depth=1,\n",
       "            max_features=None, max_leaf_nodes=None,\n",
       "            min_impurity_decrease=0.0, min_impurity_split=None,\n",
       "            min_samples_leaf=1, min_samples_split=2,\n",
       "            min_weight_fraction_leaf=0.0, presort=False, random_state=None,\n",
       "            splitter='best'),\n",
       "          learning_rate=0.5, n_estimators=100, random_state=42)"
      ]
     },
     "execution_count": 18,
     "metadata": {},
     "output_type": "execute_result"
    }
   ],
   "source": [
    "# Time: ~30 sec\n",
    "ada_boost = AdaBoostClassifier(tree, n_estimators=100,learning_rate=0.5, random_state=42)\n",
    "ada_boost.fit(features_train, labels_train)"
   ]
  },
  {
   "cell_type": "code",
   "execution_count": 19,
   "metadata": {},
   "outputs": [
    {
     "data": {
      "text/plain": [
       "0.8044930176077717"
      ]
     },
     "execution_count": 19,
     "metadata": {},
     "output_type": "execute_result"
    }
   ],
   "source": [
    "ada_boost.score(features_test, labels_test) # 0.8020643594414086"
   ]
  },
  {
   "cell_type": "code",
   "execution_count": 20,
   "metadata": {},
   "outputs": [
    {
     "data": {
      "text/plain": [
       "0.8697916666666666"
      ]
     },
     "execution_count": 20,
     "metadata": {},
     "output_type": "execute_result"
    }
   ],
   "source": [
    "ada_boost.score(features_train, labels_train) # 0.865625"
   ]
  },
  {
   "cell_type": "markdown",
   "metadata": {},
   "source": [
    "#### Tune the AdaBoost parameters\n",
    "Тhis is a very time consuming operation."
   ]
  },
  {
   "cell_type": "code",
   "execution_count": 21,
   "metadata": {},
   "outputs": [
    {
     "name": "stdout",
     "output_type": "stream",
     "text": [
      "267.1334717273712\n"
     ]
    },
    {
     "data": {
      "text/plain": [
       "GridSearchCV(cv=StratifiedKFold(n_splits=3, random_state=None, shuffle=False),\n",
       "       error_score='raise',\n",
       "       estimator=AdaBoostClassifier(algorithm='SAMME.R',\n",
       "          base_estimator=DecisionTreeClassifier(class_weight=None, criterion='gini', max_depth=1,\n",
       "            max_features=None, max_leaf_nodes=None,\n",
       "            min_impurity_decrease=0.0, min_impurity_split=None,\n",
       "            min_samples_leaf=1, min_samples_split=2,\n",
       "            min_weight_fraction_leaf=0.0, presort=False, random_state=None,\n",
       "            splitter='best'),\n",
       "          learning_rate=0.5, n_estimators=100, random_state=42),\n",
       "       fit_params=None, iid=True, n_jobs=6,\n",
       "       param_grid={'n_estimators': [100, 150], 'learning_rate': [0.1, 0.35, 0.5]},\n",
       "       pre_dispatch='2*n_jobs', refit=True, return_train_score=True,\n",
       "       scoring=None, verbose=0)"
      ]
     },
     "execution_count": 21,
     "metadata": {},
     "output_type": "execute_result"
    }
   ],
   "source": [
    "# Time: ~3-4 min\n",
    "start = time.time()\n",
    "params = {'n_estimators':[100, 150], 'learning_rate':[0.1, 0.35, 0.5] } # add 50\n",
    "kfold = StratifiedKFold(n_splits=3)\n",
    "\n",
    "ada_boost_grid_search = GridSearchCV(ada_boost, param_grid=params, cv=kfold, return_train_score=True, n_jobs=6)\n",
    "ada_boost_grid_search.fit(features_train, labels_train)\n",
    "\n",
    "end = time.time()\n",
    "print(end - start)\n",
    "ada_boost_grid_search"
   ]
  },
  {
   "cell_type": "code",
   "execution_count": 22,
   "metadata": {},
   "outputs": [
    {
     "name": "stdout",
     "output_type": "stream",
     "text": [
      "Best params: {'learning_rate': 0.35, 'n_estimators': 150}\n",
      "Test score: 0.8105646630236795\n",
      "Train score: 0.8729166666666667\n"
     ]
    },
    {
     "ename": "NameError",
     "evalue": "name 'print_grid_search_results' is not defined",
     "output_type": "error",
     "traceback": [
      "\u001b[1;31m---------------------------------------------------------------------------\u001b[0m",
      "\u001b[1;31mNameError\u001b[0m                                 Traceback (most recent call last)",
      "\u001b[1;32m<ipython-input-22-74d1a3e5838e>\u001b[0m in \u001b[0;36m<module>\u001b[1;34m()\u001b[0m\n\u001b[0;32m      4\u001b[0m \u001b[0mprint\u001b[0m\u001b[1;33m(\u001b[0m\u001b[1;34m\"Train score: {}\"\u001b[0m\u001b[1;33m.\u001b[0m\u001b[0mformat\u001b[0m\u001b[1;33m(\u001b[0m\u001b[0mada_boost_grid_search\u001b[0m\u001b[1;33m.\u001b[0m\u001b[0mbest_estimator_\u001b[0m\u001b[1;33m.\u001b[0m\u001b[0mscore\u001b[0m\u001b[1;33m(\u001b[0m\u001b[0mfeatures_train\u001b[0m\u001b[1;33m,\u001b[0m \u001b[0mlabels_train\u001b[0m\u001b[1;33m)\u001b[0m\u001b[1;33m)\u001b[0m\u001b[1;33m)\u001b[0m\u001b[1;33m\u001b[0m\u001b[0m\n\u001b[0;32m      5\u001b[0m \u001b[1;31m# 0.88203125\u001b[0m\u001b[1;33m\u001b[0m\u001b[1;33m\u001b[0m\u001b[0m\n\u001b[1;32m----> 6\u001b[1;33m \u001b[0mprint_grid_search_results\u001b[0m\u001b[1;33m(\u001b[0m\u001b[0mada_boost_grid_search\u001b[0m\u001b[1;33m,\u001b[0m \u001b[0msplits\u001b[0m\u001b[1;33m=\u001b[0m\u001b[1;36m3\u001b[0m\u001b[1;33m)\u001b[0m\u001b[1;33m\u001b[0m\u001b[0m\n\u001b[0m\u001b[0;32m      7\u001b[0m \u001b[1;31m# Best params: {'learning_rate': 0.35, 'n_estimators': 150}\u001b[0m\u001b[1;33m\u001b[0m\u001b[1;33m\u001b[0m\u001b[0m\n",
      "\u001b[1;31mNameError\u001b[0m: name 'print_grid_search_results' is not defined"
     ]
    }
   ],
   "source": [
    "print(\"Best params: {}\".format(ada_boost_grid_search.best_params_))\n",
    "print(\"Test score: {}\".format(ada_boost_grid_search.best_estimator_.score(features_test, labels_test))) \n",
    "# 0.8032786885245902\n",
    "print(\"Train score: {}\".format(ada_boost_grid_search.best_estimator_.score(features_train, labels_train))) \n",
    "# 0.88203125\n",
    "print_grid_search_results(ada_boost_grid_search, splits=3)\n",
    "# Best params: {'learning_rate': 0.35, 'n_estimators': 150}"
   ]
  },
  {
   "cell_type": "markdown",
   "metadata": {},
   "source": [
    "### Experimental: attempt to combine models"
   ]
  },
  {
   "cell_type": "code",
   "execution_count": 395,
   "metadata": {},
   "outputs": [],
   "source": [
    "new_features = [np.array([0, 0, 0])]\n",
    "for image in features:\n",
    "    svm = svm_result = grid_search_svm.predict_proba([image])[0][1]\n",
    "    logr = grid_search_logistic_regresion.predict_proba([image])[0][1]\n",
    "    adabst = ada_boost_grid_search.predict_proba([image])[0][1]\n",
    "    \n",
    "    new_features = np.append(new_features, [[svm, logr, adabst]], axis=0)\n",
    "\n",
    "new_features = new_features[1:]"
   ]
  },
  {
   "cell_type": "code",
   "execution_count": 454,
   "metadata": {},
   "outputs": [
    {
     "data": {
      "text/plain": [
       "Pipeline(memory=None,\n",
       "     steps=[('poly', PolynomialFeatures(degree=2, include_bias=True, interaction_only=False)), ('lr', LogisticRegression(C=1.0, class_weight=None, dual=False, fit_intercept=True,\n",
       "          intercept_scaling=1, max_iter=100, multi_class='ovr', n_jobs=1,\n",
       "          penalty='l2', random_state=None, solver='liblinear', tol=0.0001,\n",
       "          verbose=0, warm_start=False))])"
      ]
     },
     "execution_count": 454,
     "metadata": {},
     "output_type": "execute_result"
    }
   ],
   "source": [
    "new_features_train, new_features_test, labels_train, labels_test = train_test_split(\n",
    "    new_features, labels, train_size=0.7, test_size=0.3) # random_state=1234\n",
    "\n",
    "from sklearn.preprocessing import PolynomialFeatures\n",
    "\n",
    "pipe = Pipeline(steps=[('poly', PolynomialFeatures(degree=2)),\n",
    "                       ('lr', LogisticRegression())])\n",
    "\n",
    "pipe.fit(new_features_train, labels_train)"
   ]
  },
  {
   "cell_type": "code",
   "execution_count": 444,
   "metadata": {},
   "outputs": [
    {
     "data": {
      "text/plain": [
       "0.9538554948391014"
      ]
     },
     "execution_count": 444,
     "metadata": {},
     "output_type": "execute_result"
    }
   ],
   "source": [
    "pipe.score(new_features_test, labels_test)"
   ]
  },
  {
   "cell_type": "code",
   "execution_count": 401,
   "metadata": {},
   "outputs": [
    {
     "data": {
      "text/plain": [
       "0.9494791666666667"
      ]
     },
     "execution_count": 401,
     "metadata": {},
     "output_type": "execute_result"
    }
   ],
   "source": [
    "pipe.score(new_features_train, labels_train)"
   ]
  },
  {
   "cell_type": "code",
   "execution_count": 439,
   "metadata": {},
   "outputs": [
    {
     "data": {
      "text/plain": [
       "GridSearchCV(cv=8, error_score='raise',\n",
       "       estimator=Pipeline(memory=None,\n",
       "     steps=[('poly', PolynomialFeatures(degree=2, include_bias=True, interaction_only=False)), ('lr', LogisticRegression(C=1.0, class_weight=None, dual=False, fit_intercept=True,\n",
       "          intercept_scaling=1, max_iter=100, multi_class='ovr', n_jobs=1,\n",
       "          penalty='l2', random_state=None, solver='liblinear', tol=0.0001,\n",
       "          verbose=0, warm_start=False))]),\n",
       "       fit_params=None, iid=True, n_jobs=1, param_grid={'lr__C': [1]},\n",
       "       pre_dispatch='2*n_jobs', refit=True, return_train_score='warn',\n",
       "       scoring=None, verbose=0)"
      ]
     },
     "execution_count": 439,
     "metadata": {},
     "output_type": "execute_result"
    }
   ],
   "source": [
    "grid_search_pipe = GridSearchCV(pipe, param_grid=dict(lr__C = [1]), cv=8)\n",
    "grid_search_pipe.fit(new_features_test, labels_test)"
   ]
  },
  {
   "cell_type": "code",
   "execution_count": 441,
   "metadata": {},
   "outputs": [
    {
     "data": {
      "text/plain": [
       "0.9532483302975107"
      ]
     },
     "execution_count": 441,
     "metadata": {},
     "output_type": "execute_result"
    }
   ],
   "source": [
    "grid_search_pipe.score(new_features_test, labels_test)"
   ]
  },
  {
   "cell_type": "code",
   "execution_count": 432,
   "metadata": {},
   "outputs": [
    {
     "data": {
      "text/plain": [
       "0.94921875"
      ]
     },
     "execution_count": 432,
     "metadata": {},
     "output_type": "execute_result"
    }
   ],
   "source": [
    "grid_search_pipe.score(new_features_train, labels_train)"
   ]
  },
  {
   "cell_type": "code",
   "execution_count": null,
   "metadata": {},
   "outputs": [],
   "source": [
    "grid_search_pipe.best_params_"
   ]
  },
  {
   "cell_type": "code",
   "execution_count": 362,
   "metadata": {},
   "outputs": [],
   "source": [
    "# all_f = poly.fit_transform(features)\n",
    "# lr.score(all_f, labels)\n",
    "grid_search_pipe.best_estimator_.predict_proba()"
   ]
  },
  {
   "cell_type": "code",
   "execution_count": 465,
   "metadata": {
    "scrolled": true
   },
   "outputs": [
    {
     "data": {
      "image/png": "[encoded data removed]",
      "text/plain": [
       "<matplotlib.figure.Figure at 0x17de6430>"
      ]
     },
     "metadata": {},
     "output_type": "display_data"
    }
   ],
   "source": [
    "cv = ShuffleSplit(n_splits=10, test_size=0.1, random_state=0)\n",
    "plot_learning_curve(grid_search_pipe.best_estimator_, \n",
    "                    \"Learning Curves (Experiment)\", \n",
    "                    new_features, labels, ylim=(0.9, 1.), cv=cv, n_jobs=4)\n",
    "plt.show()\n",
    "\n",
    "# experiment_estimator = grid_search_pipe.best_estimator_\n",
    "# roc = plot_roc_curve(experiment_estimator, new_features_test, labels_test, title=\"Experiment\")\n",
    "# roc.show()"
   ]
  },
  {
   "cell_type": "code",
   "execution_count": 466,
   "metadata": {},
   "outputs": [
    {
     "data": {
      "image/png": "[encoded data removed]",
      "text/plain": [
       "<matplotlib.figure.Figure at 0x17de6550>"
      ]
     },
     "metadata": {},
     "output_type": "display_data"
    }
   ],
   "source": [
    "cnf_matrix = confusion_matrix(labels_test, grid_search_pipe.best_estimator_.predict(new_features_test))\n",
    "np.set_printoptions(precision=2)\n",
    "\n",
    "# Plot non-normalized confusion matrix\n",
    "plt.figure()\n",
    "plot_confusion_matrix(cnf_matrix, classes=np.array([\"Males\", \"Females\"]), title='Confusion matrix', normalize=True)\n",
    "plt.show()"
   ]
  },
  {
   "cell_type": "markdown",
   "metadata": {},
   "source": [
    "### Best model selection"
   ]
  },
  {
   "cell_type": "code",
   "execution_count": 118,
   "metadata": {},
   "outputs": [
    {
     "data": {
      "text/html": [
       "<div>\n",
       "<style scoped>\n",
       "    .dataframe tbody tr th:only-of-type {\n",
       "        vertical-align: middle;\n",
       "    }\n",
       "\n",
       "    .dataframe tbody tr th {\n",
       "        vertical-align: top;\n",
       "    }\n",
       "\n",
       "    .dataframe thead th {\n",
       "        text-align: right;\n",
       "    }\n",
       "</style>\n",
       "<table border=\"1\" class=\"dataframe\">\n",
       "  <thead>\n",
       "    <tr style=\"text-align: right;\">\n",
       "      <th></th>\n",
       "      <th>Classificator</th>\n",
       "      <th>Mean test score</th>\n",
       "    </tr>\n",
       "  </thead>\n",
       "  <tbody>\n",
       "    <tr>\n",
       "      <th>2</th>\n",
       "      <td>Gaussian SVM</td>\n",
       "      <td>0.876138</td>\n",
       "    </tr>\n",
       "    <tr>\n",
       "      <th>1</th>\n",
       "      <td>Linear SVM</td>\n",
       "      <td>0.844566</td>\n",
       "    </tr>\n",
       "    <tr>\n",
       "      <th>0</th>\n",
       "      <td>Logistic Regressin</td>\n",
       "      <td>0.839101</td>\n",
       "    </tr>\n",
       "    <tr>\n",
       "      <th>4</th>\n",
       "      <td>AdaBoost with Decision tree</td>\n",
       "      <td>0.810565</td>\n",
       "    </tr>\n",
       "    <tr>\n",
       "      <th>3</th>\n",
       "      <td>Random Forest</td>\n",
       "      <td>0.772313</td>\n",
       "    </tr>\n",
       "  </tbody>\n",
       "</table>\n",
       "</div>"
      ],
      "text/plain": [
       "                 Classificator  Mean test score\n",
       "2                 Gaussian SVM         0.876138\n",
       "1                   Linear SVM         0.844566\n",
       "0           Logistic Regressin         0.839101\n",
       "4  AdaBoost with Decision tree         0.810565\n",
       "3                Random Forest         0.772313"
      ]
     },
     "execution_count": 118,
     "metadata": {},
     "output_type": "execute_result"
    }
   ],
   "source": [
    "# Prints the models ordered by the mean test score\n",
    "logistic_regression_score = grid_search_logistic_regresion.best_estimator_.score(features_test, labels_test)\n",
    "linear_svm_score = grid_search_linear_svm.best_estimator_.score(features_test, labels_test)\n",
    "gaussin_svm_score = grid_search_svm.best_estimator_.score(features_test, labels_test)\n",
    "random_forest_score = grid_search_forest.best_estimator_.score(features_test, labels_test)\n",
    "ada_boost_score = ada_boost_grid_search.best_estimator_.score(features_test, labels_test)\n",
    "\n",
    "res = pd.DataFrame({'Classificator': [\"Logistic Regressin\", \"Linear SVM\", \"Gaussian SVM\", \n",
    "                                \"Random Forest\", \"AdaBoost with Decision tree\"], \n",
    "                   'Mean test score': [logistic_regression_score, linear_svm_score, gaussin_svm_score, \n",
    "                                       random_forest_score, ada_boost_score]})\n",
    "\n",
    "res.sort_values(by='Mean test score', inplace=True, ascending=False)\n",
    "res.head()"
   ]
  },
  {
   "cell_type": "markdown",
   "metadata": {},
   "source": [
    "- **Logistic regression, Linear SVM, Random Forest and AdaBoost**: From the graph of Logistic Regression and Linear SVM, it can be seen that it is difficult to achieve better results even if additional training samples are added. Refinement of parameters also does not work well. Тherefore a larger bias need to be applied. Maybe adding of polynomial features to the Logistic Regression model may work but in this case the features are too many for polynomial regression.\n",
    "\n",
    "\n",
    "- On the other hand, the **Gaussian SVM** model gives the best results and, despite the variation, it seems that adding more samples will decrease it and will increase the test accuracy.\n",
    "\n",
    "На базата на направените k-Fold cross validatin and grid search за най-добрите параметри можем да извадим следното сравнение. От таблицата се вижда, че най-добри резултати е дал SVM with Gaussina kernel. Въпреки, че не е съвсем перфектен и има лека вариция с по-голям брой тренировъчни семпли и по-подробен Grid search биха могли да бъдат постигнати още по-добри резултати т.е. падане на вариацията и качване на test score."
   ]
  },
  {
   "cell_type": "markdown",
   "metadata": {},
   "source": [
    "## Demo"
   ]
  },
  {
   "cell_type": "markdown",
   "metadata": {},
   "source": [
    "### Define an util functions"
   ]
  },
  {
   "cell_type": "code",
   "execution_count": 36,
   "metadata": {},
   "outputs": [],
   "source": [
    "FACE_CASCADE_PATH = './faces_data/face.xml'\n",
    "\n",
    "def predict(image):\n",
    "    \"\"\" \n",
    "    Display the result of several models \n",
    "    If a model does not exists - try to load a saved model from the local storage\n",
    "    If a model exists but is not saved - save a model to a local sotrage\n",
    "    If a model is already saved - use the model from the memory (do not use the saved model)\n",
    "    \"\"\"\n",
    "    svm_model = None\n",
    "    logistic_regression_model = None\n",
    "    ada_boost_model = None\n",
    "    \n",
    "    row_image = image.ravel()\n",
    "    \n",
    "    names = [('grid_search_svm', './svm_model.sav', 'Gaussian SVM model'),\n",
    "             ('grid_search_logistic_regresion', './logistic_regression_model.sav', 'Logistic Regression model'),\n",
    "             ('ada_boost_grid_search', './ada_boost_model.sav', 'AdaBoost model')] \n",
    "    # ('grid_search_pipe', './pipe.sav', 'New model'\n",
    "    res = \"\"\n",
    "    for tuple_name in names:\n",
    "        model_name = tuple_name[0]\n",
    "        location = tuple_name[1]\n",
    "        title = tuple_name[2]\n",
    "        \n",
    "        try:\n",
    "            if not os.path.exists(location) and model_name in globals():\n",
    "                model = (globals()[model_name]).best_estimator_\n",
    "                pickle.dump(model, open(location, 'wb'))\n",
    "                print(\"A model is dumped.\")\n",
    "            elif os.path.exists(location) and not model_name in globals():\n",
    "                model = pickle.load(open(location, 'rb'))\n",
    "                print(\"Warn: A model is loaded from the local storage.\")\n",
    "            elif model_name in globals():\n",
    "                model = (globals()[model_name]).best_estimator_\n",
    "                print(\"A model is used from the memory.\")\n",
    "            else:\n",
    "                print(\"Error: the program can't find a model not in memory or the local storage. \" + \n",
    "                      \"Please build a model first.\")\n",
    "\n",
    "            res += get_result(model.predict_proba([row_image]), title) + \"\\n\\n\"\n",
    "    \n",
    "            ##### Experiment START #####\n",
    "        #     svm = grid_search_svm.predict_proba([row_image])[0][1]\n",
    "        #     lr = grid_search_logistic_regresion.predict_proba([row_image])[0][1]\n",
    "        #     ada = ada_boost_grid_search.predict_proba([row_image])[0][1]\n",
    "\n",
    "        #     experiment = grid_search_pipe.predict_proba([[svm, lr, ada]])\n",
    "        #     res += get_result(experiment, \"Experiment\") + \"\\n\\n\"\n",
    "            ##### Experiment END ##### \n",
    "        except Exception as ex:\n",
    "            if ada_boost_model is None:\n",
    "                print(\"Unable to load AdaBoos model from the local storage. Please, build the model first.\")\n",
    "            print(ex)\n",
    "            \n",
    "    plt.figure()\n",
    "    plt.imshow(image.reshape(40,40), cmap=plt.cm.bone)\n",
    "    plt.annotate(res,xy=(0,0), xytext=(45,20), fontsize=20)    \n",
    "\n",
    "    \n",
    "def get_result(result_proba, title):\n",
    "    \"\"\" Returns a result with model title \"\"\"\n",
    "    if result_proba[0][1] > .5:\n",
    "        res = \"Man({:.2f}%)\".format(result_proba[0][1]*100.)\n",
    "    else:\n",
    "        res =\"Woman({:.2f}%)\".format(result_proba[0][0]*100.)\n",
    "        \n",
    "    return \"{}: {}\".format(title, res)"
   ]
  },
  {
   "cell_type": "markdown",
   "metadata": {},
   "source": [
    "### Recognize faces from camera"
   ]
  },
  {
   "cell_type": "code",
   "execution_count": 33,
   "metadata": {},
   "outputs": [
    {
     "name": "stdout",
     "output_type": "stream",
     "text": [
      "Warn: A model is loaded from the local storage.\n",
      "Warn: A model is loaded from the local storage.\n",
      "A model is used from the memory.\n"
     ]
    },
    {
     "data": {
      "image/png": "[encoded data removed]",
      "text/plain": [
       "<matplotlib.figure.Figure at 0x27b838c6898>"
      ]
     },
     "metadata": {},
     "output_type": "display_data"
    }
   ],
   "source": [
    "def recognize_faces_from_frame():\n",
    "    # data:       https://github.com/opencv/opencv/tree/master/data/haarcascades\n",
    "    # faces, see: https://github.com/opencv/opencv/blob/master/data/haarcascades/haarcascade_frontalface_default.xml\n",
    "    face_cascade = cv2.CascadeClassifier(FACE_CASCADE_PATH)\n",
    "    my_image = None\n",
    "\n",
    "    size = 50\n",
    "\n",
    "    cap = cv2.VideoCapture(0)\n",
    "    is_running = True\n",
    "    while True:\n",
    "        _, frame = cap.read()\n",
    "        gray = cv2.cvtColor(frame, cv2.COLOR_BGR2GRAY)\n",
    "        # looks for faces within the image\n",
    "        faces = face_cascade.detectMultiScale(gray, 1.3, 5)\n",
    "        w = 0 #30\n",
    "        h = 0 #50\n",
    "        for (x, y, width, height) in faces:\n",
    "            # draws a rectangle around the detected face\n",
    "            cv2.rectangle(frame, (x - w, y - h), (x + width + w, y + height + h), (255, 0, 0), 5)\n",
    "            face_gray = gray[(y - h): y + height + h, (x - w): x + width + w]\n",
    "\n",
    "            if cv2.waitKey(1) == ord('q') or not is_running:\n",
    "                resized = cv2.resize(face_gray, dsize=RESIZE_SHAPE, interpolation=cv2.INTER_CUBIC)\n",
    "                try:\n",
    "                    predict(resized)\n",
    "                except Exception as ex:\n",
    "                    print(\"Error: {}\".format(ex))           \n",
    "                is_running = False\n",
    "\n",
    "        cv2.imshow('frame', frame)\n",
    "\n",
    "        if not is_running:\n",
    "            break\n",
    "\n",
    "    cap.release()\n",
    "    cv2.destroyAllWindows()\n",
    "\n",
    "extract_faces_from_frame()"
   ]
  },
  {
   "cell_type": "markdown",
   "metadata": {},
   "source": [
    "### Recognize faces from image"
   ]
  },
  {
   "cell_type": "code",
   "execution_count": 37,
   "metadata": {},
   "outputs": [
    {
     "ename": "TypeError",
     "evalue": "src is not a numpy array, neither a scalar",
     "output_type": "error",
     "traceback": [
      "\u001b[1;31m---------------------------------------------------------------------------\u001b[0m",
      "\u001b[1;31mTypeError\u001b[0m                                 Traceback (most recent call last)",
      "\u001b[1;32m<ipython-input-37-17f86c66c3f3>\u001b[0m in \u001b[0;36m<module>\u001b[1;34m()\u001b[0m\n\u001b[0;32m     14\u001b[0m             \u001b[0mprint\u001b[0m\u001b[1;33m(\u001b[0m\u001b[1;34m\"Error: {}\"\u001b[0m\u001b[1;33m.\u001b[0m\u001b[0mformat\u001b[0m\u001b[1;33m(\u001b[0m\u001b[0mex\u001b[0m\u001b[1;33m)\u001b[0m\u001b[1;33m)\u001b[0m\u001b[1;33m\u001b[0m\u001b[0m\n\u001b[0;32m     15\u001b[0m \u001b[1;33m\u001b[0m\u001b[0m\n\u001b[1;32m---> 16\u001b[1;33m \u001b[0mrecognize_faces_from_image\u001b[0m\u001b[1;33m(\u001b[0m\u001b[1;34m''\u001b[0m\u001b[1;33m)\u001b[0m\u001b[1;33m\u001b[0m\u001b[0m\n\u001b[0m",
      "\u001b[1;32m<ipython-input-37-17f86c66c3f3>\u001b[0m in \u001b[0;36mrecognize_faces_from_image\u001b[1;34m(image)\u001b[0m\n\u001b[0;32m      1\u001b[0m \u001b[1;32mdef\u001b[0m \u001b[0mrecognize_faces_from_image\u001b[0m\u001b[1;33m(\u001b[0m\u001b[0mimage\u001b[0m\u001b[1;33m)\u001b[0m\u001b[1;33m:\u001b[0m\u001b[1;33m\u001b[0m\u001b[0m\n\u001b[0;32m      2\u001b[0m     \u001b[0mface_cascade\u001b[0m \u001b[1;33m=\u001b[0m \u001b[0mcv2\u001b[0m\u001b[1;33m.\u001b[0m\u001b[0mCascadeClassifier\u001b[0m\u001b[1;33m(\u001b[0m\u001b[0mFACE_CASCADE_PATH\u001b[0m\u001b[1;33m)\u001b[0m\u001b[1;33m\u001b[0m\u001b[0m\n\u001b[1;32m----> 3\u001b[1;33m     \u001b[0mgray\u001b[0m \u001b[1;33m=\u001b[0m \u001b[0mcv2\u001b[0m\u001b[1;33m.\u001b[0m\u001b[0mcvtColor\u001b[0m\u001b[1;33m(\u001b[0m\u001b[0mimage\u001b[0m\u001b[1;33m,\u001b[0m \u001b[0mcv2\u001b[0m\u001b[1;33m.\u001b[0m\u001b[0mCOLOR_BGR2GRAY\u001b[0m\u001b[1;33m)\u001b[0m\u001b[1;33m\u001b[0m\u001b[0m\n\u001b[0m\u001b[0;32m      4\u001b[0m     \u001b[0mfaces\u001b[0m \u001b[1;33m=\u001b[0m \u001b[0mface_cascade\u001b[0m\u001b[1;33m.\u001b[0m\u001b[0mdetectMultiScale\u001b[0m\u001b[1;33m(\u001b[0m\u001b[0mgray\u001b[0m\u001b[1;33m,\u001b[0m \u001b[1;36m1.3\u001b[0m\u001b[1;33m,\u001b[0m \u001b[1;36m5\u001b[0m\u001b[1;33m)\u001b[0m\u001b[1;33m\u001b[0m\u001b[0m\n\u001b[0;32m      5\u001b[0m     \u001b[0mw\u001b[0m \u001b[1;33m=\u001b[0m \u001b[1;36m0\u001b[0m\u001b[1;33m\u001b[0m\u001b[0m\n",
      "\u001b[1;31mTypeError\u001b[0m: src is not a numpy array, neither a scalar"
     ]
    }
   ],
   "source": [
    "def recognize_faces_from_image(image):\n",
    "    face_cascade = cv2.CascadeClassifier(FACE_CASCADE_PATH)\n",
    "    gray = cv2.cvtColor(image, cv2.COLOR_BGR2GRAY)\n",
    "    faces = face_cascade.detectMultiScale(gray, 1.3, 5)\n",
    "    w = 0\n",
    "    h = 0\n",
    "    for (x, y, width, height) in faces:\n",
    "        cv2.rectangle(frame, (x - w, y - h), (x + width + w, y + height + h), (255, 0, 0), 5)\n",
    "        face_gray = gray[(y - h): y + height + h, (x - w): x + width + w]\n",
    "        resized = cv2.resize(face_gray, dsize=RESIZE_SHAPE, interpolation=cv2.INTER_CUBIC)\n",
    "        try:\n",
    "            predict(resized)\n",
    "        except Exception as ex:\n",
    "            print(\"Error: {}\".format(ex))\n",
    "\n",
    "recognize_faces_from_image('')        "
   ]
  },
  {
   "cell_type": "code",
   "execution_count": null,
   "metadata": {},
   "outputs": [],
   "source": []
  }
 ],
 "metadata": {
  "kernelspec": {
   "display_name": "Python 3",
   "language": "python",
   "name": "python3"
  },
  "language_info": {
   "codemirror_mode": {
    "name": "ipython",
    "version": 3
   },
   "file_extension": ".py",
   "mimetype": "text/x-python",
   "name": "python",
   "nbconvert_exporter": "python",
   "pygments_lexer": "ipython3",
   "version": "3.6.4"
  }
 },
 "nbformat": 4,
 "nbformat_minor": 2
}
